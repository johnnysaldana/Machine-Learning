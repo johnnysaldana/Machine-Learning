{
 "cells": [
  {
   "cell_type": "code",
   "execution_count": 1,
   "metadata": {
    "collapsed": true
   },
   "outputs": [],
   "source": [
    "import numpy as np"
   ]
  },
  {
   "cell_type": "code",
   "execution_count": 2,
   "metadata": {
    "collapsed": true
   },
   "outputs": [],
   "source": [
    "# loads the tiled genome name file\n",
    "\n",
    "arr = np.load('names.npy')\n",
    "arrlst = np.ndarray.tolist(arr)"
   ]
  },
  {
   "cell_type": "code",
   "execution_count": 3,
   "metadata": {},
   "outputs": [
    {
     "name": "stdout",
     "output_type": "stream",
     "text": [
      "218\n"
     ]
    }
   ],
   "source": [
    "# formats a single tile\n",
    "\n",
    "def format(npint):\n",
    "    s = \"\"\n",
    "    string = str(npint)\n",
    "    for char in range(len(string)):\n",
    "        if string[char] == \"-\":\n",
    "            break\n",
    "        elif string[char] != \"b\" and string[char] != \"'\":\n",
    "            s += string[char]\n",
    "        else:\n",
    "            pass\n",
    "    return s\n",
    "\n",
    "\n",
    "\n",
    "# runs formatting on all names\n",
    "\n",
    "def formatall():\n",
    "\n",
    "    tiled_partic = [] \n",
    "    for i in range(len(arrlst)):\n",
    "        tiled_partic.append(format(arrlst[i]))\n",
    "        \n",
    "    return tiled_partic\n",
    "\n",
    "\n",
    "\n",
    "tiled_names = formatall()\n",
    "\n",
    "print(len(tiled_names))"
   ]
  },
  {
   "cell_type": "code",
   "execution_count": 10,
   "metadata": {},
   "outputs": [
    {
     "name": "stdout",
     "output_type": "stream",
     "text": [
      "Myopia Participants: 181\n"
     ]
    }
   ],
   "source": [
    "# opens the PGP survey and dumps the participant list filtering non responses and duplicates\n",
    "\n",
    "import csv \n",
    "with open('pgp_myopia.csv', newline='') as myopia:\n",
    "    reader = csv.DictReader(myopia)\n",
    "    myopia_names = []\n",
    "    for row in reader:\n",
    "        myopia_names.append(row['name'])\n",
    "        \n",
    "\n",
    "def removedoubles(seq):\n",
    "    seen = set()\n",
    "    seen_add = seen.add\n",
    "    return [x for x in seq if not (x in seen or seen_add(x))]\n",
    "\n",
    "\n",
    "# takes out names that occur both in pgp survey and tiled genome list\n",
    "myopia_names = [x for x in myopia_names if x in tiled_names]\n",
    "\n",
    "myopia_names_unfil = myopia_names\n",
    "myopia_names = removedoubles(myopia_names)        \n",
    "print(\"Myopia Participants:\",len(myopia_names))"
   ]
  },
  {
   "cell_type": "code",
   "execution_count": 11,
   "metadata": {
    "collapsed": true
   },
   "outputs": [],
   "source": [
    "# finds repeat values and puts them in a list\n",
    "\n",
    "seen = set()\n",
    "repeats = []\n",
    "for x in myopia_names_unfil:\n",
    "    if x in seen:\n",
    "        repeats.append(x)\n",
    "    else:\n",
    "        seen.add(x)"
   ]
  },
  {
   "cell_type": "code",
   "execution_count": 14,
   "metadata": {},
   "outputs": [
    {
     "name": "stdout",
     "output_type": "stream",
     "text": [
      "27\n"
     ]
    }
   ],
   "source": [
    "# makes a list of names that are in both the PGP survey name list and the tiled genomes list\n",
    "\n",
    "print(len(repeats))\n"
   ]
  },
  {
   "cell_type": "code",
   "execution_count": 24,
   "metadata": {},
   "outputs": [
    {
     "name": "stdout",
     "output_type": "stream",
     "text": [
      "208\n",
      "[1, 1, 1, 1, 1, 0, 1, 1, 0, 1, 1, 1, 1, 1, 1, 1, 1, 1, 1, 0, 0, 1, 1, 0, 0, 1, 1, 0, 1, 1, 1, 1, 0, 1, 1, 0, 0, 1, 0, 1, 0, 1, 1, 1, 1, 0, 1, 0, 1, 1, 0, 1, 0, 1, 1, 1, 1, 1, 1, 1, 1, 0, 1, 1, 1, 1, 0, 0, 0, 0, 0, 1, 0, 1, 1, 0, 1, 0, 0, 1, 1, 1, 0, 1, 0, 0, 0, 0, 0, 0, 1, 1, 1, 1, 0, 0, 0, 1, 1, 0, 0, 0, 1, 1, 1, 1, 1, 0, 0, 1, 0, 1, 0, 0, 1, 0, 1, 1, 0, 1, 0, 1, 0, 1, 1, 1, 1, 1, 0, 0, 1, 0, 1, 0, 1, 0, 0, 1, 1, 1, 0, 1, 0, 1, 0, 1, 1, 1, 1, 0, 0, 0, 1, 1, 1, 1, 1, 1, 0, 1, 0, 1, 0, 1, 1, 0, 1, 0, 0, 1, 0, 0, 0, 1, 0, 0, 1, 1, 0, 0, 0]\n",
      "rows: 181\n",
      "Has Myopia: 107\n",
      "Doesn't have Myopia 74\n"
     ]
    }
   ],
   "source": [
    "#takes in condition values and converts to binary 0 and 1 where 0 is blue and 1 is not blue\n",
    "    \n",
    "\n",
    "def to_bnry(condition):\n",
    "    if \"Myopia\" in condition:\n",
    "        return 1\n",
    "    else:\n",
    "        return 0\n",
    " \n",
    "bnry_list = []\n",
    "seen_partic = []\n",
    "with open('pgp_myopia.csv', newline='') as inp:\n",
    "    reader = csv.DictReader(inp) \n",
    "    condition = \"\"\n",
    "    for row in reader:\n",
    "        if row['name'] in myopia_names:\n",
    "            #print(row['name'])\n",
    "            condition = row['condition']      \n",
    "            if row['name'] in seen_partic:\n",
    "                pass\n",
    "            else:\n",
    "               # print(bnry)\n",
    "                bnry_list.append(to_bnry(condition))\n",
    "            seen_partic.append(row['name'])\n",
    "                    \n",
    "        else:\n",
    "            pass\n",
    "                \n",
    "    bnry = bnry_list\n",
    "\n",
    "print(len(seen_partic))\n",
    "print(bnry)\n",
    "\n",
    "print(\"rows:\", len(bnry))\n",
    "\n",
    "matches = [x for x in bnry if x == 1]\n",
    "\n",
    "print(\"Has Myopia:\", len(matches))\n",
    "\n",
    "print(\"Doesn't have Myopia\", len(bnry) -len(matches) )\n"
   ]
  },
  {
   "cell_type": "code",
   "execution_count": 25,
   "metadata": {
    "collapsed": true
   },
   "outputs": [],
   "source": [
    "# load the pgp names as numpy array\n",
    "names = np.load(\"names.npy\")\n",
    "\n",
    "# load the pgp genomes as numpy array\n",
    "pgp = np.load(\"hiq-pgp.npy\")"
   ]
  },
  {
   "cell_type": "code",
   "execution_count": 29,
   "metadata": {},
   "outputs": [
    {
     "data": {
      "text/plain": [
       "(181, 2469062)"
      ]
     },
     "execution_count": 29,
     "metadata": {},
     "output_type": "execute_result"
    }
   ],
   "source": [
    "# keeps only the particpants of the disease survey from the pgp array and\n",
    "# discards the rest\n",
    "\n",
    "filtered_pgp = []\n",
    "name_list = []\n",
    "for i in range(len(pgp)):\n",
    "    if format(names[i]) in myopia_names and format(names[i]) not in name_list:\n",
    "        filtered_pgp.append(pgp[i])\n",
    "        name_list.append(format(names[i]))\n",
    "    else:\n",
    "        pass\n",
    "    \n",
    "filtered_pgp = np.asarray(filtered_pgp)\n",
    "\n",
    "filtered_pgp.shape"
   ]
  },
  {
   "cell_type": "code",
   "execution_count": 30,
   "metadata": {
    "collapsed": true
   },
   "outputs": [],
   "source": [
    "filtered_pgp.dump(\"pgp_filtered_myopia.pkl\")"
   ]
  },
  {
   "cell_type": "code",
   "execution_count": 31,
   "metadata": {
    "collapsed": true
   },
   "outputs": [],
   "source": [
    "# writes the binary list to a csv file\n",
    "\n",
    "import csv\n",
    "l = list(map(str, bnry))\n",
    "\n",
    "out = open('bnry_myopia.csv', 'w')\n",
    "for row in l:\n",
    "    for column in row:\n",
    "        out.write(column)\n",
    "    out.write('\\n')\n",
    "out.close()"
   ]
  }
 ],
 "metadata": {
  "kernelspec": {
   "display_name": "Python 3",
   "language": "python",
   "name": "python3"
  },
  "language_info": {
   "codemirror_mode": {
    "name": "ipython",
    "version": 3
   },
   "file_extension": ".py",
   "mimetype": "text/x-python",
   "name": "python",
   "nbconvert_exporter": "python",
   "pygments_lexer": "ipython3",
   "version": "3.6.1"
  }
 },
 "nbformat": 4,
 "nbformat_minor": 2
}
