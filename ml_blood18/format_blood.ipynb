{
 "cells": [
  {
   "cell_type": "code",
   "execution_count": 56,
   "metadata": {
    "collapsed": true
   },
   "outputs": [],
   "source": [
    "import numpy as np"
   ]
  },
  {
   "cell_type": "code",
   "execution_count": 55,
   "metadata": {
    "collapsed": true
   },
   "outputs": [],
   "source": [
    "# loads the tiled genome name file\n",
    "\n",
    "arr = np.load('names.npy')\n",
    "arrlst = np.ndarray.tolist(arr)"
   ]
  },
  {
   "cell_type": "code",
   "execution_count": 4,
   "metadata": {},
   "outputs": [
    {
     "name": "stdout",
     "output_type": "stream",
     "text": [
      "218\n"
     ]
    }
   ],
   "source": [
    "# formats a single tile\n",
    "\n",
    "def format(npint):\n",
    "    s = \"\"\n",
    "    string = str(npint)\n",
    "    for char in range(len(string)):\n",
    "        if string[char] == \"-\":\n",
    "            break\n",
    "        elif string[char] != \"b\" and string[char] != \"'\":\n",
    "            s += string[char]\n",
    "        else:\n",
    "            pass\n",
    "    return s\n",
    "\n",
    "\n",
    "\n",
    "# runs formatting on all names\n",
    "\n",
    "def formatall():\n",
    "\n",
    "    tiled_partic = [] \n",
    "    for i in range(len(arrlst)):\n",
    "        tiled_partic.append(format(arrlst[i]))\n",
    "        \n",
    "    return tiled_partic\n",
    "\n",
    "\n",
    "\n",
    "tiled_names = formatall()\n",
    "\n",
    "print(len(tiled_names))"
   ]
  },
  {
   "cell_type": "code",
   "execution_count": 41,
   "metadata": {},
   "outputs": [
    {
     "name": "stdout",
     "output_type": "stream",
     "text": [
      "blood Participants: 65\n"
     ]
    }
   ],
   "source": [
    "# opens the PGP survey and dumps the participant list filtering non responses and duplicates\n",
    "\n",
    "import csv \n",
    "with open(\"pgp_blood.csv\", newline='') as blood:\n",
    "    reader = csv.DictReader(blood)\n",
    "    blood_names = []\n",
    "    for row in reader:\n",
    "        if row[\"blood\"] == \"\":\n",
    "            pass\n",
    "        elif row[\"blood\"] == \"Don't know\":\n",
    "            pass\n",
    "        else:\n",
    "            blood_names.append(row[\"name\"])\n",
    "        \n",
    "\n",
    "def removedoubles(seq):\n",
    "    seen = set()\n",
    "    seen_add = seen.add\n",
    "    return [x for x in seq if not (x in seen or seen_add(x))]\n",
    "\n",
    "\n",
    "# takes out names that occur both in pgp survey and tiled genome list\n",
    "blood_names = [x for x in blood_names if x in tiled_names]\n",
    "\n",
    "blood_names_unfil = blood_names\n",
    "blood_names = removedoubles(blood_names)        \n",
    "print(\"blood Participants:\",len(blood_names))"
   ]
  },
  {
   "cell_type": "code",
   "execution_count": 42,
   "metadata": {
    "collapsed": true
   },
   "outputs": [],
   "source": [
    "# finds repeat values and puts them in a list\n",
    "\n",
    "seen = set()\n",
    "repeats = []\n",
    "for x in blood_names_unfil:\n",
    "    if x in seen:\n",
    "        repeats.append(x)\n",
    "    else:\n",
    "        seen.add(x)"
   ]
  },
  {
   "cell_type": "code",
   "execution_count": 43,
   "metadata": {},
   "outputs": [
    {
     "name": "stdout",
     "output_type": "stream",
     "text": [
      "4\n"
     ]
    }
   ],
   "source": [
    "# makes a list of names that are in both the PGP survey name list and the tiled genomes list\n",
    "\n",
    "print(len(repeats))\n"
   ]
  },
  {
   "cell_type": "code",
   "execution_count": null,
   "metadata": {
    "collapsed": true
   },
   "outputs": [],
   "source": [
    "# removes participants that didn't respond"
   ]
  },
  {
   "cell_type": "code",
   "execution_count": 49,
   "metadata": {},
   "outputs": [
    {
     "name": "stdout",
     "output_type": "stream",
     "text": [
      "AB +\n",
      "A +\n",
      "O +\n",
      "A -\n",
      "O +\n",
      "A +\n",
      "A +\n",
      "O +\n",
      "B +\n",
      "A +\n",
      "B +\n",
      "A +\n",
      "O +\n",
      "A +\n",
      "A -\n",
      "A +\n",
      "B +\n",
      "O +\n",
      "O +\n",
      "B +\n",
      "O +\n",
      "A +\n",
      "A +\n",
      "O +\n",
      "B +\n",
      "B +\n",
      "O +\n",
      "A +\n",
      "O +\n",
      "O -\n",
      "O +\n",
      "A +\n",
      "O +\n",
      "O +\n",
      "O +\n",
      "O +\n",
      "A +\n",
      "A +\n",
      "A +\n",
      "A +\n",
      "AB +\n",
      "O +\n",
      "A +\n",
      "O +\n",
      "A +\n",
      "O +\n",
      "A -\n",
      "O +\n",
      "O -\n",
      "O +\n",
      "O -\n",
      "B -\n",
      "B +\n",
      "O +\n",
      "A +\n",
      "A +\n",
      "A +\n",
      "A +\n",
      "AB -\n",
      "O +\n",
      "A +\n",
      "A +\n",
      "O +\n",
      "A +\n",
      "O -\n",
      "O -\n",
      "A +\n",
      "B +\n",
      "A +\n",
      "69\n",
      "[0, 0, 0, 1, 0, 0, 0, 0, 0, 0, 0, 0, 0, 0, 1, 0, 0, 0, 0, 0, 0, 0, 0, 0, 0, 0, 0, 0, 1, 0, 0, 0, 0, 0, 0, 0, 0, 0, 0, 0, 0, 0, 0, 0, 1, 0, 1, 0, 1, 1, 0, 0, 0, 0, 0, 0, 1, 0, 0, 0, 1, 1, 0, 0, 0]\n",
      "rows: 65\n",
      "Has +: 10\n",
      "Doesn't have + 55\n"
     ]
    }
   ],
   "source": [
    "#takes in blood values and converts to binary 0 and 1 where 0 is blue and 1 is not blue\n",
    "    \n",
    "\n",
    "def to_bnry(blood):\n",
    "    if \"-\" in blood:\n",
    "        return 1\n",
    "    else:\n",
    "        return 0\n",
    " \n",
    "bnry_list = []\n",
    "seen_partic = []\n",
    "with open('pgp_blood.csv', newline='') as inp:\n",
    "    reader = csv.DictReader(inp) \n",
    "    blood = \"\"\n",
    "    for row in reader:\n",
    "        if row['name'] in blood_names:\n",
    "            print(row['blood'])\n",
    "            blood = row['blood']      \n",
    "            if row['name'] in seen_partic:\n",
    "                pass\n",
    "            else:\n",
    "               # print(bnry)\n",
    "                bnry_list.append(to_bnry(blood))\n",
    "            seen_partic.append(row['name'])\n",
    "                    \n",
    "        else:\n",
    "            pass\n",
    "                \n",
    "    bnry = bnry_list\n",
    "\n",
    "print(len(seen_partic))\n",
    "print(bnry)\n",
    "\n",
    "print(\"rows:\", len(bnry))\n",
    "\n",
    "matches = [x for x in bnry if x == 1]\n",
    "\n",
    "print(\"Has +:\", len(matches))\n",
    "\n",
    "print(\"Doesn't have +\", len(bnry) -len(matches) )\n"
   ]
  },
  {
   "cell_type": "code",
   "execution_count": 45,
   "metadata": {
    "collapsed": true
   },
   "outputs": [],
   "source": [
    "# load the pgp names as numpy array\n",
    "names = np.load(\"names.npy\")\n",
    "\n",
    "# load the pgp genomes as numpy array\n",
    "pgp = np.load(\"hiq-pgp.npy\")"
   ]
  },
  {
   "cell_type": "code",
   "execution_count": 50,
   "metadata": {},
   "outputs": [
    {
     "data": {
      "text/plain": [
       "(65, 2469062)"
      ]
     },
     "execution_count": 50,
     "metadata": {},
     "output_type": "execute_result"
    }
   ],
   "source": [
    "# keeps only the particpants of the disease survey from the pgp array and\n",
    "# discards the rest\n",
    "\n",
    "filtered_pgp = []\n",
    "name_list = []\n",
    "for i in range(len(pgp)):\n",
    "    if format(names[i]) in blood_names and format(names[i]) not in name_list:\n",
    "        filtered_pgp.append(pgp[i])\n",
    "        name_list.append(format(names[i]))\n",
    "    else:\n",
    "        pass\n",
    "    \n",
    "filtered_pgp = np.asarray(filtered_pgp)\n",
    "\n",
    "filtered_pgp.shape"
   ]
  },
  {
   "cell_type": "code",
   "execution_count": 52,
   "metadata": {
    "collapsed": true
   },
   "outputs": [],
   "source": [
    "filtered_pgp.dump(\"pgp_filtered_blood-.pkl\")"
   ]
  },
  {
   "cell_type": "code",
   "execution_count": 53,
   "metadata": {
    "collapsed": true
   },
   "outputs": [],
   "source": [
    "# writes the binary list to a csv file\n",
    "\n",
    "import csv\n",
    "l = list(map(str, bnry))\n",
    "\n",
    "out = open('bnry_blood-.csv', 'w')\n",
    "for row in l:\n",
    "    for column in row:\n",
    "        out.write(column)\n",
    "    out.write('\\n')\n",
    "out.close()"
   ]
  }
 ],
 "metadata": {
  "kernelspec": {
   "display_name": "Python 3",
   "language": "python",
   "name": "python3"
  },
  "language_info": {
   "codemirror_mode": {
    "name": "ipython",
    "version": 3
   },
   "file_extension": ".py",
   "mimetype": "text/x-python",
   "name": "python",
   "nbconvert_exporter": "python",
   "pygments_lexer": "ipython3",
   "version": "3.6.1"
  }
 },
 "nbformat": 4,
 "nbformat_minor": 2
}
