{
 "cells": [
  {
   "cell_type": "code",
   "execution_count": 1,
   "metadata": {
    "collapsed": true
   },
   "outputs": [],
   "source": [
    "#################################### formats the pgp survey for machine learning ################################"
   ]
  },
  {
   "cell_type": "code",
   "execution_count": 2,
   "metadata": {
    "collapsed": true
   },
   "outputs": [],
   "source": [
    "import numpy as np"
   ]
  },
  {
   "cell_type": "code",
   "execution_count": 6,
   "metadata": {},
   "outputs": [],
   "source": [
    "# load the pgp names as numpy array\n",
    "names = np.load(\"C:\\\\Users\\\\j\\\\Desktop\\\\tiling_rep\\\\names.npy\")\n",
    "\n",
    "# load pgp array to a list\n",
    "names_lst = np.ndarray.tolist(names)\n",
    "\n",
    "# load the pgp genomes as numpy array\n",
    "pgp = np.load(\"C:\\\\Users\\\\j\\\\Desktop\\\\tiling_rep\\\\hiq-pgp.npy\")\n",
    "\n",
    "# creates an empty blood csv file to be used later\n",
    "out = open(\"bnry_blood.csv\", \"w\")\n",
    "out.close()"
   ]
  },
  {
   "cell_type": "code",
   "execution_count": 7,
   "metadata": {},
   "outputs": [
    {
     "name": "stdout",
     "output_type": "stream",
     "text": [
      "218\n"
     ]
    }
   ],
   "source": [
    "# formats a single tile by cleaning the name to make it more readable\n",
    "\n",
    "def format(npint):\n",
    "    s = \"\"\n",
    "    string = str(npint)\n",
    "    for char in range(len(string)):\n",
    "        if string[char] == \"-\":\n",
    "            break\n",
    "        elif string[char] != \"b\" and string[char] != \"'\":\n",
    "            s += string[char]\n",
    "        else:\n",
    "            pass\n",
    "    return s\n",
    "\n",
    "\n",
    "\n",
    "# runs formatting on all names\n",
    "\n",
    "def formatall():\n",
    "\n",
    "    tiled_partic = [] \n",
    "    for i in range(len(names_lst)):\n",
    "        tiled_partic.append(format(names_lst[i]))\n",
    "        \n",
    "    return tiled_partic\n",
    "\n",
    "\n",
    "\n",
    "tiled_names = formatall()\n",
    "\n",
    "print(len(tiled_names))"
   ]
  },
  {
   "cell_type": "code",
   "execution_count": 8,
   "metadata": {},
   "outputs": [
    {
     "name": "stdout",
     "output_type": "stream",
     "text": [
      "Blood Survey Participants: 65\n"
     ]
    }
   ],
   "source": [
    "# opens the PGP survey and dumps the participant list filtering non responses and duplicates\n",
    "\n",
    "import csv \n",
    "with open(\"pgp_blood18.csv\", newline='') as blood:\n",
    "    reader = csv.DictReader(blood)\n",
    "    blood_names = []\n",
    "    for row in reader:\n",
    "        if row[\"blood\"] == \"\":\n",
    "            pass\n",
    "        elif row[\"blood\"] == \"Don't know\":\n",
    "            pass\n",
    "        else:\n",
    "            blood_names.append(row[\"name\"])\n",
    "        \n",
    "\n",
    "def removedoubles(seq):\n",
    "    seen = set()\n",
    "    seen_add = seen.add\n",
    "    return [x for x in seq if not (x in seen or seen_add(x))]\n",
    "\n",
    "\n",
    "# takes out names that occur both in pgp survey and tiled genome list\n",
    "blood_names = [x for x in blood_names if x in tiled_names]\n",
    "\n",
    "blood_names_unfil = blood_names\n",
    "blood_names = removedoubles(blood_names) \n",
    "\n",
    "print(\"Blood Survey Participants:\",len(blood_names))"
   ]
  },
  {
   "cell_type": "code",
   "execution_count": 9,
   "metadata": {
    "collapsed": true
   },
   "outputs": [],
   "source": [
    "# finds repeat values and puts them in a list\n",
    "\n",
    "seen = set()\n",
    "repeats = []\n",
    "for x in blood_names_unfil:\n",
    "    if x in seen:\n",
    "        repeats.append(x)\n",
    "    else:\n",
    "        seen.add(x)"
   ]
  },
  {
   "cell_type": "code",
   "execution_count": 10,
   "metadata": {},
   "outputs": [
    {
     "name": "stdout",
     "output_type": "stream",
     "text": [
      "4\n"
     ]
    }
   ],
   "source": [
    "# makes a list of names that are in both the PGP survey name list and the tiled genomes list\n",
    "\n",
    "print(len(repeats))\n"
   ]
  },
  {
   "cell_type": "code",
   "execution_count": 22,
   "metadata": {},
   "outputs": [
    {
     "name": "stdout",
     "output_type": "stream",
     "text": [
      "[1, 1, 1, 0, 1, 1, 1, 1, 1, 1, 1, 1, 1, 1, 0, 1, 1, 1, 1, 1, 1, 1, 1, 1, 1, 1, 1, 1, 0, 1, 1, 1, 1, 1, 1, 1, 1, 1, 1, 1, 1, 1, 1, 1, 0, 1, 0, 1, 0, 0, 1, 1, 1, 1, 1, 1, 0, 1, 1, 1, 0, 0, 1, 1, 1]\n",
      "rows: 65\n",
      "+  : 55\n",
      "not +  : 10\n"
     ]
    }
   ],
   "source": [
    "# takes in blood values and converts to a binary 1 or 0 format\n",
    "\n",
    "# list of blood types for readability\n",
    "blood_type_lst = []\n",
    "\n",
    "# enter the survey condition here\n",
    "condition = \"+\"\n",
    "\n",
    "\n",
    "def to_bnry(field):\n",
    "    if condition in field:\n",
    "        return 1\n",
    "    else:\n",
    "        return 0\n",
    " \n",
    "\n",
    "# creates a list of numbers 1 or 0 that represent whether the condition in to_bnry was met or not\n",
    "bnry_list = []\n",
    "seen_partic = []\n",
    "with open('pgp_blood18.csv', newline='') as inp:\n",
    "    reader = csv.DictReader(inp) \n",
    "    blood = \"\"\n",
    "    for row in reader:\n",
    "        if row['name'] in blood_names:\n",
    "            blood = row['blood']   \n",
    "            if row['name'] in seen_partic:\n",
    "                pass\n",
    "            else:\n",
    "                bnry_list.append(to_bnry(blood))\n",
    "                blood_type_lst.append(blood)\n",
    "            seen_partic.append(row['name'])\n",
    "                  \n",
    "        else:\n",
    "            pass\n",
    "                \n",
    "bnry = bnry_list\n",
    "\n",
    "print(bnry)\n",
    "\n",
    "print(\"rows:\", len(bnry))\n",
    "\n",
    "matches = [x for x in bnry if x == 1]\n",
    "\n",
    "print(condition, \" :\", len(matches))\n",
    "\n",
    "print(\"not\",condition, \" :\", len(bnry) -len(matches) )\n"
   ]
  },
  {
   "cell_type": "code",
   "execution_count": 23,
   "metadata": {},
   "outputs": [
    {
     "data": {
      "text/plain": [
       "(65, 2469062)"
      ]
     },
     "execution_count": 23,
     "metadata": {},
     "output_type": "execute_result"
    }
   ],
   "source": [
    "# keeps only the particpants of the disease survey from the pgp array and\n",
    "# discards the rest\n",
    "\n",
    "filtered_pgp = []\n",
    "name_list = []\n",
    "for i in range(len(pgp)):\n",
    "    if format(names[i]) in blood_names and format(names[i]) not in name_list:\n",
    "        filtered_pgp.append(pgp[i])\n",
    "        name_list.append(format(names[i]))\n",
    "    else:\n",
    "        pass\n",
    "    \n",
    "filtered_pgp = np.asarray(filtered_pgp)\n",
    "\n",
    "filtered_pgp.shape"
   ]
  },
  {
   "cell_type": "code",
   "execution_count": 24,
   "metadata": {
    "collapsed": true
   },
   "outputs": [],
   "source": [
    "# writes the binary lists to a csv file\n",
    "\n",
    "import csv\n",
    "l = list(map(str, bnry))\n",
    "\n",
    "output_name = \"bnry_blood_\" + str(condition) + \".csv\"\n",
    "out = open(output_name, \"w\")\n",
    "for row in l:\n",
    "    for column in row:\n",
    "        out.write(column)\n",
    "    out.write(\"\\n\")\n",
    "out.close()"
   ]
  },
  {
   "cell_type": "code",
   "execution_count": 26,
   "metadata": {},
   "outputs": [],
   "source": [
    "# writes the list of blood types to a csv file\n",
    "\n",
    "import csv\n",
    "l = blood_type_lst\n",
    "\n",
    "output_name = \"bnry_blood_type_lst.csv\"\n",
    "out = open(output_name, \"w\")\n",
    "for row in l:\n",
    "    for column in row:\n",
    "        out.write(column)\n",
    "    out.write(\"\\n\")\n",
    "out.close()"
   ]
  },
  {
   "cell_type": "code",
   "execution_count": 27,
   "metadata": {
    "collapsed": true
   },
   "outputs": [],
   "source": [
    "filtered_pgp.dump(\"pgp_filtered_blood.pkl\")"
   ]
  }
 ],
 "metadata": {
  "kernelspec": {
   "display_name": "Python 3",
   "language": "python",
   "name": "python3"
  },
  "language_info": {
   "codemirror_mode": {
    "name": "ipython",
    "version": 3
   },
   "file_extension": ".py",
   "mimetype": "text/x-python",
   "name": "python",
   "nbconvert_exporter": "python",
   "pygments_lexer": "ipython3",
   "version": "3.6.1"
  }
 },
 "nbformat": 4,
 "nbformat_minor": 2
}
