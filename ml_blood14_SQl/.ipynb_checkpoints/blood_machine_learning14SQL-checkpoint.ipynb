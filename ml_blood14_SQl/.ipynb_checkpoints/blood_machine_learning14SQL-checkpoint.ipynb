{
 "cells": [
  {
   "cell_type": "code",
   "execution_count": 63,
   "metadata": {
    "collapsed": true
   },
   "outputs": [],
   "source": [
    "import numpy as np\n",
    "import pandas as pd\n",
    "import matplotlib.pyplot as plt"
   ]
  },
  {
   "cell_type": "code",
   "execution_count": 67,
   "metadata": {},
   "outputs": [
    {
     "name": "stdout",
     "output_type": "stream",
     "text": [
      "        name  type  A  B  -  +\n",
      "0   hu826751  AB +  1  1  0  1\n",
      "1   hu3DC5EA   A +  1  0  0  1\n",
      "2   hu0D1FA1   O +  0  0  0  1\n",
      "3   huAEADC0   A -  1  0  1  0\n",
      "4   hu2D6140   O +  0  0  0  1\n",
      "5   hu2C1D94   A +  1  0  0  1\n",
      "6   hu60180F   A +  1  0  0  1\n",
      "7   huDE435D   O +  0  0  0  1\n",
      "8   huA05317   B +  0  1  0  1\n",
      "9   hu6C733E   A +  1  0  0  1\n",
      "10  huDBF9DD   B +  0  1  0  1\n",
      "11  hu627574   O +  0  0  0  1\n",
      "12  hu7123C1   A +  1  0  0  1\n",
      "13  huC14AE1   A -  1  0  1  0\n",
      "14  hu76CAA5   A +  1  0  0  1\n",
      "15  huF83462   B +  0  1  0  1\n",
      "16  huC5733C   O +  0  0  0  1\n",
      "17  hu5962F5   O +  0  0  0  1\n",
      "18  hu04F220   B +  0  1  0  1\n",
      "19  huDBD591   O +  0  0  0  1\n",
      "20  hu599905   A +  1  0  0  1\n",
      "21  hu5CD2C6   A +  1  0  0  1\n",
      "22  huA4E2CF   B +  0  1  0  1\n",
      "23  hu3C0611   B +  0  1  0  1\n",
      "24  huEC6EEC   O +  0  0  0  1\n",
      "25  hu67EBB3   A +  1  0  0  1\n",
      "26  hu8E2A35   O +  0  0  0  1\n",
      "27  hu620F18   O -  0  0  1  0\n",
      "28  hu602487   O +  0  0  0  1\n",
      "29  huF1DC30   A +  1  0  0  1\n",
      "..       ...   ... .. .. .. ..\n",
      "34  hu24C863   A +  1  0  0  1\n",
      "35  hu49F623   A +  1  0  0  1\n",
      "36  huD81F3D   A +  1  0  0  1\n",
      "37  huC434ED  AB +  1  1  0  1\n",
      "38  huEDF7DA   O +  0  0  0  1\n",
      "39  huCBDC6D   A +  1  0  0  1\n",
      "40  hu925B56   O +  0  0  0  1\n",
      "41  hu016B28   A +  1  0  0  1\n",
      "42  hu79F922   O +  0  0  0  1\n",
      "43  hu4FE0D1   A -  1  0  1  0\n",
      "44  hu52B7E5   O +  0  0  0  1\n",
      "45  huAFA81C   O -  0  0  1  0\n",
      "46  huD09534   O +  0  0  0  1\n",
      "47  huFE71F3   O -  0  0  1  0\n",
      "48  hu7A2F1D   B -  0  1  1  0\n",
      "49  huC92BC9   B +  0  1  0  1\n",
      "50  hu955EE1   O +  0  0  0  1\n",
      "51  hu868880   A +  1  0  0  1\n",
      "52  hu60AB7C   A +  1  0  0  1\n",
      "53  hu470099   A +  1  0  0  1\n",
      "54  hu1187FF   A +  1  0  0  1\n",
      "55  hu448C4B  AB -  1  1  1  0\n",
      "56  hu72C17A   O +  0  0  0  1\n",
      "57  hu05FD49   A +  1  0  0  1\n",
      "58  huF5E0B6   A +  1  0  0  1\n",
      "59  hu1F73AB   O -  0  0  1  0\n",
      "60  hu2DBF2D   O -  0  0  1  0\n",
      "61  hu0211D6   A +  1  0  0  1\n",
      "62  hu0E7AAF   B +  0  1  0  1\n",
      "63  hu040C0A   A +  1  0  0  1\n",
      "\n",
      "[64 rows x 6 columns]\n"
     ]
    }
   ],
   "source": [
    "# column headers\n",
    "columns = [\"name\", \"type\", \"A\", \"B\", \"Rh\"]\n",
    "\n",
    "# binary list csv for categorical testing\n",
    "bnry_data = pd.read_csv(\"bnry_blood.csv\", names=columns) \n",
    "\n",
    "print(bnry_data)"
   ]
  },
  {
   "cell_type": "code",
   "execution_count": 6,
   "metadata": {
    "collapsed": true
   },
   "outputs": [],
   "source": [
    "# load the formatted pgp numpy array\n",
    "pgp_filtered = np.load(\"pgp_filtered_blood.pkl\")\n",
    "\n",
    "# Scale the data\n",
    "from sklearn import preprocessing\n",
    "pgp_filtered = preprocessing.scale(pgp_filtered.astype('double')) # scale the data"
   ]
  },
  {
   "cell_type": "code",
   "execution_count": 68,
   "metadata": {},
   "outputs": [
    {
     "name": "stdout",
     "output_type": "stream",
     "text": [
      "(64, 2564734)\n"
     ]
    }
   ],
   "source": [
    "print(pgp_filtered.shape)"
   ]
  },
  {
   "cell_type": "code",
   "execution_count": 80,
   "metadata": {},
   "outputs": [
    {
     "name": "stdout",
     "output_type": "stream",
     "text": [
      "(64, 2564734)\n"
     ]
    }
   ],
   "source": [
    "#bnry_data = np.asarray(bnry_data)\n",
    "\n",
    "# insert row condition here to test\n",
    "condition = \"B\"\n",
    "\n",
    "X = pgp_filtered\n",
    "y = bnry_data[condition]\n",
    "\n",
    "# print the shapes of X and y\n",
    "print(X.shape)"
   ]
  },
  {
   "cell_type": "code",
   "execution_count": 11,
   "metadata": {
    "collapsed": true
   },
   "outputs": [],
   "source": [
    "###############################################################################\n",
    "#                                                                             #\n",
    "#           Machine Learning Classifiers and  Accuracy Metrics                #\n",
    "#                                                                             #\n",
    "###############################################################################"
   ]
  },
  {
   "cell_type": "code",
   "execution_count": 105,
   "metadata": {
    "collapsed": true
   },
   "outputs": [],
   "source": [
    "#################################### Linear SVC Classifier  ######################################################\n",
    "\n",
    "from sklearn.svm import LinearSVC \n",
    "\n",
    "# set the c score here\n",
    "cv = 0.09 # 0.05:1.0, \n",
    "#.001\n",
    "\n",
    "svc_test = LinearSVC(penalty='l1', class_weight='balanced', C=cv, dual=False)\n"
   ]
  },
  {
   "cell_type": "code",
   "execution_count": 106,
   "metadata": {},
   "outputs": [
    {
     "name": "stdout",
     "output_type": "stream",
     "text": [
      "0.833333333333\n"
     ]
    }
   ],
   "source": [
    "##############################    KFold cross validation    ##################################\n",
    "\n",
    "from sklearn.model_selection import cross_val_score, train_test_split, KFold\n",
    "from sklearn.metrics import accuracy_score, confusion_matrix\n",
    " \n",
    "    \n",
    "# Enter Number of Splits\n",
    "splits =10\n",
    "kf = KFold(n_splits=splits, random_state=None, shuffle=False)\n",
    "    \n",
    "scoresk = []\n",
    "predictedk = []\n",
    "testedk = []\n",
    "    \n",
    "for train_index, test_index in kf.split(X):\n",
    "    X_train, X_test = X[train_index], X[test_index]\n",
    "    y_train, y_test = y[train_index], y[test_index]\n",
    "    svc_test.fit(X_train, y_train.ravel())\n",
    "    y_pred = svc_test.predict(X_test)\n",
    "    scoresk.append(accuracy_score(y_test, y_pred))\n",
    "    \n",
    "    predictedk.append(y_pred)\n",
    "    testedk.append(y_test)\n",
    "    \n",
    "    \n",
    "print(np.mean(np.asarray(scoresk)))"
   ]
  },
  {
   "cell_type": "code",
   "execution_count": 102,
   "metadata": {},
   "outputs": [
    {
     "name": "stdout",
     "output_type": "stream",
     "text": [
      "0.692307692308\n"
     ]
    }
   ],
   "source": [
    "############################################# Train Test Split  ######################################################\n",
    "\n",
    "from sklearn.model_selection import cross_val_score, train_test_split, LeaveOneOut, KFold\n",
    "from sklearn.metrics import accuracy_score, confusion_matrix\n",
    "\n",
    "X_train, X_test, y_train, y_test = train_test_split(X, y, test_size=.2) #, random_state=4)\n",
    "    \n",
    "svc_test.fit(X_train, y_train.ravel())\n",
    "y_pred = svc_test.predict(X_test)\n",
    "print(accuracy_score(y_test, y_pred))"
   ]
  },
  {
   "cell_type": "code",
   "execution_count": 98,
   "metadata": {},
   "outputs": [
    {
     "name": "stdout",
     "output_type": "stream",
     "text": [
      "[[0, 0, 0, 0, 0, 0, 0], [0, 0, 0, 1, 0, 1, 0], [0, 0, 0, 0, 0, 0, 0], [0, 0, 0, 0, 0, 0, 0], [0, 0, 0, 0, 0, 0], [0, 0, 0, 0, 0, 0], [0, 0, 0, 0, 0, 0], [0, 0, 0, 0, 0, 0], [0, 0, 0, 0, 0, 0], [0, 0, 0, 0, 0, 0]]\n",
      "[[1, 0, 0, 0, 0, 0, 0], [0, 1, 0, 1, 0, 0, 0], [0, 1, 0, 0, 1, 0, 0], [0, 1, 1, 0, 0, 0, 0], [0, 0, 0, 0, 0, 0], [0, 0, 0, 1, 0, 0], [0, 0, 0, 0, 0, 0], [0, 0, 1, 1, 0, 0], [0, 0, 0, 1, 0, 0], [0, 0, 0, 0, 1, 0]]\n"
     ]
    }
   ],
   "source": [
    "print(list(map(list, predictedk)))\n",
    "\n",
    "print(list(map(list, testedk)))"
   ]
  },
  {
   "cell_type": "code",
   "execution_count": null,
   "metadata": {
    "collapsed": true
   },
   "outputs": [],
   "source": [
    "###############################################################################\n",
    "#                                                                             #\n",
    "#                         Look Up Associated Genes                            #\n",
    "#                                                                             #\n",
    "###############################################################################"
   ]
  },
  {
   "cell_type": "code",
   "execution_count": 107,
   "metadata": {
    "scrolled": false
   },
   "outputs": [
    {
     "name": "stdout",
     "output_type": "stream",
     "text": [
      "LinearSVC(C=0.09, class_weight='balanced', dual=False, fit_intercept=True,\n",
      "     intercept_scaling=1, loss='squared_hinge', max_iter=1000,\n",
      "     multi_class='ovr', penalty='l1', random_state=None, tol=0.0001,\n",
      "     verbose=0)\n"
     ]
    }
   ],
   "source": [
    "nonzeroes = np.nonzero(svc_test.coef_[0])[0]\n",
    "coefs = zip(nonzeroes, svc_test.coef_[0][nonzeroes])\n",
    "print(svc_test)"
   ]
  },
  {
   "cell_type": "code",
   "execution_count": 108,
   "metadata": {},
   "outputs": [
    {
     "name": "stdout",
     "output_type": "stream",
     "text": [
      "# (2441217, 0.30078201055425646) 0.09\n",
      "# (717404, 0.14091644581447238) 0.09\n",
      "# (1365984, 0.11448739751186601) 0.09\n",
      "# (957915, 0.047686298330681012) 0.09\n",
      "# (2497657, 0.033719953880570815) 0.09\n",
      "# (1469872, 0.026195461421963922) 0.09\n",
      "# (495438, 0.024948451208477548) 0.09\n",
      "# (2497720, 0.021087424522296647) 0.09\n",
      "# (1997180, 0.016477051676918937) 0.09\n",
      "# (1422739, 0.015189784369833441) 0.09\n",
      "# (1479431, 0.0052165529095409315) 0.09\n",
      "# (1310568, 0.0045246332019278843) 0.09\n",
      "# (799964, -0.073764400268420585) 0.09\n",
      "# (856102, -0.1794502101934444) 0.09\n"
     ]
    }
   ],
   "source": [
    "# sort the coefficients by their value, instead of index\n",
    "\n",
    "coefs = sorted(coefs, key = lambda x: x[1], reverse=True)\n",
    "\n",
    "coef_lst = []\n",
    "\n",
    "for coef in coefs:\n",
    "    print(\"#\",coef, cv)\n",
    "    coef_lst.append(coef)"
   ]
  },
  {
   "cell_type": "code",
   "execution_count": null,
   "metadata": {
    "collapsed": true
   },
   "outputs": [],
   "source": [
    "# Results\n",
    "\n",
    "# Experiment with RH Factor A\n",
    "# nothing\n",
    "\n",
    "# Experiment with B\n",
    "# (2108511, 0.32772278909994074) 0.05 || hg19:chr20:0302\t142528\t155267373\t15\t16\n",
    "# (1713737, 0.31411426306215895) 0.05 || hg19:chr13:0260\t280816\t126550875\t15\t16\n",
    "# (2441217, 0.12062420103056076) 0.03\n",
    "# (2441217, 0.30078201055425646) 0.09\n",
    "# (717404, 0.14091644581447238) 0.09\n",
    "\n",
    "\n",
    "# 200879, 0.22380127817290715  c = 0.07  - experiment || hg19:chr1:003e 313504 13078864\n",
    "\n",
    "# 2082638, 0.19800320891630482  c = 0.09  - experiment || hg19:chr20:02f9 308544 15364156\n",
    "\n",
    "# (1424406, 0.11788779754186479) 0.04\n",
    "# (207585, 0.092608897347778468) 0.04"
   ]
  },
  {
   "cell_type": "code",
   "execution_count": 168,
   "metadata": {
    "collapsed": true
   },
   "outputs": [],
   "source": [
    "# save just the coefficient values\n",
    "firstCoefs = [coef[0] for coef in coefs]\n",
    "indices = np.asarray(firstCoefs)\n",
    "\n",
    "# dump the coefficients for tiling analysis\n",
    "indices.dump(\"coefs.pkl\")"
   ]
  }
 ],
 "metadata": {
  "kernelspec": {
   "display_name": "Python 3",
   "language": "python",
   "name": "python3"
  },
  "language_info": {
   "codemirror_mode": {
    "name": "ipython",
    "version": 3
   },
   "file_extension": ".py",
   "mimetype": "text/x-python",
   "name": "python",
   "nbconvert_exporter": "python",
   "pygments_lexer": "ipython3",
   "version": "3.6.1"
  }
 },
 "nbformat": 4,
 "nbformat_minor": 2
}
