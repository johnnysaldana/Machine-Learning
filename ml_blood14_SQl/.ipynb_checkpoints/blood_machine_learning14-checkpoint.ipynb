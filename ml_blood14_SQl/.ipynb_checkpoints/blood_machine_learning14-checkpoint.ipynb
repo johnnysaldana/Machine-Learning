{
 "cells": [
  {
   "cell_type": "code",
   "execution_count": 63,
   "metadata": {
    "collapsed": true
   },
   "outputs": [],
   "source": [
    "import numpy as np\n",
    "import pandas as pd\n",
    "import matplotlib.pyplot as plt"
   ]
  },
  {
   "cell_type": "code",
   "execution_count": 67,
   "metadata": {},
   "outputs": [
    {
     "name": "stdout",
     "output_type": "stream",
     "text": [
      "        name  type  A  B  -  +\n",
      "0   hu826751  AB +  1  1  0  1\n",
      "1   hu3DC5EA   A +  1  0  0  1\n",
      "2   hu0D1FA1   O +  0  0  0  1\n",
      "3   huAEADC0   A -  1  0  1  0\n",
      "4   hu2D6140   O +  0  0  0  1\n",
      "5   hu2C1D94   A +  1  0  0  1\n",
      "6   hu60180F   A +  1  0  0  1\n",
      "7   huDE435D   O +  0  0  0  1\n",
      "8   huA05317   B +  0  1  0  1\n",
      "9   hu6C733E   A +  1  0  0  1\n",
      "10  huDBF9DD   B +  0  1  0  1\n",
      "11  hu627574   O +  0  0  0  1\n",
      "12  hu7123C1   A +  1  0  0  1\n",
      "13  huC14AE1   A -  1  0  1  0\n",
      "14  hu76CAA5   A +  1  0  0  1\n",
      "15  huF83462   B +  0  1  0  1\n",
      "16  huC5733C   O +  0  0  0  1\n",
      "17  hu5962F5   O +  0  0  0  1\n",
      "18  hu04F220   B +  0  1  0  1\n",
      "19  huDBD591   O +  0  0  0  1\n",
      "20  hu599905   A +  1  0  0  1\n",
      "21  hu5CD2C6   A +  1  0  0  1\n",
      "22  huA4E2CF   B +  0  1  0  1\n",
      "23  hu3C0611   B +  0  1  0  1\n",
      "24  huEC6EEC   O +  0  0  0  1\n",
      "25  hu67EBB3   A +  1  0  0  1\n",
      "26  hu8E2A35   O +  0  0  0  1\n",
      "27  hu620F18   O -  0  0  1  0\n",
      "28  hu602487   O +  0  0  0  1\n",
      "29  huF1DC30   A +  1  0  0  1\n",
      "..       ...   ... .. .. .. ..\n",
      "34  hu24C863   A +  1  0  0  1\n",
      "35  hu49F623   A +  1  0  0  1\n",
      "36  huD81F3D   A +  1  0  0  1\n",
      "37  huC434ED  AB +  1  1  0  1\n",
      "38  huEDF7DA   O +  0  0  0  1\n",
      "39  huCBDC6D   A +  1  0  0  1\n",
      "40  hu925B56   O +  0  0  0  1\n",
      "41  hu016B28   A +  1  0  0  1\n",
      "42  hu79F922   O +  0  0  0  1\n",
      "43  hu4FE0D1   A -  1  0  1  0\n",
      "44  hu52B7E5   O +  0  0  0  1\n",
      "45  huAFA81C   O -  0  0  1  0\n",
      "46  huD09534   O +  0  0  0  1\n",
      "47  huFE71F3   O -  0  0  1  0\n",
      "48  hu7A2F1D   B -  0  1  1  0\n",
      "49  huC92BC9   B +  0  1  0  1\n",
      "50  hu955EE1   O +  0  0  0  1\n",
      "51  hu868880   A +  1  0  0  1\n",
      "52  hu60AB7C   A +  1  0  0  1\n",
      "53  hu470099   A +  1  0  0  1\n",
      "54  hu1187FF   A +  1  0  0  1\n",
      "55  hu448C4B  AB -  1  1  1  0\n",
      "56  hu72C17A   O +  0  0  0  1\n",
      "57  hu05FD49   A +  1  0  0  1\n",
      "58  huF5E0B6   A +  1  0  0  1\n",
      "59  hu1F73AB   O -  0  0  1  0\n",
      "60  hu2DBF2D   O -  0  0  1  0\n",
      "61  hu0211D6   A +  1  0  0  1\n",
      "62  hu0E7AAF   B +  0  1  0  1\n",
      "63  hu040C0A   A +  1  0  0  1\n",
      "\n",
      "[64 rows x 6 columns]\n"
     ]
    }
   ],
   "source": [
    "# column headers\n",
    "columns = [\"name\", \"type\", \"A\", \"B\", \"-\", \"+\"]\n",
    "\n",
    "# binary list csv for categorical testing\n",
    "bnry_data = pd.read_csv(\"bnry_blood.csv\", names=columns) \n",
    "\n",
    "print(bnry_data)"
   ]
  },
  {
   "cell_type": "code",
   "execution_count": 6,
   "metadata": {
    "collapsed": true
   },
   "outputs": [],
   "source": [
    "# load the formatted pgp numpy array\n",
    "pgp_filtered = np.load(\"pgp_filtered_blood.pkl\")\n",
    "\n",
    "# Scale the data\n",
    "from sklearn import preprocessing\n",
    "pgp_filtered = preprocessing.scale(pgp_filtered.astype('double')) # scale the data"
   ]
  },
  {
   "cell_type": "code",
   "execution_count": 16,
   "metadata": {},
   "outputs": [
    {
     "name": "stdout",
     "output_type": "stream",
     "text": [
      "(64, 2564734)\n"
     ]
    }
   ],
   "source": [
    "print(pgp_filtered.shape)"
   ]
  },
  {
   "cell_type": "code",
   "execution_count": 46,
   "metadata": {},
   "outputs": [
    {
     "name": "stdout",
     "output_type": "stream",
     "text": [
      "(64, 2564734)\n"
     ]
    }
   ],
   "source": [
    "#bnry_data = np.asarray(bnry_data)\n",
    "\n",
    "# insert row condition here to test\n",
    "condition = \"-\"\n",
    "\n",
    "X = pgp_filtered\n",
    "y = bnry_data[condition]\n",
    "\n",
    "# print the shapes of X and y\n",
    "print(X.shape)"
   ]
  },
  {
   "cell_type": "code",
   "execution_count": 11,
   "metadata": {
    "collapsed": true
   },
   "outputs": [],
   "source": [
    "###############################################################################\n",
    "#                                                                             #\n",
    "#           Machine Learning Classifiers and  Accuracy Metrics                #\n",
    "#                                                                             #\n",
    "###############################################################################"
   ]
  },
  {
   "cell_type": "code",
   "execution_count": 57,
   "metadata": {
    "collapsed": true
   },
   "outputs": [],
   "source": [
    "#################################### Linear SVC Classifier  ######################################################\n",
    "\n",
    "from sklearn.svm import LinearSVC \n",
    "\n",
    "# set the c score here\n",
    "cv = 0.04 # 0.05:1.0, \n",
    "#.001\n",
    "\n",
    "svc_test = LinearSVC(penalty='l1', class_weight='balanced', C=cv, dual=False)\n"
   ]
  },
  {
   "cell_type": "code",
   "execution_count": 58,
   "metadata": {},
   "outputs": [
    {
     "name": "stdout",
     "output_type": "stream",
     "text": [
      "0.923076923077\n"
     ]
    }
   ],
   "source": [
    "############################################# Train Test Split  ######################################################\n",
    "\n",
    "from sklearn.model_selection import cross_val_score, train_test_split, LeaveOneOut, KFold\n",
    "from sklearn.metrics import accuracy_score, confusion_matrix\n",
    "\n",
    "X_train, X_test, y_train, y_test = train_test_split(X, y, test_size=.2) #, random_state=4)\n",
    "    \n",
    "svc_test.fit(X_train, y_train.ravel())\n",
    "y_pred = svc_test.predict(X_test)\n",
    "print(accuracy_score(y_test, y_pred))"
   ]
  },
  {
   "cell_type": "code",
   "execution_count": 151,
   "metadata": {
    "collapsed": true
   },
   "outputs": [],
   "source": [
    "#########################################     KNN Classifier     ##################################################\n",
    "\n",
    "from sklearn.neighbors import KNeighborsClassifier\n",
    "\n",
    "knn = KNeighborsClassifier(n_neighbors=15) #8 0.764705882353\n"
   ]
  },
  {
   "cell_type": "code",
   "execution_count": 82,
   "metadata": {},
   "outputs": [
    {
     "name": "stdout",
     "output_type": "stream",
     "text": [
      "16 0.705882352941\n"
     ]
    }
   ],
   "source": [
    "##########################################     KNN Metric    #############################################\n",
    "\n",
    "X_train, X_test, y_train, y_test = train_test_split(X, y, test_size=0.2) #, random_state=4)\n",
    "\n",
    "knn.fit(X_train, y_train.ravel())\n",
    "y_pred = knn.predict(X_test)\n",
    "print(i, accuracy_score(y_test, y_pred))"
   ]
  },
  {
   "cell_type": "code",
   "execution_count": 48,
   "metadata": {},
   "outputs": [
    {
     "name": "stdout",
     "output_type": "stream",
     "text": [
      "0.857142857143\n",
      "0.714285714286\n",
      "1.0\n",
      "0.857142857143\n",
      "0.833333333333\n",
      "1.0\n",
      "0.666666666667\n",
      "0.666666666667\n",
      "0.666666666667\n",
      "0.666666666667\n",
      "Mean Accuracy:  0.792857142857 C value:  0.01 Std. Dev. : 0.128681610637\n"
     ]
    }
   ],
   "source": [
    "##############################    KFold cross validation    ##################################\n",
    "\n",
    "from sklearn.model_selection import cross_val_score, train_test_split, KFold\n",
    "from sklearn.metrics import accuracy_score, confusion_matrix\n",
    " \n",
    "    \n",
    "# Enter Number of Splits\n",
    "splits =10\n",
    "kf = KFold(n_splits=splits, random_state=None, shuffle=False)\n",
    "    \n",
    "scoresk = []\n",
    "predictedk = []\n",
    "testedk = []\n",
    "i = 0\n",
    "\n",
    "for train_index, test_index in kf.split(X):\n",
    "    X_train, X_test = X[train_index], X[test_index]\n",
    "    y_train, y_test = y[train_index], y[test_index]\n",
    "    svc_test.fit(X_train, y_train.ravel())\n",
    "    y_pred = svc_test.predict(X_test)\n",
    "    scoresk.append(accuracy_score(y_test, y_pred))\n",
    "    print(np.asarray(scoresk)[i])\n",
    "    \n",
    "    predictedk.append(y_pred)\n",
    "    testedk.append(y_test)\n",
    "    i += 1\n",
    "    \n",
    "    \n",
    "print(\"Mean Accuracy: \", np.mean(np.asarray(scoresk)), \"C value: \",cv, \"Std. Dev. :\", np.std(np.asarray(scoresk)) )"
   ]
  },
  {
   "cell_type": "code",
   "execution_count": 56,
   "metadata": {},
   "outputs": [
    {
     "name": "stdout",
     "output_type": "stream",
     "text": [
      "[[0, 0, 0, 0, 0, 0, 0], [0, 0, 0, 1, 0, 0, 0], [0, 0, 0, 0, 0, 0, 0], [0, 0, 0, 0, 0, 0, 0], [1, 0, 0, 0, 0, 0], [0, 0, 0, 0, 0, 0], [0, 0, 0, 0, 0, 0], [0, 0, 0, 0, 0, 0], [0, 0, 0, 0, 0, 1], [0, 0, 0, 0, 0, 0]]\n",
      "[[0, 0, 0, 1, 0, 0, 0], [0, 0, 0, 0, 0, 0, 1], [0, 0, 0, 0, 0, 0, 0], [0, 0, 0, 0, 0, 0, 1], [0, 0, 0, 0, 0, 0], [0, 0, 0, 0, 0, 0], [0, 0, 0, 1, 0, 1], [0, 1, 1, 0, 0, 0], [0, 0, 0, 1, 0, 0], [0, 1, 1, 0, 0, 0]]\n"
     ]
    }
   ],
   "source": [
    "print(list(map(list, predictedk)))\n",
    "\n",
    "print(list(map(list, testedk)))"
   ]
  },
  {
   "cell_type": "code",
   "execution_count": 12,
   "metadata": {},
   "outputs": [
    {
     "name": "stdout",
     "output_type": "stream",
     "text": [
      "1.0\n"
     ]
    }
   ],
   "source": [
    "################################# GaussianNB Classifier #######################################\n",
    "\n",
    "from sklearn.naive_bayes import GaussianNB, MultinomialNB\n",
    "\n",
    "gnb = GaussianNB()\n",
    "\n",
    "y_predg = gnb.fit(X, y.ravel()).predict(X)\n",
    "\n",
    "print(accuracy_score(y_predg, y))"
   ]
  },
  {
   "cell_type": "code",
   "execution_count": 8,
   "metadata": {
    "scrolled": true
   },
   "outputs": [
    {
     "name": "stdout",
     "output_type": "stream",
     "text": [
      "1.0\n",
      "Iteration: 1, correct: True\n",
      "0.5\n",
      "Iteration: 2, correct: False\n",
      "Incorrect:  [1]\n",
      "0.333333333333\n",
      "Iteration: 3, correct: False\n",
      "Incorrect:  [2]\n",
      "0.25\n",
      "Iteration: 4, correct: False\n",
      "Incorrect:  [3]\n",
      "0.4\n",
      "Iteration: 5, correct: True\n",
      "0.333333333333\n",
      "Iteration: 6, correct: False\n",
      "Incorrect:  [5]\n",
      "0.428571428571\n",
      "Iteration: 7, correct: True\n",
      "0.375\n",
      "Iteration: 8, correct: False\n",
      "Incorrect:  [7]\n",
      "0.444444444444\n",
      "Iteration: 9, correct: True\n",
      "0.5\n",
      "Iteration: 10, correct: True\n",
      "0.545454545455\n",
      "Iteration: 11, correct: True\n",
      "0.583333333333\n",
      "Iteration: 12, correct: True\n",
      "0.538461538462\n",
      "Iteration: 13, correct: False\n",
      "Incorrect:  [12]\n",
      "0.5\n",
      "Iteration: 14, correct: False\n",
      "Incorrect:  [13]\n",
      "0.533333333333\n",
      "Iteration: 15, correct: True\n",
      "0.5\n",
      "Iteration: 16, correct: False\n",
      "Incorrect:  [15]\n",
      "0.470588235294\n",
      "Iteration: 17, correct: False\n",
      "Incorrect:  [16]\n",
      "0.444444444444\n",
      "Iteration: 18, correct: False\n",
      "Incorrect:  [17]\n",
      "0.473684210526\n",
      "Iteration: 19, correct: True\n",
      "0.5\n",
      "Iteration: 20, correct: True\n",
      "0.47619047619\n",
      "Iteration: 21, correct: False\n",
      "Incorrect:  [20]\n"
     ]
    },
    {
     "ename": "KeyboardInterrupt",
     "evalue": "",
     "output_type": "error",
     "traceback": [
      "\u001b[1;31m---------------------------------------------------------------------------\u001b[0m",
      "\u001b[1;31mKeyboardInterrupt\u001b[0m                         Traceback (most recent call last)",
      "\u001b[1;32m<ipython-input-8-c80ac2915549>\u001b[0m in \u001b[0;36m<module>\u001b[1;34m()\u001b[0m\n\u001b[0;32m     13\u001b[0m     \u001b[0mX_train\u001b[0m\u001b[1;33m,\u001b[0m \u001b[0mX_test\u001b[0m \u001b[1;33m=\u001b[0m \u001b[0mX\u001b[0m\u001b[1;33m[\u001b[0m\u001b[0mtrain_index\u001b[0m\u001b[1;33m]\u001b[0m\u001b[1;33m,\u001b[0m \u001b[0mX\u001b[0m\u001b[1;33m[\u001b[0m\u001b[0mtest_index\u001b[0m\u001b[1;33m]\u001b[0m\u001b[1;33m\u001b[0m\u001b[0m\n\u001b[0;32m     14\u001b[0m     \u001b[0my_train\u001b[0m\u001b[1;33m,\u001b[0m \u001b[0my_test\u001b[0m \u001b[1;33m=\u001b[0m \u001b[0my\u001b[0m\u001b[1;33m[\u001b[0m\u001b[0mtrain_index\u001b[0m\u001b[1;33m]\u001b[0m\u001b[1;33m,\u001b[0m \u001b[0my\u001b[0m\u001b[1;33m[\u001b[0m\u001b[0mtest_index\u001b[0m\u001b[1;33m]\u001b[0m\u001b[1;33m\u001b[0m\u001b[0m\n\u001b[1;32m---> 15\u001b[1;33m     \u001b[0msvc_test\u001b[0m\u001b[1;33m.\u001b[0m\u001b[0mfit\u001b[0m\u001b[1;33m(\u001b[0m\u001b[0mX_train\u001b[0m\u001b[1;33m,\u001b[0m \u001b[0my_train\u001b[0m\u001b[1;33m.\u001b[0m\u001b[0mravel\u001b[0m\u001b[1;33m(\u001b[0m\u001b[1;33m)\u001b[0m\u001b[1;33m)\u001b[0m\u001b[1;33m\u001b[0m\u001b[0m\n\u001b[0m\u001b[0;32m     16\u001b[0m     \u001b[0my_pred\u001b[0m \u001b[1;33m=\u001b[0m \u001b[0msvc_test\u001b[0m\u001b[1;33m.\u001b[0m\u001b[0mpredict\u001b[0m\u001b[1;33m(\u001b[0m\u001b[0mX_test\u001b[0m\u001b[1;33m)\u001b[0m\u001b[1;33m\u001b[0m\u001b[0m\n\u001b[0;32m     17\u001b[0m     \u001b[0mscores\u001b[0m\u001b[1;33m.\u001b[0m\u001b[0mappend\u001b[0m\u001b[1;33m(\u001b[0m\u001b[0maccuracy_score\u001b[0m\u001b[1;33m(\u001b[0m\u001b[0my_test\u001b[0m\u001b[1;33m,\u001b[0m \u001b[0my_pred\u001b[0m\u001b[1;33m)\u001b[0m\u001b[1;33m)\u001b[0m\u001b[1;33m\u001b[0m\u001b[0m\n",
      "\u001b[1;32mC:\\Users\\j\\Anaconda3\\lib\\site-packages\\sklearn\\svm\\classes.py\u001b[0m in \u001b[0;36mfit\u001b[1;34m(self, X, y, sample_weight)\u001b[0m\n\u001b[0;32m    213\u001b[0m             \u001b[0mself\u001b[0m\u001b[1;33m.\u001b[0m\u001b[0mclass_weight\u001b[0m\u001b[1;33m,\u001b[0m \u001b[0mself\u001b[0m\u001b[1;33m.\u001b[0m\u001b[0mpenalty\u001b[0m\u001b[1;33m,\u001b[0m \u001b[0mself\u001b[0m\u001b[1;33m.\u001b[0m\u001b[0mdual\u001b[0m\u001b[1;33m,\u001b[0m \u001b[0mself\u001b[0m\u001b[1;33m.\u001b[0m\u001b[0mverbose\u001b[0m\u001b[1;33m,\u001b[0m\u001b[1;33m\u001b[0m\u001b[0m\n\u001b[0;32m    214\u001b[0m             \u001b[0mself\u001b[0m\u001b[1;33m.\u001b[0m\u001b[0mmax_iter\u001b[0m\u001b[1;33m,\u001b[0m \u001b[0mself\u001b[0m\u001b[1;33m.\u001b[0m\u001b[0mtol\u001b[0m\u001b[1;33m,\u001b[0m \u001b[0mself\u001b[0m\u001b[1;33m.\u001b[0m\u001b[0mrandom_state\u001b[0m\u001b[1;33m,\u001b[0m \u001b[0mself\u001b[0m\u001b[1;33m.\u001b[0m\u001b[0mmulti_class\u001b[0m\u001b[1;33m,\u001b[0m\u001b[1;33m\u001b[0m\u001b[0m\n\u001b[1;32m--> 215\u001b[1;33m             self.loss, sample_weight=sample_weight)\n\u001b[0m\u001b[0;32m    216\u001b[0m \u001b[1;33m\u001b[0m\u001b[0m\n\u001b[0;32m    217\u001b[0m         \u001b[1;32mif\u001b[0m \u001b[0mself\u001b[0m\u001b[1;33m.\u001b[0m\u001b[0mmulti_class\u001b[0m \u001b[1;33m==\u001b[0m \u001b[1;34m\"crammer_singer\"\u001b[0m \u001b[1;32mand\u001b[0m \u001b[0mlen\u001b[0m\u001b[1;33m(\u001b[0m\u001b[0mself\u001b[0m\u001b[1;33m.\u001b[0m\u001b[0mclasses_\u001b[0m\u001b[1;33m)\u001b[0m \u001b[1;33m==\u001b[0m \u001b[1;36m2\u001b[0m\u001b[1;33m:\u001b[0m\u001b[1;33m\u001b[0m\u001b[0m\n",
      "\u001b[1;32mC:\\Users\\j\\Anaconda3\\lib\\site-packages\\sklearn\\svm\\base.py\u001b[0m in \u001b[0;36m_fit_liblinear\u001b[1;34m(X, y, C, fit_intercept, intercept_scaling, class_weight, penalty, dual, verbose, max_iter, tol, random_state, multi_class, loss, epsilon, sample_weight)\u001b[0m\n\u001b[0;32m    910\u001b[0m         \u001b[0mX\u001b[0m\u001b[1;33m,\u001b[0m \u001b[0my_ind\u001b[0m\u001b[1;33m,\u001b[0m \u001b[0msp\u001b[0m\u001b[1;33m.\u001b[0m\u001b[0misspmatrix\u001b[0m\u001b[1;33m(\u001b[0m\u001b[0mX\u001b[0m\u001b[1;33m)\u001b[0m\u001b[1;33m,\u001b[0m \u001b[0msolver_type\u001b[0m\u001b[1;33m,\u001b[0m \u001b[0mtol\u001b[0m\u001b[1;33m,\u001b[0m \u001b[0mbias\u001b[0m\u001b[1;33m,\u001b[0m \u001b[0mC\u001b[0m\u001b[1;33m,\u001b[0m\u001b[1;33m\u001b[0m\u001b[0m\n\u001b[0;32m    911\u001b[0m         \u001b[0mclass_weight_\u001b[0m\u001b[1;33m,\u001b[0m \u001b[0mmax_iter\u001b[0m\u001b[1;33m,\u001b[0m \u001b[0mrnd\u001b[0m\u001b[1;33m.\u001b[0m\u001b[0mrandint\u001b[0m\u001b[1;33m(\u001b[0m\u001b[0mnp\u001b[0m\u001b[1;33m.\u001b[0m\u001b[0miinfo\u001b[0m\u001b[1;33m(\u001b[0m\u001b[1;34m'i'\u001b[0m\u001b[1;33m)\u001b[0m\u001b[1;33m.\u001b[0m\u001b[0mmax\u001b[0m\u001b[1;33m)\u001b[0m\u001b[1;33m,\u001b[0m\u001b[1;33m\u001b[0m\u001b[0m\n\u001b[1;32m--> 912\u001b[1;33m         epsilon, sample_weight)\n\u001b[0m\u001b[0;32m    913\u001b[0m     \u001b[1;31m# Regarding rnd.randint(..) in the above signature:\u001b[0m\u001b[1;33m\u001b[0m\u001b[1;33m\u001b[0m\u001b[0m\n\u001b[0;32m    914\u001b[0m     \u001b[1;31m# seed for srand in range [0..INT_MAX); due to limitations in Numpy\u001b[0m\u001b[1;33m\u001b[0m\u001b[1;33m\u001b[0m\u001b[0m\n",
      "\u001b[1;31mKeyboardInterrupt\u001b[0m: "
     ]
    }
   ],
   "source": [
    "################################# leave one out validation #######################################\n",
    "\n",
    "from sklearn.svm import LinearSVC\n",
    "from sklearn.model_selection import cross_val_score, train_test_split, LeaveOneOut\n",
    "from sklearn.metrics import accuracy_score, confusion_matrix\n",
    "\n",
    "loo = LeaveOneOut()\n",
    "scores = []\n",
    "counter = 0\n",
    "predicted = []\n",
    "tested = []\n",
    "for train_index, test_index in loo.split(X):\n",
    "    X_train, X_test = X[train_index], X[test_index]\n",
    "    y_train, y_test = y[train_index], y[test_index]\n",
    "    svc_test.fit(X_train, y_train.ravel())\n",
    "    y_pred = svc_test.predict(X_test)\n",
    "    scores.append(accuracy_score(y_test, y_pred))\n",
    "    \n",
    "    predicted.append(y_pred)\n",
    "    tested.append(y_test)\n",
    "    \n",
    "    print(np.mean(np.asarray(scores)))\n",
    "\n",
    "    counter += 1\n",
    "    print(\"Iteration: \" + str(counter) + \", correct: \" + str(bool(y_test == y_pred)) )\n",
    "    if not bool(y_test == y_pred):\n",
    "        print(\"Incorrect: \", test_index)\n",
    "    \n",
    "print(1 - np.mean(np.asarray(scores)))\n"
   ]
  },
  {
   "cell_type": "code",
   "execution_count": null,
   "metadata": {
    "collapsed": true
   },
   "outputs": [],
   "source": [
    "################################# Predicted and Tested Lists #######################################\n",
    "\n",
    "\n",
    "lst = []\n",
    "lst.append(int(predicted[7]))\n",
    "\n",
    "print(lst)\n",
    "def predicted_list():\n",
    "    lst = []\n",
    "    i = 0\n",
    "    while i < len(predicted):\n",
    "        lst.append(int(predicted[i]))\n",
    "        print(i+2, \": \", int(predicted[i]))\n",
    "        i += 1\n",
    "    return lst\n",
    "\n",
    "def tested_list():\n",
    "    lst = []\n",
    "    i = 0\n",
    "    while i < len(predicted):\n",
    "        lst.append(int(tested[i]))\n",
    "        print(i+2, \": \", int(tested[i]))\n",
    "        i += 1\n",
    "    return lst\n",
    "        \n",
    "        \n",
    "        \n",
    "predicted_new = predicted_list()\n",
    "\n",
    "tested_new = tested_list()\n",
    "\n",
    "\n",
    "print(predicted_new)\n",
    "\n",
    "print(tested_new)"
   ]
  },
  {
   "cell_type": "code",
   "execution_count": null,
   "metadata": {
    "collapsed": true
   },
   "outputs": [],
   "source": [
    "####################################   Confusion Matrix   #######################################\n",
    "\n",
    "\n",
    "from sklearn.metrics import accuracy_score, confusion_matrix\n",
    "\n",
    "cnf_matrix = confusion_matrix(predicted_new, tested_new)\n",
    "plt.imshow(cnf_matrix, interpolation='nearest', cmap=plt.cm.Blues)\n",
    "plt.ylabel('True label')\n",
    "plt.xlabel('Predicted label')\n",
    "\n",
    "classes = ['Blonde','Brown']\n",
    "\n",
    "plt.grid('off')\n",
    "plt.colorbar()\n",
    "tick_marks = np.arange(len(classes))\n",
    "plt.xticks(tick_marks, classes, rotation=45)\n",
    "plt.yticks(tick_marks, classes)\n",
    "\n",
    "for i in range(cnf_matrix.shape[0]):\n",
    "    for j in range(cnf_matrix.shape[1]):\n",
    "        plt.text(j, i, cnf_matrix[i, j],\n",
    "                 horizontalalignment=\"center\",\n",
    "                 color= \"orangered\")\n",
    "\n",
    "plt.gcf().subplots_adjust(left=0.25, bottom = 0.35)\n",
    "\n",
    "plt.savefig('Blue_Confusion_nored.png',format='png',dpi=300)"
   ]
  },
  {
   "cell_type": "code",
   "execution_count": null,
   "metadata": {
    "collapsed": true
   },
   "outputs": [],
   "source": [
    "###############################################################################\n",
    "#                                                                             #\n",
    "#                      Testing Area for K and C values                        #\n",
    "#                                                                             #\n",
    "###############################################################################"
   ]
  },
  {
   "cell_type": "code",
   "execution_count": 105,
   "metadata": {},
   "outputs": [
    {
     "name": "stdout",
     "output_type": "stream",
     "text": [
      "0.154761904762\n",
      "0.815476190476\n",
      "0.736111111111\n",
      "0.767857142857\n",
      "0.797619047619\n",
      "0.813492063492\n",
      "0.813492063492\n",
      "0.829365079365\n",
      "0.829365079365\n",
      "0.829365079365\n",
      "0.829365079365\n",
      "0.797619047619\n",
      "0.829365079365\n",
      "0.829365079365\n",
      "0.813492063492\n",
      "0.829365079365\n",
      "0.829365079365\n",
      "0.829365079365\n",
      "0.829365079365\n",
      "0.829365079365\n",
      "DONE\n"
     ]
    }
   ],
   "source": [
    "################################   C value testing   #########################################\n",
    "\n",
    "from sklearn.svm import LinearSVC\n",
    "from sklearn.model_selection import cross_val_score, train_test_split, KFold\n",
    "from sklearn.metrics import accuracy_score, confusion_matrix\n",
    "\n",
    "\n",
    "def display_correct():\n",
    "    if counter == 0 and scoresk[0] == 1:\n",
    "        return \"Correct\"\n",
    "    elif scoresk[counter] < scoresk[counter-1]:\n",
    "        return \"Incorrect\" + str(counter)\n",
    "    else:\n",
    "        return \"Correct\"\n",
    " \n",
    "c_scores = []\n",
    "\n",
    "for i in range(1, 200, 10):\n",
    "    \n",
    "    svc_test = LinearSVC(penalty='l1', class_weight='balanced', C=(i * 0.001), dual=False, max_iter=2500)\n",
    "\n",
    "    kf = KFold(n_splits=9, random_state=None, shuffle=False)\n",
    "    #vals = np.logspace(-3, 1, 10).tolist()\n",
    "    #print(vals)\n",
    "    \n",
    "    scoresk = []\n",
    "    counter = 0\n",
    "    predictedk = []\n",
    "    testedk = []\n",
    "    \n",
    "    for train_index, test_index in kf.split(X):\n",
    "        X_train, X_test = X[train_index], X[test_index]\n",
    "        y_train, y_test = y[train_index], y[test_index]\n",
    "        svc_test.fit(X_train, y_train.ravel())\n",
    "        y_pred = svc_test.predict(X_test)\n",
    "        scoresk.append(accuracy_score(y_test, y_pred))\n",
    "    \n",
    "        predictedk.append(y_pred)\n",
    "        testedk.append(y_test)\n",
    "    \n",
    "    print(np.mean(np.asarray(scoresk)))\n",
    "    \n",
    "    score_display = str(np.mean(np.asarray(scoresk))) + str(i * 0.001)\n",
    "    c_scores.append(score_display)\n",
    "    \n",
    "print(\"DONE\")\n",
    "\n"
   ]
  },
  {
   "cell_type": "code",
   "execution_count": 107,
   "metadata": {
    "scrolled": true
   },
   "outputs": [
    {
     "name": "stdout",
     "output_type": "stream",
     "text": [
      "['0.1547619047620.001', '0.8154761904760.011', '0.7361111111110.021', '0.7678571428570.031', '0.7976190476190.041', '0.8134920634920.051000000000000004', '0.8134920634920.061', '0.8293650793650.07100000000000001', '0.8293650793650.081', '0.8293650793650.091', '0.8293650793650.101', '0.7976190476190.111', '0.8293650793650.121', '0.8293650793650.131', '0.8134920634920.14100000000000001', '0.8293650793650.151', '0.8293650793650.161', '0.8293650793650.171', '0.8293650793650.181', '0.8293650793650.191']\n"
     ]
    }
   ],
   "source": [
    "print(c_scores)"
   ]
  },
  {
   "cell_type": "code",
   "execution_count": 44,
   "metadata": {},
   "outputs": [],
   "source": [
    "##################################     Test Best K Value     ######################################\n",
    "\n",
    "from sklearn.neighbors import KNeighborsClassifier\n",
    "from sklearn.model_selection import cross_val_score, train_test_split, LeaveOneOut, KFold\n",
    "from sklearn.metrics import accuracy_score, confusion_matrix\n",
    "\n",
    "X_train, X_test, y_train, y_test = train_test_split(X, y, test_size=0.2) #, random_state=4)\n",
    "\n",
    "# try K=1 through K=n and record testing accuracy\n",
    "n = 25\n",
    "kscores = []\n",
    "i = 0\n",
    "for k in range(1, n):\n",
    "    knn = KNeighborsClassifier(n_neighbors=k)\n",
    "    knn.fit(X_train, y_train.ravel())\n",
    "    y_pred = knn.predict(X_test)\n",
    "    print(i, accuracy_score(y_test, y_pred))\n",
    "    kscores.append(accuracy_score(y_test, y_pred))\n",
    "    i += 1"
   ]
  },
  {
   "cell_type": "code",
   "execution_count": 45,
   "metadata": {},
   "outputs": [
    {
     "name": "stdout",
     "output_type": "stream",
     "text": [
      "0.923076923077\n"
     ]
    }
   ],
   "source": [
    "#############################     Test Variance of KNN Classifier     ################################\n",
    "\n",
    "X_train, X_test, y_train, y_test = train_test_split(X, y, test_size=0.2) #, random_state=4)\n",
    "\n",
    "# runs classifier n times to see the variance\n",
    "for i in range(5):\n",
    "    knn = KNeighborsClassifier(n_neighbors=7) #8\n",
    "    knn.fit(X_train, y_train.ravel())\n",
    "    y_pred = knn.predict(X_test)\n",
    "    print(accuracy_score(y_test, y_pred))"
   ]
  },
  {
   "cell_type": "code",
   "execution_count": null,
   "metadata": {
    "collapsed": true
   },
   "outputs": [],
   "source": [
    "####################################   Confusion Matrix   #######################################\n",
    "\n",
    "\n",
    "from sklearn.metrics import accuracy_score, confusion_matrix\n",
    "\n",
    "cnf_matrix = confusion_matrix(predicted_new, tested_new)\n",
    "plt.imshow(cnf_matrix, interpolation='nearest', cmap=plt.cm.Blues)\n",
    "plt.ylabel('True label')\n",
    "plt.xlabel('Predicted label')\n",
    "\n",
    "classes = ['Blonde','Brown']\n",
    "\n",
    "plt.grid('off')\n",
    "plt.colorbar()\n",
    "tick_marks = np.arange(len(classes))\n",
    "plt.xticks(tick_marks, classes, rotation=45)\n",
    "plt.yticks(tick_marks, classes)\n",
    "\n",
    "for i in range(cnf_matrix.shape[0]):\n",
    "    for j in range(cnf_matrix.shape[1]):\n",
    "        plt.text(j, i, cnf_matrix[i, j],\n",
    "                 horizontalalignment=\"center\",\n",
    "                 color= \"orangered\")\n",
    "\n",
    "plt.gcf().subplots_adjust(left=0.25, bottom = 0.35)\n",
    "\n",
    "plt.savefig('Blue_Confusion_nored.png',format='png',dpi=300)"
   ]
  },
  {
   "cell_type": "code",
   "execution_count": null,
   "metadata": {
    "collapsed": true
   },
   "outputs": [],
   "source": [
    "###############################################################################\n",
    "#                                                                             #\n",
    "#                         Look Up Associated Genes                            #\n",
    "#                                                                             #\n",
    "###############################################################################"
   ]
  },
  {
   "cell_type": "code",
   "execution_count": 30,
   "metadata": {},
   "outputs": [],
   "source": [
    "#################################### Linear SVC Classifier  ######################################################\n",
    "\n",
    "from sklearn.svm import LinearSVC \n",
    "\n",
    "# set the c score here\n",
    "cv = 0.01 # 0.05:1.0,    #0.04 before\n",
    "#.001\n",
    "\n",
    "svc_test = LinearSVC(penalty='l1', class_weight='balanced', C=cv, dual=False)\n",
    "\n"
   ]
  },
  {
   "cell_type": "code",
   "execution_count": 59,
   "metadata": {
    "scrolled": false
   },
   "outputs": [
    {
     "name": "stdout",
     "output_type": "stream",
     "text": [
      "LinearSVC(C=0.04, class_weight='balanced', dual=False, fit_intercept=True,\n",
      "     intercept_scaling=1, loss='squared_hinge', max_iter=1000,\n",
      "     multi_class='ovr', penalty='l1', random_state=None, tol=0.0001,\n",
      "     verbose=0)\n"
     ]
    }
   ],
   "source": [
    "nonzeroes = np.nonzero(svc_test.coef_[0])[0]\n",
    "coefs = zip(nonzeroes, svc_test.coef_[0][nonzeroes])\n",
    "print(svc_test)"
   ]
  },
  {
   "cell_type": "code",
   "execution_count": 62,
   "metadata": {},
   "outputs": [
    {
     "name": "stdout",
     "output_type": "stream",
     "text": [
      "# (1424406, 0.11788779754186479) 0.04\n",
      "# (207585, 0.092608897347778468) 0.04\n",
      "# (372213, 0.08605755842442768) 0.04\n",
      "# (1782790, 0.08440581503223471) 0.04\n",
      "# (2248876, 0.067971631325060594) 0.04\n",
      "# (2069190, 0.058944432264568643) 0.04\n",
      "# (1349746, 0.034433631054323469) 0.04\n",
      "# (886698, 0.023554194211194042) 0.04\n",
      "# (112894, 0.018000746450749075) 0.04\n",
      "# (565740, 0.015572123539593936) 0.04\n",
      "# (1822179, 0.0090395652359611927) 0.04\n",
      "# (329858, 7.7038651010482504e-05) 0.04\n"
     ]
    }
   ],
   "source": [
    "# sort the coefficients by their value, instead of index\n",
    "\n",
    "coefs = sorted(coefs, key = lambda x: x[1], reverse=True)\n",
    "\n",
    "coef_lst = []\n",
    "\n",
    "for coef in coefs:\n",
    "    print(\"#\",coef, cv)\n",
    "    coef_lst.append(coef)"
   ]
  },
  {
   "cell_type": "code",
   "execution_count": 212,
   "metadata": {},
   "outputs": [
    {
     "name": "stdout",
     "output_type": "stream",
     "text": [
      "[(2082638, 0.32209140359958449), (1488901, 0.073057627889275042), (1721780, 0.068111378023721428), (1433081, 0.052493045017940977), (427492, 0.047087448969384424), (356965, 0.042653368498936729), (1546611, 0.035851980564893374), (821684, 0.030556435327849886), (2272182, 0.027036838660239239), (2126585, 0.020739834404845742), (1063041, 0.010016236304695093), (1771743, 0.0096244900075154217), (1707300, 0.0063532435921759417), (356955, 0.0053086383830408257), (1502926, -0.040593987946330734)]\n"
     ]
    }
   ],
   "source": [
    "print(coefs)\n",
    "\n",
    "# Experiment with RH Factor (-)\n",
    "# 200879, 0.22380127817290715  c = 0.07  - experiment || hg19:chr1:003e 313504 13078864\n",
    "\n",
    "# 2082638, 0.19800320891630482  c = 0.09  - experiment || hg19:chr20:02f9 308544 15364156\n",
    "\n",
    "# (1424406, 0.11788779754186479) 0.04\n",
    "# (207585, 0.092608897347778468) 0.04\n"
   ]
  },
  {
   "cell_type": "code",
   "execution_count": 168,
   "metadata": {
    "collapsed": true
   },
   "outputs": [],
   "source": [
    "# save just the coefficient values\n",
    "firstCoefs = [coef[0] for coef in coefs]\n",
    "indices = np.asarray(firstCoefs)\n",
    "\n",
    "# dump the coefficients for tiling analysis\n",
    "indices.dump(\"coefs.pkl\")"
   ]
  }
 ],
 "metadata": {
  "kernelspec": {
   "display_name": "Python 3",
   "language": "python",
   "name": "python3"
  },
  "language_info": {
   "codemirror_mode": {
    "name": "ipython",
    "version": 3
   },
   "file_extension": ".py",
   "mimetype": "text/x-python",
   "name": "python",
   "nbconvert_exporter": "python",
   "pygments_lexer": "ipython3",
   "version": "3.6.1"
  }
 },
 "nbformat": 4,
 "nbformat_minor": 2
}
