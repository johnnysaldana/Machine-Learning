{
 "cells": [
  {
   "cell_type": "code",
   "execution_count": 3,
   "metadata": {
    "collapsed": true
   },
   "outputs": [],
   "source": [
    "import numpy as np"
   ]
  },
  {
   "cell_type": "code",
   "execution_count": 4,
   "metadata": {},
   "outputs": [],
   "source": [
    "# loads the tiled genome name file\n",
    "\n",
    "arr = np.load('names.npy')\n",
    "arrlst = np.ndarray.tolist(arr)"
   ]
  },
  {
   "cell_type": "code",
   "execution_count": 5,
   "metadata": {},
   "outputs": [
    {
     "name": "stdout",
     "output_type": "stream",
     "text": [
      "218\n"
     ]
    }
   ],
   "source": [
    "# formats a single tile\n",
    "\n",
    "def format(npint):\n",
    "    s = \"\"\n",
    "    string = str(npint)\n",
    "    for char in range(len(string)):\n",
    "        if string[char] == \"-\":\n",
    "            break\n",
    "        elif string[char] != \"b\" and string[char] != \"'\":\n",
    "            s += string[char]\n",
    "        else:\n",
    "            pass\n",
    "    return s\n",
    "\n",
    "\n",
    "\n",
    "# runs formatting on all names\n",
    "\n",
    "def formatall():\n",
    "\n",
    "    tiled_partic = [] \n",
    "    for i in range(len(arrlst)):\n",
    "        tiled_partic.append(format(arrlst[i]))\n",
    "        \n",
    "    return tiled_partic\n",
    "\n",
    "\n",
    "\n",
    "tiled_names = formatall()\n",
    "\n",
    "print(len(tiled_names))"
   ]
  },
  {
   "cell_type": "code",
   "execution_count": null,
   "metadata": {
    "collapsed": true
   },
   "outputs": [],
   "source": []
  },
  {
   "cell_type": "code",
   "execution_count": 29,
   "metadata": {},
   "outputs": [
    {
     "name": "stdout",
     "output_type": "stream",
     "text": [
      "185\n",
      "227\n"
     ]
    }
   ],
   "source": [
    "# opens the PGP survey and dumps the participant list filtering non responses and duplicates\n",
    " \n",
    "def removedoubles(seq):\n",
    "    seen = set()\n",
    "    seen_add = seen.add\n",
    "    return [x for x in seq if not (x in seen or seen_add(x))]\n",
    "\n",
    "import csv \n",
    "\n",
    "\n",
    "with open('pgp_disease_cancer.csv', newline='') as eye:\n",
    "    reader = csv.DictReader(eye)\n",
    "    cancer_names = []\n",
    "    for row in reader:\n",
    "        cancer_names.append(row['name'])\n",
    "\n",
    "# takes out names that occur both in pgp survey and tiled genome list\n",
    "cancer_names = [x for x in cancer_names if x in tiled_names]\n",
    "\n",
    "cancer_names_unfil = cancer_names\n",
    "repeat_tiles = [x for x in cancer_names if x in tiled_names]\n",
    "cancer_names = removedoubles(cancer_names)        \n",
    "print(len(cancer_names))\n",
    "print(len(cancer_names_unfil))\n",
    "\n",
    "#print(repeat_tiles)"
   ]
  },
  {
   "cell_type": "code",
   "execution_count": 30,
   "metadata": {},
   "outputs": [],
   "source": [
    "# finds repeat values and puts them in a list\n",
    "\n",
    "seen = set()\n",
    "repeats = []\n",
    "for x in cancer_names_unfil:\n",
    "    if x in seen:\n",
    "        repeats.append(x)\n",
    "    else:\n",
    "        seen.add(x)"
   ]
  },
  {
   "cell_type": "code",
   "execution_count": 31,
   "metadata": {
    "scrolled": true
   },
   "outputs": [
    {
     "name": "stdout",
     "output_type": "stream",
     "text": [
      "Repeated Values:  ['huDBD591', 'hu6C733E', 'huC434ED', 'hu432EB5', 'hu5FA322', 'hu627574', 'hu4BE6F2', 'hu297562', 'huD52556', 'huD52556', 'hu599905', 'huB4883B', 'hu619F51', 'hu2D6140', 'hu8E2A35', 'huD103CC', 'hu5FA322', 'huED0F40', 'hu132B5C', 'hu0E64A1', 'hu2843C9', 'huBA30D4', 'huBA30D4', 'huDE435D', 'huDE435D', 'huDE435D', 'huDE435D', 'huDE435D', 'hu64DBF7', 'hu925B56', 'hu4040B8', 'hu050E9C', 'hu050E9C', 'hu9385BA', 'huA3A02C', 'hu1E868D', 'hu1187FF', 'hu826751', 'hu1E868D', 'hu7123C1', 'huD37D14', 'huED0F40'] Number of Repeats: 42\n",
      "PGP Cancer Survey Names:  185\n",
      "Tiled Genomes 218\n",
      "Tiled and Survey Overlap:  185\n"
     ]
    }
   ],
   "source": [
    "# makes a list of names that are in both the PGP survey name list and the tiled genomes list\n",
    "\n",
    "print(\"Repeated Values: \",repeats, \"Number of Repeats:\", len(repeats))\n",
    "        \n",
    "print(\"PGP Cancer Survey Names: \",len(cancer_names))\n",
    "\n",
    "print(\"Tiled Genomes\", len(tiled_names))\n",
    "\n",
    "print(\"Tiled and Survey Overlap: \",len(tiled_and_cancer))"
   ]
  },
  {
   "cell_type": "code",
   "execution_count": null,
   "metadata": {
    "collapsed": true
   },
   "outputs": [],
   "source": [
    "# writes formatted csv\n",
    "\n",
    "import csv \n",
    "with open(\"pgp_disease_cancer.csv\", newline='') as inp, open('pgp_dis_canc_formated.csv', 'w') as out:\n",
    "    writer = csv.writer(out)\n",
    "    for row in csv.reader(inp):\n",
    "        if row[\"name\"] in cancer_names:\n",
    "            writer.writerow(row)"
   ]
  },
  {
   "cell_type": "code",
   "execution_count": 21,
   "metadata": {},
   "outputs": [
    {
     "ename": "NameError",
     "evalue": "name 'get_rgbr_list' is not defined",
     "output_type": "error",
     "traceback": [
      "\u001b[1;31m---------------------------------------------------------------------------\u001b[0m",
      "\u001b[1;31mNameError\u001b[0m                                 Traceback (most recent call last)",
      "\u001b[1;32m<ipython-input-21-036c8b71af6c>\u001b[0m in \u001b[0;36m<module>\u001b[1;34m()\u001b[0m\n\u001b[0;32m     16\u001b[0m         \u001b[1;32mreturn\u001b[0m \u001b[0mrgb_r\u001b[0m\u001b[1;33m\u001b[0m\u001b[0m\n\u001b[0;32m     17\u001b[0m \u001b[1;33m\u001b[0m\u001b[0m\n\u001b[1;32m---> 18\u001b[1;33m \u001b[0mrgbr\u001b[0m \u001b[1;33m=\u001b[0m \u001b[0mget_rgbr_list\u001b[0m\u001b[1;33m(\u001b[0m\u001b[1;33m)\u001b[0m\u001b[1;33m\u001b[0m\u001b[0m\n\u001b[0m\u001b[0;32m     19\u001b[0m \u001b[1;33m\u001b[0m\u001b[0m\n\u001b[0;32m     20\u001b[0m \u001b[0mprint\u001b[0m\u001b[1;33m(\u001b[0m\u001b[0mrgbr\u001b[0m\u001b[1;33m)\u001b[0m\u001b[1;33m\u001b[0m\u001b[0m\n",
      "\u001b[1;31mNameError\u001b[0m: name 'get_rgbr_list' is not defined"
     ]
    }
   ],
   "source": [
    "# functions for printing out the corresponding data values into csv files\n",
    "\n",
    "import csv \n",
    "            \n",
    "# gets a list of all items\n",
    "def get_condition_list():  \n",
    "    lst = []\n",
    "    with open('pgp_disease_cancer.csv', newline='') as eye:\n",
    "        reader = csv.DictReader(eye)\n",
    "        \n",
    "        for row in reader:\n",
    "            condition = \"\"\n",
    "            if row[\"name\"] in cancer:\n",
    "                condition = row[\"condition\"]\n",
    "                rgb_r.append(look_up_rgbr(color))\n",
    "        return rgb_r\n",
    "\n",
    "rgbr = get_rgbr_list()\n",
    "\n",
    "print(rgbr)\n",
    "print(len(tiled_and_eyecolor))"
   ]
  },
  {
   "cell_type": "code",
   "execution_count": 451,
   "metadata": {},
   "outputs": [
    {
     "name": "stdout",
     "output_type": "stream",
     "text": [
      "[0, 1, 0, 0, 0, 0, 1, 1, 0, 1, 0, 1, 1, 0, 1, 0, 0, 1, 1, 0, 1, 0, 1, 0, 1, 0, 0, 0, 1, 1, 1, 0, 1, 0, 1, 1, 0, 1, 1, 0, 0, 1, 0, 1, 1, 1, 1, 0, 1, 1, 0, 0, 0, 1, 0, 1, 0, 1, 1, 1, 1, 0, 1, 1, 1, 1, 1, 0, 1, 0, 1, 0, 1, 0, 0, 1, 0, 1]\n"
     ]
    }
   ],
   "source": [
    "#takes in color values and converts to binary 0 and 1 where 0 is blue and 1 is not blue\n",
    "\n",
    "def to_bnry(color):\n",
    "    if color <= 11:\n",
    "        return 0\n",
    "    else:\n",
    "        return 1\n",
    "    \n",
    "def get_binary_list():  \n",
    "    bnry_list = []\n",
    "    with open('pgp_simplified.csv', newline='') as eye:\n",
    "        reader = csv.DictReader(eye)\n",
    "        \n",
    "        for row in reader:\n",
    "            color = 0\n",
    "            if row[\"name\"] in tiled_and_eyecolor:\n",
    "                color = int(row[\"left\"])\n",
    "                bnry_list.append(to_bnry(color))\n",
    "        return bnry_list\n",
    "\n",
    "bnry = get_binary_list()\n",
    "\n",
    "print(bnry)"
   ]
  },
  {
   "cell_type": "code",
   "execution_count": null,
   "metadata": {
    "collapsed": true
   },
   "outputs": [],
   "source": [
    "# create a list of genomes sorted by blue and not blue\n",
    "\n"
   ]
  },
  {
   "cell_type": "code",
   "execution_count": 436,
   "metadata": {},
   "outputs": [
    {
     "name": "stdout",
     "output_type": "stream",
     "text": [
      "count:  1 3\n",
      "count:  2 5\n",
      "count:  3 1\n",
      "count:  4 3\n",
      "count:  5 2\n",
      "count:  6 2\n",
      "count:  7 6\n",
      "count:  8 4\n",
      "count:  9 1\n",
      "count:  10 4\n",
      "count:  11 4\n",
      "count:  12 0\n",
      "count:  13 10\n",
      "count:  14 8\n",
      "count:  15 2\n",
      "count:  16 5\n",
      "count:  17 0\n",
      "count:  18 3\n",
      "count:  19 0\n",
      "count:  20 9\n",
      "count:  21 2\n",
      "count:  22 0\n",
      "count:  23 3\n",
      "count:  24 1\n"
     ]
    }
   ],
   "source": [
    "# prints out a list of color frequencies\n",
    "\n",
    "import csv \n",
    "def colorfreq():   \n",
    "    color_freq = []\n",
    "    color = 1\n",
    "    while color < 25:\n",
    "        \n",
    "        with open('pgp_simplified.csv', newline='') as eye:\n",
    "            reader = csv.DictReader(eye)\n",
    "            count = 0\n",
    "        \n",
    "            for row in reader:\n",
    "                if row[\"left\"] == str(color) and row[\"name\"] in tiled_and_eyecolor:\n",
    "                    count += 1\n",
    "                else:\n",
    "                    pass\n",
    "            \n",
    "            print(\"count: \",color, count)\n",
    "        color += 1\n",
    "        \n",
    "colorfreq()\n",
    "        "
   ]
  },
  {
   "cell_type": "code",
   "execution_count": 437,
   "metadata": {},
   "outputs": [
    {
     "name": "stdout",
     "output_type": "stream",
     "text": [
      "<class 'numpy.ndarray'>\n"
     ]
    }
   ],
   "source": [
    "# load the pgp names as numpy array\n",
    "names = np.load(\"names.npy\")\n",
    "\n",
    "print(type(names))\n",
    "\n",
    "# load the pgp genomes as numpy array\n",
    "pgp = np.load(\"hiq-pgp.npy\")"
   ]
  },
  {
   "cell_type": "code",
   "execution_count": 438,
   "metadata": {},
   "outputs": [
    {
     "data": {
      "text/plain": [
       "(78, 2469062)"
      ]
     },
     "execution_count": 438,
     "metadata": {},
     "output_type": "execute_result"
    }
   ],
   "source": [
    "# keeps only the particpants of the eye survey from the pgp array and\n",
    "# discards the rest\n",
    "\n",
    "filtered_pgp = []\n",
    "name_list = []\n",
    "for i in range(len(pgp)):\n",
    "    if format(names[i]) in  tiled_and_eyecolor and format(names[i]) not in name_list:\n",
    "        filtered_pgp.append(pgp[i])\n",
    "        name_list.append(format(names[i]))\n",
    "    else:\n",
    "        pass\n",
    "    \n",
    "filtered_pgp = np.asarray(filtered_pgp)\n",
    "\n",
    "filtered_pgp.shape\n"
   ]
  },
  {
   "cell_type": "code",
   "execution_count": 427,
   "metadata": {
    "collapsed": true
   },
   "outputs": [],
   "source": [
    "filtered_pgp.dump(\"pgp_filtered.pkl\")"
   ]
  },
  {
   "cell_type": "code",
   "execution_count": 439,
   "metadata": {
    "collapsed": true
   },
   "outputs": [],
   "source": [
    "# writes the getrgbr funtion to a csv file\n",
    "\n",
    "import csv\n",
    "l = rgbr\n",
    "\n",
    "out = open('rgbr.csv', 'w')\n",
    "for row in l:\n",
    "    for column in row:\n",
    "        out.write(column)\n",
    "    out.write('\\n')\n",
    "out.close()"
   ]
  },
  {
   "cell_type": "code",
   "execution_count": 454,
   "metadata": {
    "collapsed": true
   },
   "outputs": [],
   "source": [
    "# writes the bnry  list to a csv file\n",
    "\n",
    "import csv\n",
    "l = list(map(str, bnry))\n",
    "\n",
    "out = open('bnry.csv', 'w')\n",
    "for row in l:\n",
    "    for column in row:\n",
    "        out.write(column)\n",
    "    out.write('\\n')\n",
    "out.close()"
   ]
  }
 ],
 "metadata": {
  "kernelspec": {
   "display_name": "Python 3",
   "language": "python",
   "name": "python3"
  },
  "language_info": {
   "codemirror_mode": {
    "name": "ipython",
    "version": 3
   },
   "file_extension": ".py",
   "mimetype": "text/x-python",
   "name": "python",
   "nbconvert_exporter": "python",
   "pygments_lexer": "ipython3",
   "version": "3.6.1"
  }
 },
 "nbformat": 4,
 "nbformat_minor": 2
}
