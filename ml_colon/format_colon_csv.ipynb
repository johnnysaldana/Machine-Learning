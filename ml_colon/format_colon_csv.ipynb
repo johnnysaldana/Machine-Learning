{
 "cells": [
  {
   "cell_type": "code",
   "execution_count": 135,
   "metadata": {
    "collapsed": true
   },
   "outputs": [],
   "source": [
    "import numpy as np"
   ]
  },
  {
   "cell_type": "code",
   "execution_count": 136,
   "metadata": {
    "collapsed": true
   },
   "outputs": [],
   "source": [
    "# loads the tiled genome name file\n",
    "\n",
    "arr = np.load('names.npy')\n",
    "arrlst = np.ndarray.tolist(arr)"
   ]
  },
  {
   "cell_type": "code",
   "execution_count": 137,
   "metadata": {},
   "outputs": [
    {
     "name": "stdout",
     "output_type": "stream",
     "text": [
      "218\n"
     ]
    }
   ],
   "source": [
    "# formats a single tile\n",
    "\n",
    "def format(npint):\n",
    "    s = \"\"\n",
    "    string = str(npint)\n",
    "    for char in range(len(string)):\n",
    "        if string[char] == \"-\":\n",
    "            break\n",
    "        elif string[char] != \"b\" and string[char] != \"'\":\n",
    "            s += string[char]\n",
    "        else:\n",
    "            pass\n",
    "    return s\n",
    "\n",
    "\n",
    "\n",
    "# runs formatting on all names\n",
    "\n",
    "def formatall():\n",
    "\n",
    "    tiled_partic = [] \n",
    "    for i in range(len(arrlst)):\n",
    "        tiled_partic.append(format(arrlst[i]))\n",
    "        \n",
    "    return tiled_partic\n",
    "\n",
    "\n",
    "\n",
    "tiled_names = formatall()\n",
    "\n",
    "print(len(tiled_names))"
   ]
  },
  {
   "cell_type": "code",
   "execution_count": 138,
   "metadata": {},
   "outputs": [
    {
     "name": "stdout",
     "output_type": "stream",
     "text": [
      "185\n",
      "185\n"
     ]
    }
   ],
   "source": [
    "# opens the PGP survey and dumps the participant list filtering non responses and duplicates\n",
    " \n",
    "def removedoubles(seq):\n",
    "    seen = set()\n",
    "    seen_add = seen.add\n",
    "    return [x for x in seq if not (x in seen or seen_add(x))]\n",
    "\n",
    "import csv \n",
    "\n",
    "\n",
    "with open('pgp_disease_cancer.csv', newline='') as eye:\n",
    "    reader = csv.DictReader(eye)\n",
    "    cancer_names = []\n",
    "    for row in reader:\n",
    "        cancer_names.append(row['name'])\n",
    "\n",
    "# takes out names that occur both in pgp survey and tiled genome list\n",
    "cancer_names = [x for x in cancer_names if x in tiled_names]\n",
    "\n",
    "cancer_names_unfil = cancer_names\n",
    "repeat_tiles = [x for x in cancer_names if x in tiled_names]\n",
    "cancer_names = removedoubles(cancer_names)        \n",
    "print(len(cancer_names))\n",
    "print(len(cancer_names_unfil))\n",
    "\n",
    "#print(repeat_tiles)"
   ]
  },
  {
   "cell_type": "code",
   "execution_count": 139,
   "metadata": {
    "collapsed": true
   },
   "outputs": [],
   "source": [
    "# finds repeat values and puts them in a list\n",
    "\n",
    "seen = set()\n",
    "repeats = []\n",
    "for x in cancer_names_unfil:\n",
    "    if x in seen:\n",
    "        repeats.append(x)\n",
    "    else:\n",
    "        seen.add(x)"
   ]
  },
  {
   "cell_type": "code",
   "execution_count": 140,
   "metadata": {
    "scrolled": true
   },
   "outputs": [
    {
     "name": "stdout",
     "output_type": "stream",
     "text": [
      "Repeated Values:  [] Number of Repeats: 0\n",
      "PGP Cancer Survey Names:  185\n",
      "Tiled Genomes 218\n",
      "Tiled and Survey Overlap:  185\n"
     ]
    }
   ],
   "source": [
    "# makes a list of names that are in both the PGP survey name list and the tiled genomes list\n",
    "\n",
    "print(\"Repeated Values: \",repeats, \"Number of Repeats:\", len(repeats))\n",
    "        \n",
    "print(\"PGP Cancer Survey Names: \",len(cancer_names))\n",
    "\n",
    "print(\"Tiled Genomes\", len(tiled_names))\n",
    "\n",
    "print(\"Tiled and Survey Overlap: \",len(cancer_names))"
   ]
  },
  {
   "cell_type": "code",
   "execution_count": 141,
   "metadata": {},
   "outputs": [
    {
     "name": "stdout",
     "output_type": "stream",
     "text": [
      "185\n",
      "185\n"
     ]
    }
   ],
   "source": [
    "# writes formatted csv\n",
    "lst_temp = cancer_names\n",
    "print(len(lst_temp))\n",
    "print(len(cancer_names))\n",
    "\n",
    "import csv \n",
    "with open(\"pgp_disease_cancer.csv\", newline='') as inp, open('pgp_dis_canc_formated.csv', 'w') as out:\n",
    "    writer = csv.writer(out)\n",
    "    i = 0\n",
    "    for row in csv.reader(inp):\n",
    "        if row[0] in lst_temp:\n",
    "            writer.writerow(row)\n",
    "            #print(lst_temp[i])\n",
    "            i += 1\n",
    "            #lst_temp.pop(i)\n",
    "        else:\n",
    "            pass\n",
    "\n",
    "        '''\n",
    "with open('pgp_dis_canc_formated.csv', newline='') as eye:\n",
    "    reader = csv.DictReader(eye)\n",
    "    check_list = []\n",
    "    for row in reader:\n",
    "        check_list.append(row[0])\n",
    "print(len(check_list))\n",
    "'''\n"
   ]
  },
  {
   "cell_type": "code",
   "execution_count": 142,
   "metadata": {},
   "outputs": [
    {
     "name": "stdout",
     "output_type": "stream",
     "text": [
      "['', '', '', '', '', '', '', 'Colon polyps', 'Colon polyps', 'Breast cancer', '', 'Non-melanoma skin cancer', '', '', '', '', 'Non-melanoma skin cancer, Lipoma, Uterine fibroids', 'Colon polyps, Non-melanoma skin cancer', '', '', '', 'Colon polyps', '', '', '', 'Non-melanoma skin cancer', '', '', '', 'Colon polyps, Non-melanoma skin cancer', 'Prostate cancer', '', '', 'Colon polyps', '', '', 'Colon polyps, Uterine fibroids', 'Lipoma', '', '', '', '', '', '', '', '', '', 'Kidney cancer', '', '', '', '', 'Colon polyps, Breast fibroadenoma', '', 'Colon polyps', '', 'Lipoma', '', '', '', 'Colon polyps', '', 'Non-melanoma skin cancer', '', 'Stomach cancer, Colon cancer, Rectal cancer, Colon polyps, Pancreatic cancer, Lung cancer, Melanoma, Non-melanoma skin cancer, Lipoma, Breast cancer, Breast fibroadenoma, Cervical cancer, Endometrial cancer, Uterine fibroids, Ovarian cancer, Prostate cancer, Bladder cancer, Kidney cancer, Thyroid cancer, Non-Hodgkin lymphoma, Leukemia, Polycythemia vera, Essential thrombocythemia, Neurofibromatosis, Brain cancer', 'Lipoma, Breast fibroadenoma', '', '', 'Colon polyps, Non-melanoma skin cancer', '', 'Uterine fibroids', 'Uterine fibroids', '', '', '', 'Breast cancer', 'Endometrial cancer', '', '', 'Uterine fibroids', '', '', 'Non-melanoma skin cancer', '', '', 'Lipoma', 'Colon polyps, Non-melanoma skin cancer, Thyroid cancer', 'Kidney cancer', '', '', '', '', 'Non-melanoma skin cancer', '', 'Colon polyps', '', '', '', '', '', '', '', 'Melanoma', '', '', '', '', 'Colon cancer, Colon polyps', 'Uterine fibroids', '', '', '', '', '', '', '', 'Non-Hodgkin lymphoma', '', '', 'Non-melanoma skin cancer', '', '', '', '', '', '', '', '', 'Lipoma', '', 'Non-melanoma skin cancer', '', '', 'Lipoma', '', '', 'Breast cancer', '', 'Lipoma', '', '', 'Lipoma', 'Colon polyps', '', '', '', '', 'Lipoma', '', 'Breast cancer', '', '', '', '', '', '', '', '', '', '', '', '', '', '', '', '', 'Non-melanoma skin cancer', '', '', '', '', '', '', '', 'Colon polyps', '', 'Breast cancer', '', '', '', '', '', '', '', '']\n",
      "185\n"
     ]
    }
   ],
   "source": [
    "# functions for printing out the corresponding data values into csv files\n",
    "\n",
    "import csv \n",
    "            \n",
    "# gets a list of all items\n",
    "def get_condition_list():  \n",
    "    lst = []\n",
    "    with open('pgp_disease_cancer.csv', newline='') as eye:\n",
    "        reader = csv.DictReader(eye)\n",
    "        \n",
    "        for row in reader:\n",
    "            condition = \"\"\n",
    "            if row[\"name\"] in cancer_names: #and row[\"condition\"] == \"Colin polyps\":\n",
    "                condition = row[\"condition\"]\n",
    "                lst.append(condition)\n",
    "        return lst\n",
    "\n",
    "condition_lst = get_condition_list()\n",
    "\n",
    "\n",
    "print(condition_lst)\n",
    "print(len(condition_lst))"
   ]
  },
  {
   "cell_type": "code",
   "execution_count": 145,
   "metadata": {},
   "outputs": [
    {
     "name": "stdout",
     "output_type": "stream",
     "text": [
      "185\n"
     ]
    },
    {
     "data": {
      "text/plain": [
       "17"
      ]
     },
     "execution_count": 145,
     "metadata": {},
     "output_type": "execute_result"
    }
   ],
   "source": [
    "#takes in color values and converts to binary 0 and 1 where 0 is blue and 1 is not blue\n",
    "\n",
    "def to_bnry(condition):\n",
    "    if \"Colon\" in condition:\n",
    "        return 1\n",
    "    else:\n",
    "        return 0\n",
    "    \n",
    "def get_binary_list():  \n",
    "    bnry_list = []\n",
    "    with open('pgp_disease_cancer.csv', newline='') as inp:\n",
    "        reader = csv.DictReader(inp)\n",
    "        \n",
    "        for row in reader:\n",
    "            condition = 0\n",
    "            if row[\"name\"] in cancer_names:\n",
    "                condition = row[\"condition\"]\n",
    "                bnry_list.append(to_bnry(condition))\n",
    "        return bnry_list\n",
    "\n",
    "bnry = get_binary_list()\n",
    "\n",
    "print(len(bnry))\n",
    "\n",
    "matches =[x for x in bnry if x == 1]\n",
    "\n",
    "print\n",
    "len(matches)"
   ]
  },
  {
   "cell_type": "code",
   "execution_count": 130,
   "metadata": {
    "collapsed": true
   },
   "outputs": [],
   "source": [
    "# load the pgp names as numpy array\n",
    "names = np.load(\"names.npy\")\n",
    "\n",
    "# load the pgp genomes as numpy array\n",
    "pgp = np.load(\"hiq-pgp.npy\")"
   ]
  },
  {
   "cell_type": "code",
   "execution_count": 131,
   "metadata": {},
   "outputs": [
    {
     "data": {
      "text/plain": [
       "(185, 2469062)"
      ]
     },
     "execution_count": 131,
     "metadata": {},
     "output_type": "execute_result"
    }
   ],
   "source": [
    "# keeps only the particpants of the disease survey from the pgp array and\n",
    "# discards the rest\n",
    "\n",
    "filtered_pgp = []\n",
    "name_list = []\n",
    "for i in range(len(pgp)):\n",
    "    if format(names[i]) in cancer_names and format(names[i]) not in name_list:\n",
    "        filtered_pgp.append(pgp[i])\n",
    "        name_list.append(format(names[i]))\n",
    "    else:\n",
    "        pass\n",
    "    \n",
    "filtered_pgp = np.asarray(filtered_pgp)\n",
    "\n",
    "filtered_pgp.shape\n"
   ]
  },
  {
   "cell_type": "code",
   "execution_count": 132,
   "metadata": {
    "collapsed": true
   },
   "outputs": [],
   "source": [
    "filtered_pgp.dump(\"pgp_filtered.pkl\")"
   ]
  },
  {
   "cell_type": "code",
   "execution_count": 134,
   "metadata": {
    "collapsed": true
   },
   "outputs": [],
   "source": [
    "# writes the binary list to a csv file\n",
    "\n",
    "import csv\n",
    "l = list(map(str, bnry))\n",
    "\n",
    "out = open('bnry.csv', 'w')\n",
    "for row in l:\n",
    "    for column in row:\n",
    "        out.write(column)\n",
    "    out.write('\\n')\n",
    "out.close()"
   ]
  }
 ],
 "metadata": {
  "kernelspec": {
   "display_name": "Python 3",
   "language": "python",
   "name": "python3"
  },
  "language_info": {
   "codemirror_mode": {
    "name": "ipython",
    "version": 3
   },
   "file_extension": ".py",
   "mimetype": "text/x-python",
   "name": "python",
   "nbconvert_exporter": "python",
   "pygments_lexer": "ipython3",
   "version": "3.6.1"
  }
 },
 "nbformat": 4,
 "nbformat_minor": 2
}
