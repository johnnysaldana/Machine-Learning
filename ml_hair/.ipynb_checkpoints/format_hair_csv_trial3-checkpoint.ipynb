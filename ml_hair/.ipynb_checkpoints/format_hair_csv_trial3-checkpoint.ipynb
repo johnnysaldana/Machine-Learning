{
 "cells": [
  {
   "cell_type": "code",
   "execution_count": 10,
   "metadata": {
    "collapsed": true
   },
   "outputs": [],
   "source": [
    "import numpy as np"
   ]
  },
  {
   "cell_type": "code",
   "execution_count": 11,
   "metadata": {
    "collapsed": true
   },
   "outputs": [],
   "source": [
    "# loads the tiled genome name file\n",
    "\n",
    "arr = np.load('names.npy')\n",
    "arrlst = np.ndarray.tolist(arr)"
   ]
  },
  {
   "cell_type": "code",
   "execution_count": 12,
   "metadata": {},
   "outputs": [
    {
     "name": "stdout",
     "output_type": "stream",
     "text": [
      "218\n"
     ]
    }
   ],
   "source": [
    "# formats a single tile\n",
    "\n",
    "def format(npint):\n",
    "    s = \"\"\n",
    "    string = str(npint)\n",
    "    for char in range(len(string)):\n",
    "        if string[char] == \"-\":\n",
    "            break\n",
    "        elif string[char] != \"b\" and string[char] != \"'\":\n",
    "            s += string[char]\n",
    "        else:\n",
    "            pass\n",
    "    return s\n",
    "\n",
    "\n",
    "\n",
    "# runs formatting on all names\n",
    "\n",
    "def formatall():\n",
    "\n",
    "    tiled_partic = [] \n",
    "    for i in range(len(arrlst)):\n",
    "        tiled_partic.append(format(arrlst[i]))\n",
    "        \n",
    "    return tiled_partic\n",
    "\n",
    "\n",
    "\n",
    "tiled_names = formatall()\n",
    "\n",
    "print(len(tiled_names))"
   ]
  },
  {
   "cell_type": "code",
   "execution_count": 25,
   "metadata": {},
   "outputs": [
    {
     "name": "stdout",
     "output_type": "stream",
     "text": [
      "80\n",
      "['hu826751', 'hu3DC5EA', 'hu0D1FA1', 'huAEADC0', 'hu2D6140', 'hu4BF398', 'hu2C1D94', 'hu60180F', 'huDE435D', 'huA05317', 'hu6C733E', 'huDBF9DD', 'hu034DB1', 'hu0E64A1', 'hu627574', 'hu7123C1', 'huC14AE1', 'hu76CAA5', 'huF83462', 'huC5733C', 'hu5962F5', 'huF80F84', 'hu04F220', 'huDBD591', 'hu599905', 'hu3CAB43', 'hu5E55F5', 'hu26B551', 'hu5CD2C6', 'huA4E2CF', 'hu3C0611', 'huE9B698', 'huEC6EEC', 'hu67EBB3', 'hu8E2A35', 'huB4940E', 'hu620F18', 'hu602487', 'huF1DC30', 'hu4CA5B9', 'hu43860C', 'hu4BE6F2', 'huB1488D', 'huED0F40', 'hu24C863', 'hu49F623', 'huD81F3D', 'huC434ED', 'huEDF7DA', 'hu4040B8', 'huCBDC6D', 'huD649F1', 'hu925B56', 'hu016B28', 'hu79F922', 'huF160AA', 'hu4FE0D1', 'hu52B7E5', 'hu9E6329', 'huAFA81C', 'huD09534', 'huFE71F3', 'hu7A2F1D', 'huC92BC9', 'hu955EE1', 'hu868880', 'hu60AB7C', 'hu470099', 'hu1187FF', 'huA49E22', 'hu448C4B', 'hu72C17A', 'hu05FD49', 'huF5E0B6', 'hu2DBF2D', 'hu0211D6', 'hu0E7AAF', 'hu040C0A', 'hu2FEC01', 'hu19C09F']\n"
     ]
    }
   ],
   "source": [
    "# opens the PGP survey and dumps the participant list filtering non responses and duplicates\n",
    "\n",
    "import csv \n",
    "\n",
    "\n",
    "with open('pgp_hair_trial3.csv', newline='') as hair:\n",
    "    reader = csv.DictReader(hair)\n",
    "    hair_names = []\n",
    "    for row in reader:\n",
    "        hair_names.append(row['name'])\n",
    "\n",
    "\n",
    "print(len(hair_names))\n",
    "print(hair_names)\n",
    "\n",
    "#print(repeat_tiles)"
   ]
  },
  {
   "cell_type": "code",
   "execution_count": 26,
   "metadata": {},
   "outputs": [
    {
     "name": "stdout",
     "output_type": "stream",
     "text": [
      "rows: 80\n",
      "Dark Hair: 41\n",
      "Light Hair 39\n",
      "[1, 1, 1, 0, 0, 0, 0, 0, 1, 1, 1, 0, 0, 0, 0, 0, 0, 1, 0, 0, 1, 1, 0, 0, 1, 0, 0, 0, 0, 1, 1, 0, 1, 1, 1, 1, 1, 0, 1, 1, 0, 0, 0, 0, 1, 0, 1, 0, 1, 1, 0, 0, 1, 1, 0, 1, 1, 0, 1, 1, 0, 0, 0, 1, 1, 0, 1, 1, 1, 1, 0, 1, 1, 0, 0, 1, 1, 1, 0, 1]\n"
     ]
    }
   ],
   "source": [
    "#takes in color values and converts to binary 0 and 1 where 0 is blue and 1 is not blue\n",
    "    \n",
    "dark_lst = ['brown', 'black']\n",
    "\n",
    "def to_bnry(color):\n",
    "    if color in dark_lst:\n",
    "        return 1\n",
    "    else:\n",
    "        return 0\n",
    "        \n",
    "def get_binary_list():  \n",
    "    bnry_list = []\n",
    "    with open('pgp_hair_trial3.csv', newline='') as inp:\n",
    "        reader = csv.DictReader(inp) \n",
    "        color = \"\"\n",
    "        for row in reader:\n",
    "            color = row['hair']\n",
    "            bnry_list.append(to_bnry(color))\n",
    "                \n",
    "        return bnry_list\n",
    "\n",
    "bnry = get_binary_list()\n",
    "\n",
    "print(\"rows:\", len(bnry))\n",
    "\n",
    "matches = [x for x in bnry if x == 1]\n",
    "\n",
    "print(\"Dark Hair:\", len(matches))\n",
    "\n",
    "print(\"Light Hair\", len(bnry) -len(matches) )\n",
    "\n",
    "print(bnry)"
   ]
  },
  {
   "cell_type": "code",
   "execution_count": 20,
   "metadata": {
    "collapsed": true
   },
   "outputs": [],
   "source": [
    "# load the pgp names as numpy array\n",
    "names = np.load(\"names.npy\")\n",
    "\n",
    "# load the pgp genomes as numpy array\n",
    "pgp = np.load(\"hiq-pgp.npy\")"
   ]
  },
  {
   "cell_type": "code",
   "execution_count": 27,
   "metadata": {},
   "outputs": [
    {
     "data": {
      "text/plain": [
       "(80, 2469062)"
      ]
     },
     "execution_count": 27,
     "metadata": {},
     "output_type": "execute_result"
    }
   ],
   "source": [
    "# keeps only the particpants of the disease survey from the pgp array and\n",
    "# discards the rest\n",
    "\n",
    "filtered_pgp = []\n",
    "name_list = []\n",
    "for i in range(len(pgp)):\n",
    "    if format(names[i]) in hair_names and format(names[i]) not in name_list:\n",
    "        filtered_pgp.append(pgp[i])\n",
    "        name_list.append(format(names[i]))\n",
    "    else:\n",
    "        pass\n",
    "    \n",
    "filtered_pgp = np.asarray(filtered_pgp)\n",
    "\n",
    "filtered_pgp.shape\n"
   ]
  },
  {
   "cell_type": "code",
   "execution_count": 28,
   "metadata": {
    "collapsed": true
   },
   "outputs": [],
   "source": [
    "filtered_pgp.dump(\"pgp_filtered_trial3.pkl\")"
   ]
  },
  {
   "cell_type": "code",
   "execution_count": 29,
   "metadata": {
    "collapsed": true
   },
   "outputs": [],
   "source": [
    "# writes the binary list to a csv file\n",
    "\n",
    "import csv\n",
    "l = list(map(str, bnry))\n",
    "\n",
    "out = open('bnry_trial3.csv', 'w')\n",
    "for row in l:\n",
    "    for column in row:\n",
    "        out.write(column)\n",
    "    out.write('\\n')\n",
    "out.close()"
   ]
  }
 ],
 "metadata": {
  "kernelspec": {
   "display_name": "Python 3",
   "language": "python",
   "name": "python3"
  },
  "language_info": {
   "codemirror_mode": {
    "name": "ipython",
    "version": 3
   },
   "file_extension": ".py",
   "mimetype": "text/x-python",
   "name": "python",
   "nbconvert_exporter": "python",
   "pygments_lexer": "ipython3",
   "version": "3.6.1"
  }
 },
 "nbformat": 4,
 "nbformat_minor": 2
}
