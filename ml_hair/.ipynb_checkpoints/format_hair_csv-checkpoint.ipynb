{
 "cells": [
  {
   "cell_type": "code",
   "execution_count": 1,
   "metadata": {
    "collapsed": true
   },
   "outputs": [],
   "source": [
    "import numpy as np"
   ]
  },
  {
   "cell_type": "code",
   "execution_count": 2,
   "metadata": {
    "collapsed": true
   },
   "outputs": [],
   "source": [
    "# loads the tiled genome name file\n",
    "\n",
    "arr = np.load('names.npy')\n",
    "arrlst = np.ndarray.tolist(arr)"
   ]
  },
  {
   "cell_type": "code",
   "execution_count": 13,
   "metadata": {},
   "outputs": [
    {
     "name": "stdout",
     "output_type": "stream",
     "text": [
      "218\n"
     ]
    }
   ],
   "source": [
    "# formats a single tile\n",
    "\n",
    "def format(npint):\n",
    "    s = \"\"\n",
    "    string = str(npint)\n",
    "    for char in range(len(string)):\n",
    "        if string[char] == \"-\":\n",
    "            break\n",
    "        elif string[char] != \"b\" and string[char] != \"'\":\n",
    "            s += string[char]\n",
    "        else:\n",
    "            pass\n",
    "    return s\n",
    "\n",
    "\n",
    "\n",
    "# runs formatting on all names\n",
    "\n",
    "def formatall():\n",
    "\n",
    "    tiled_partic = [] \n",
    "    for i in range(len(arrlst)):\n",
    "        tiled_partic.append(format(arrlst[i]))\n",
    "        \n",
    "    return tiled_partic\n",
    "\n",
    "\n",
    "\n",
    "tiled_names = formatall()\n",
    "\n",
    "print(len(tiled_names))"
   ]
  },
  {
   "cell_type": "code",
   "execution_count": 46,
   "metadata": {},
   "outputs": [
    {
     "name": "stdout",
     "output_type": "stream",
     "text": [
      "83\n",
      "90\n",
      "['hu826751', 'hu3DC5EA', 'hu0D1FA1', 'huAEADC0', 'hu2D6140', 'hu4BF398', 'hu2C1D94', 'huB1FD55', 'hu60180F', 'huDE435D', 'huA05317', 'hu6C733E', 'huDBF9DD', 'hu034DB1', 'hu0E64A1', 'hu627574', 'hu7123C1', 'huC14AE1', 'hu76CAA5', 'huF83462', 'huC5733C', 'hu5962F5', 'huF80F84', 'hu04F220', 'huDBD591', 'hu599905', 'hu3CAB43', 'hu5E55F5', 'hu26B551', 'hu5CD2C6', 'huA4E2CF', 'hu3C0611', 'huE9B698', 'huEC6EEC', 'hu67EBB3', 'hu8E2A35', 'huB4940E', 'hu620F18', 'hu602487', 'huF1DC30', 'hu4CA5B9', 'huD3A569', 'hu43860C', 'hu4BE6F2', 'huB1488D', 'huED0F40', 'hu24C863', 'hu49F623', 'huD81F3D', 'huC434ED', 'huEDF7DA', 'hu4040B8', 'huCBDC6D', 'huD649F1', 'hu925B56', 'hu016B28', 'hu79F922', 'huF160AA', 'hu4FE0D1', 'hu52B7E5', 'hu9E6329', 'huAFA81C', 'huD09534', 'huFE71F3', 'hu7A2F1D', 'huC92BC9', 'hu955EE1', 'hu868880', 'hu60AB7C', 'hu470099', 'hu1187FF', 'huA49E22', 'hu448C4B', 'hu72C17A', 'hu05FD49', 'huF5E0B6', 'hu1F73AB', 'hu2DBF2D', 'hu0211D6', 'hu0E7AAF', 'hu040C0A', 'hu2FEC01', 'hu19C09F']\n"
     ]
    }
   ],
   "source": [
    "# opens the PGP survey and dumps the participant list filtering non responses and duplicates\n",
    " \n",
    "def removedoubles(seq):\n",
    "    seen = set()\n",
    "    seen_add = seen.add\n",
    "    return [x for x in seq if not (x in seen or seen_add(x))]\n",
    "\n",
    "import csv \n",
    "\n",
    "\n",
    "with open('pgp_hair.csv', newline='') as hair:\n",
    "    reader = csv.DictReader(hair)\n",
    "    hair_names = []\n",
    "    for row in reader:\n",
    "        hair_names.append(row['name'])\n",
    "\n",
    "# takes out names that occur both in pgp survey and tiled genome list\n",
    "hair_names = [x for x in hair_names if x in tiled_names]\n",
    "\n",
    "hair_names_unfil = hair_names\n",
    "repeat_tiles = [x for x in hair_names if x in tiled_names]\n",
    "hair_names = removedoubles(hair_names)        \n",
    "print(len(hair_names))\n",
    "print(len(hair_names_unfil))\n",
    "print(hair_names)\n",
    "\n",
    "#print(repeat_tiles)"
   ]
  },
  {
   "cell_type": "code",
   "execution_count": 32,
   "metadata": {
    "collapsed": true
   },
   "outputs": [],
   "source": [
    "# finds repeat values and puts them in a list\n",
    "\n",
    "seen = set()\n",
    "repeats = []\n",
    "for x in hair_names_unfil:\n",
    "    if x in seen:\n",
    "        repeats.append(x)\n",
    "    else:\n",
    "        seen.add(x)"
   ]
  },
  {
   "cell_type": "code",
   "execution_count": 33,
   "metadata": {
    "scrolled": true
   },
   "outputs": [
    {
     "name": "stdout",
     "output_type": "stream",
     "text": [
      "Repeated Values:  ['hu2D6140', 'hu49F623', 'hu826751', 'hu72C17A', 'huB1FD55', 'hu5E55F5', 'huFE71F3'] Number of Repeats: 7\n",
      "PGP hair Survey Names:  83\n",
      "Tiled Genomes 218\n",
      "Tiled and Survey Overlap:  83\n"
     ]
    }
   ],
   "source": [
    "# makes a list of names that are in both the PGP survey name list and the tiled genomes list\n",
    "\n",
    "print(\"Repeated Values: \",repeats, \"Number of Repeats:\", len(repeats))\n",
    "        \n",
    "print(\"PGP hair Survey Names: \",len(hair_names))\n",
    "\n",
    "print(\"Tiled Genomes\", len(tiled_names))\n",
    "\n",
    "print(\"Tiled and Survey Overlap: \",len(hair_names))"
   ]
  },
  {
   "cell_type": "code",
   "execution_count": 26,
   "metadata": {},
   "outputs": [
    {
     "name": "stdout",
     "output_type": "stream",
     "text": [
      "83\n"
     ]
    }
   ],
   "source": [
    "\n",
    "print(len(hair_names))\n"
   ]
  },
  {
   "cell_type": "code",
   "execution_count": 21,
   "metadata": {},
   "outputs": [
    {
     "name": "stdout",
     "output_type": "stream",
     "text": [
      "83\n",
      "54\n",
      "[1, 1, 1, 0, 0, 0, 0, 0, 0, 1, 1, 1, 1, 0, 1, 0, 0, 0, 1, 0, 0, 1, 1, 0, 1, 1, 0, 1, 1, 1, 1, 1, 0, 1, 1, 1, 1, 1, 0, 1, 1, 0, 0, 1, 1, 1, 1, 1, 1, 1, 1, 1, 0, 0, 1, 1, 0, 1, 1, 0, 1, 1, 1, 0, 0, 1, 1, 0, 1, 1, 1, 1, 0, 1, 1, 0, 0, 0, 1, 1, 1, 1, 1]\n"
     ]
    }
   ],
   "source": [
    "#takes in color values and converts to binary 0 and 1 where 0 is blue and 1 is not blue\n",
    "    \n",
    "dark_lst = ['brown', 'black']\n",
    "\n",
    "def to_bnry(color):\n",
    "    if color in dark_lst:\n",
    "        return 1\n",
    "    else:\n",
    "        return 0\n",
    "        \n",
    "def get_binary_list():  \n",
    "    bnry_list = []\n",
    "    with open('pgp_hair_interpolated.csv', newline='') as inp:\n",
    "        reader = csv.DictReader(inp) \n",
    "        color = \"\"\n",
    "        for row in reader:\n",
    "            color = row['hair']\n",
    "            bnry_list.append(to_bnry(color))\n",
    "                \n",
    "        return bnry_list\n",
    "\n",
    "bnry = get_binary_list()\n",
    "\n",
    "print(len(bnry))\n",
    "\n",
    "matches = [x for x in bnry if x == 1]\n",
    "\n",
    "print(len(matches))\n",
    "\n",
    "print(bnry)"
   ]
  },
  {
   "cell_type": "code",
   "execution_count": 22,
   "metadata": {
    "collapsed": true
   },
   "outputs": [],
   "source": [
    "# load the pgp names as numpy array\n",
    "names = np.load(\"names.npy\")\n",
    "\n",
    "# load the pgp genomes as numpy array\n",
    "pgp = np.load(\"hiq-pgp.npy\")"
   ]
  },
  {
   "cell_type": "code",
   "execution_count": 23,
   "metadata": {},
   "outputs": [
    {
     "data": {
      "text/plain": [
       "(83, 2469062)"
      ]
     },
     "execution_count": 23,
     "metadata": {},
     "output_type": "execute_result"
    }
   ],
   "source": [
    "# keeps only the particpants of the disease survey from the pgp array and\n",
    "# discards the rest\n",
    "\n",
    "filtered_pgp = []\n",
    "name_list = []\n",
    "for i in range(len(pgp)):\n",
    "    if format(names[i]) in hair_names and format(names[i]) not in name_list:\n",
    "        filtered_pgp.append(pgp[i])\n",
    "        name_list.append(format(names[i]))\n",
    "    else:\n",
    "        pass\n",
    "    \n",
    "filtered_pgp = np.asarray(filtered_pgp)\n",
    "\n",
    "filtered_pgp.shape\n"
   ]
  },
  {
   "cell_type": "code",
   "execution_count": 24,
   "metadata": {
    "collapsed": true
   },
   "outputs": [],
   "source": [
    "filtered_pgp.dump(\"pgp_filtered.pkl\")"
   ]
  },
  {
   "cell_type": "code",
   "execution_count": 101,
   "metadata": {
    "collapsed": true
   },
   "outputs": [],
   "source": [
    "# writes the binary list to a csv file\n",
    "\n",
    "import csv\n",
    "l = list(map(str, bnry))\n",
    "\n",
    "out = open('bnry2.csv', 'w')\n",
    "for row in l:\n",
    "    for column in row:\n",
    "        out.write(column)\n",
    "    out.write('\\n')\n",
    "out.close()"
   ]
  },
  {
   "cell_type": "code",
   "execution_count": null,
   "metadata": {
    "collapsed": true
   },
   "outputs": [],
   "source": [
    "print(hair_names[69])\n",
    "\n",
    "#hair_names.pop(69)\n",
    "\n",
    "print(len(hair_names))"
   ]
  },
  {
   "cell_type": "code",
   "execution_count": 73,
   "metadata": {},
   "outputs": [
    {
     "name": "stdout",
     "output_type": "stream",
     "text": [
      "76\n",
      "hu1F73AB\n",
      "0 hu826751\n",
      "1 hu3DC5EA\n",
      "2 hu0D1FA1\n",
      "3 huAEADC0\n",
      "4 hu2D6140\n",
      "5 hu4BF398\n",
      "6 huB1FD55\n",
      "7 hu60180F\n",
      "8 huDE435D\n",
      "9 huA05317\n",
      "10 hu6C733E\n",
      "11 huDBF9DD\n",
      "12 hu034DB1\n",
      "13 hu0E64A1\n",
      "14 hu627574\n",
      "15 hu7123C1\n",
      "16 huC14AE1\n",
      "17 hu76CAA5\n",
      "18 huF83462\n",
      "19 huC5733C\n",
      "20 hu5962F5\n",
      "21 huF80F84\n",
      "22 huDBD591\n",
      "23 hu599905\n",
      "24 hu3CAB43\n",
      "25 hu5E55F5\n",
      "26 hu26B551\n",
      "27 hu5CD2C6\n",
      "28 huA4E2CF\n",
      "29 hu3C0611\n",
      "30 huE9B698\n",
      "31 huEC6EEC\n",
      "32 hu67EBB3\n",
      "33 hu8E2A35\n",
      "34 huB4940E\n",
      "35 hu620F18\n",
      "36 hu602487\n",
      "37 huF1DC30\n",
      "38 hu4CA5B9\n",
      "39 hu4BE6F2\n",
      "40 huB1488D\n",
      "41 huED0F40\n",
      "42 hu24C863\n",
      "43 hu49F623\n",
      "44 huD81F3D\n",
      "45 huC434ED\n",
      "46 huEDF7DA\n",
      "47 hu4040B8\n",
      "48 huCBDC6D\n",
      "49 huD649F1\n",
      "50 hu925B56\n",
      "51 hu016B28\n",
      "52 hu79F922\n",
      "53 huF160AA\n",
      "54 hu4FE0D1\n",
      "55 hu9E6329\n",
      "56 huAFA81C\n",
      "57 huD09534\n",
      "58 hu7A2F1D\n",
      "59 huC92BC9\n",
      "60 hu955EE1\n",
      "61 hu60AB7C\n",
      "62 hu470099\n",
      "63 hu1187FF\n",
      "64 huA49E22\n",
      "65 hu448C4B\n",
      "66 hu72C17A\n",
      "67 hu05FD49\n",
      "68 huF5E0B6\n",
      "69 hu2DBF2D\n",
      "70 hu0211D6\n",
      "71 hu0E7AAF\n",
      "72 hu040C0A\n",
      "73 hu2FEC01\n",
      "74 hu19C09F\n"
     ]
    }
   ],
   "source": [
    "print(len(hair_names))\n",
    "\n",
    "print(hair_names[69])\n",
    "\n",
    "#hair_names.pop(69)\n",
    "\n",
    "hair_names_nored = hair_names\n",
    "\n",
    "for i in range(len(hair_names_nored)):\n",
    "    print(i, hair_names_nored[i])\n",
    "\n"
   ]
  },
  {
   "cell_type": "code",
   "execution_count": 106,
   "metadata": {},
   "outputs": [
    {
     "name": "stdout",
     "output_type": "stream",
     "text": [
      "75\n"
     ]
    }
   ],
   "source": [
    "print(len(hair_names_nored))\n",
    "\n",
    "import csv\n",
    "l = list(map(str, hair_names_nored))\n",
    "\n",
    "out = open('names_nored.csv', 'w')\n",
    "for row in l:\n",
    "    for column in row:\n",
    "        out.write(column)\n",
    "    out.write('\\n')\n",
    "out.close()"
   ]
  },
  {
   "cell_type": "code",
   "execution_count": 83,
   "metadata": {},
   "outputs": [
    {
     "data": {
      "text/plain": [
       "(75, 2469062)"
      ]
     },
     "execution_count": 83,
     "metadata": {},
     "output_type": "execute_result"
    }
   ],
   "source": [
    "# keeps only the particpants of the disease survey from the pgp array and\n",
    "# discards the rest\n",
    "\n",
    "filtered_pgp_nored = []\n",
    "name_list_nored = []\n",
    "for i in range(len(pgp)):\n",
    "    if format(names[i]) in hair_names_nored and format(names[i]) not in name_list_nored:\n",
    "        filtered_pgp_nored.append(pgp[i])\n",
    "        name_list_nored.append(format(names[i]))\n",
    "    else:\n",
    "        pass\n",
    "    \n",
    "filtered_pgp_nored = np.asarray(filtered_pgp_nored)\n",
    "\n",
    "filtered_pgp_nored.shape\n"
   ]
  },
  {
   "cell_type": "code",
   "execution_count": 84,
   "metadata": {
    "collapsed": true
   },
   "outputs": [],
   "source": [
    "filtered_pgp_nored.dump(\"pgp_filtered_nored.pkl\")"
   ]
  },
  {
   "cell_type": "code",
   "execution_count": 98,
   "metadata": {},
   "outputs": [
    {
     "name": "stdout",
     "output_type": "stream",
     "text": [
      "75\n",
      "54\n",
      "[1, 1, 1, 0, 0, 0, 0, 0, 1, 1, 1, 1, 0, 1, 0, 0, 0, 1, 0, 0, 1, 1, 1, 1, 0, 1, 1, 1, 1, 1, 0, 1, 1, 1, 1, 1, 0, 1, 1, 1, 1, 1, 1, 1, 1, 1, 1, 1, 0, 0, 1, 1, 0, 1, 1, 1, 1, 1, 0, 1, 1, 1, 1, 1, 1, 0, 1, 1, 0, 0, 1, 1, 1, 1, 1]\n"
     ]
    }
   ],
   "source": [
    "#takes in color values and converts to binary 0 and 1 where 0 is blue and 1 is not blue\n",
    "\n",
    "def get_binary_list_nored():  \n",
    "    bnry_list_nored = []\n",
    "    with open('pgp_hair_interpolated_nored.csv', newline='') as nored:\n",
    "        reader = csv.DictReader(nored) \n",
    "        color = \"\"\n",
    "        for row in reader:\n",
    "            color = row['hair']\n",
    "            bnry_list_nored.append(to_bnry(color))\n",
    "                \n",
    "        return bnry_list_nored\n",
    "\n",
    "bnry_nored = get_binary_list_nored()\n",
    "\n",
    "print(len(bnry_nored))\n",
    "\n",
    "matches_nored = [x for x in bnry_nored if x == 1]\n",
    "\n",
    "print(len(matches_nored))\n",
    "\n",
    "print(bnry_nored)"
   ]
  },
  {
   "cell_type": "code",
   "execution_count": 103,
   "metadata": {
    "collapsed": true
   },
   "outputs": [],
   "source": [
    "# writes the binary list to a csv file\n",
    "\n",
    "import csv\n",
    "l = list(map(str, bnry_nored))\n",
    "\n",
    "out = open('bnry_nored.csv', 'w')\n",
    "for row in l:\n",
    "    for column in row:\n",
    "        out.write(column)\n",
    "    out.write('\\n')\n",
    "out.close()"
   ]
  }
 ],
 "metadata": {
  "kernelspec": {
   "display_name": "Python 3",
   "language": "python",
   "name": "python3"
  },
  "language_info": {
   "codemirror_mode": {
    "name": "ipython",
    "version": 3
   },
   "file_extension": ".py",
   "mimetype": "text/x-python",
   "name": "python",
   "nbconvert_exporter": "python",
   "pygments_lexer": "ipython3",
   "version": "3.6.1"
  }
 },
 "nbformat": 4,
 "nbformat_minor": 2
}
