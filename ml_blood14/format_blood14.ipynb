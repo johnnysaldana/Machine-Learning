{
 "cells": [
  {
   "cell_type": "code",
   "execution_count": null,
   "metadata": {
    "collapsed": true
   },
   "outputs": [],
   "source": [
    "#################################### formats the pgp survey for machine learning ################################"
   ]
  },
  {
   "cell_type": "code",
   "execution_count": 3,
   "metadata": {
    "collapsed": true
   },
   "outputs": [],
   "source": [
    "import numpy as np"
   ]
  },
  {
   "cell_type": "code",
   "execution_count": 4,
   "metadata": {},
   "outputs": [],
   "source": [
    "# load the pgp names as numpy array\n",
    "names = np.load(\"C:\\\\Users\\\\j\\\\Desktop\\\\tiling_rep\\\\names14.npy\")\n",
    "\n",
    "# load pgp array to a list\n",
    "names_lst = np.ndarray.tolist(names)\n",
    "\n",
    "# load the pgp genomes as numpy array\n",
    "pgp = np.load(\"C:\\\\Users\\\\j\\\\Desktop\\\\tiling_rep\\\\hiq-pgp14\")\n"
   ]
  },
  {
   "cell_type": "code",
   "execution_count": 5,
   "metadata": {},
   "outputs": [
    {
     "name": "stdout",
     "output_type": "stream",
     "text": [
      "[b'hu011C57-GS01669-DNA_B05' b'hu016B28-GS01669-DNA_H03'\n",
      " b'hu01F73B-GS03133-DNA_A02' b'hu0211D6-GS01175-DNA_E02'\n",
      " b'hu025CEA-GS01669-DNA_D02' b'hu032C04-GS01669-DNA_A10'\n",
      " b'hu03E3D2-GS03132-DNA_D01' b'hu040C0A-GS01175-DNA_F05'\n",
      " b'hu0486D6-GS03132-DNA_C01' b'hu04DF3C-GS01670-DNA_A02'\n",
      " b'hu04F220-GS01670-DNA_A01' b'hu04FD18-GS00253-DNA_F01'\n",
      " b'hu050E9C-GS01173-DNA_G06' b'hu05FD49-GS01175-DNA_D04'\n",
      " b'hu085B6D-GS03132-DNA_A01' b'hu089792-GS02269-DNA_B02'\n",
      " b'hu0A4518-GS01670-DNA_F01' b'hu0CF2EE-GS01175-DNA_F06'\n",
      " b'hu0D1FA1-GS01669-DNA_G09' b'hu0D879F-GS00253-DNA_G01'\n",
      " b'hu0D879F-GS01669-DNA_A08' b'hu0E64A1-GS01173-DNA_B02'\n",
      " b'hu0E7AAF-GS03023-DNA_A01' b'hu1187FF-GS02269-DNA_A04'\n",
      " b'hu132B5C-GS01670-DNA_E01' b'hu1378E3-GS01669-DNA_C03'\n",
      " b'hu15FECA-GS01175-DNA_F03' b'hu1904EC-GS01175-DNA_E06'\n",
      " b'hu19C09F-GS01669-DNA_F05' b'hu1E868D-GS03166-DNA_C02'\n",
      " b'hu1F73AB-GS01669-DNA_B07' b'hu241DEA-GS01175-DNA_D05'\n",
      " b'hu24A473-GS03132-DNA_F01' b'hu24C863-GS01670-DNA_B02'\n",
      " b'hu259AC7-GS01175-DNA_A05' b'hu26B551-GS01175-DNA_F04'\n",
      " b'hu27FD1F-GS02269-DNA_B04' b'hu2843C9-GS01669-DNA_D05'\n",
      " b'hu297562-GS01669-DNA_H01' b'hu2C1D94-GS01175-DNA_H02'\n",
      " b'hu2D6140-GS01173-DNA_F06' b'hu2DBF2D-GS01173-DNA_G02'\n",
      " b'hu2FEC01-GS01175-DNA_E03' b'hu3073E3-GS01239-DNA_D02'\n",
      " b'hu33E2D9-GS01669-DNA_G10' b'hu342A08-GS01175-DNA_B05'\n",
      " b'hu34D5B9-GS01173-DNA_C07' b'hu34D5B9-GS01670-DNA_E02'\n",
      " b'hu38168C-GS01173-DNA_H06' b'hu3A1B15-GS02269-DNA_C01'\n",
      " b'hu3A8D13-GS01669-DNA_E11' b'hu3C0611-GS01669-DNA_E08'\n",
      " b'hu3CAB43-GS01175-DNA_D03' b'hu3DC5EA-GS03184-DNA_F01'\n",
      " b'hu3F864B-GS01669-DNA_F08' b'hu4040B8-GS01175-DNA_D01'\n",
      " b'hu42B622-GS03387-DNA_A03' b'hu42D651-GS01669-DNA_G03'\n",
      " b'hu432EB5-GS01670-DNA_F02' b'hu4339C0-GS01175-DNA_H01'\n",
      " b'hu43860C-GS00253-DNA_A01' b'hu448C4B-GS01669-DNA_E07'\n",
      " b'hu44DCFF-GS01669-DNA_C07' b'hu470099-GS01175-DNA_G06'\n",
      " b'hu474789-GS02269-DNA_G04' b'hu48C4EB-GS01239-DNA_D01'\n",
      " b'hu49F623-GS02269-DNA_F01' b'hu4B0812-GS01669-DNA_A11'\n",
      " b'hu4BE6F2-GS01669-DNA_A06' b'hu4BF398-GS01175-DNA_A06'\n",
      " b'hu4CA5B9-GS01669-DNA_B03' b'hu4FE0D1-GS01669-DNA_G04'\n",
      " b'hu52B7E5-GS01669-DNA_H04' b'hu52F345-GS01669-DNA_G07'\n",
      " b'hu553620-GS01669-DNA_B08' b'hu566AA7-GS03274-DNA_H01'\n",
      " b'hu57A769-GS01669-DNA_C08' b'hu589D0B-GS01669-DNA_H11'\n",
      " b'hu5962F5-GS03166-DNA_C01' b'hu599905-GS01670-DNA_H01'\n",
      " b'hu5B8771-GS02269-DNA_B01' b'hu5CD2C6-GS01669-DNA_F04'\n",
      " b'hu5E55F5-GS02269-DNA_B03' b'hu5FA322-GS01669-DNA_E06'\n",
      " b'hu5FB1B9-GS01669-DNA_C06' b'hu5FCE15-GS01195-DNA_B01'\n",
      " b'hu60180F-GS01175-DNA_B06' b'hu602487-GS02269-DNA_F02'\n",
      " b'hu604D39-GS00253-DNA_B02' b'hu60AB7C-GS01670-DNA_D01'\n",
      " b'hu619F51-GS01669-DNA_B02' b'hu620F18-GS02269-DNA_E02'\n",
      " b'hu627574-GS01669-DNA_E01' b'hu63EB0A-GS01175-DNA_C05'\n",
      " b'hu64DBF7-GS01669-DNA_D03' b'hu661AD0-GS01670-DNA_C02'\n",
      " b'hu67EBB3-GS01669-DNA_G06' b'hu687B6B-GS01669-DNA_H07'\n",
      " b'hu68929D-GS01669-DNA_F11' b'hu6A01AF-GS03132-DNA_G01'\n",
      " b'hu6C733E-GS01669-DNA_E05' b'hu6E4515-GS01173-DNA_D07'\n",
      " b'hu6EDC7E-GS02995-DNA_F02' b'hu704A85-GS01239-DNA_E01'\n",
      " b'hu7123C1-GS01669-DNA_D07' b'hu71E59D-GS01239-DNA_F01'\n",
      " b'hu72A81D-GS01173-DNA_C02' b'hu72C17A-GS01669-DNA_F07'\n",
      " b'hu7379BC-GS03052-DNA_E01' b'hu76CAA5-GS02269-DNA_G03'\n",
      " b'hu775356-GS01175-DNA_A07' b'hu7852C5-GS01175-DNA_H05'\n",
      " b'hu79F922-GS01669-DNA_D06' b'hu7A2F1D-GS01669-DNA_C01'\n",
      " b'hu7A4AD1-GS01669-DNA_C05' b'hu7B594C-GS01669-DNA_G05'\n",
      " b'hu7C3A81-GS03052-DNA_F01' b'hu7DCBF9-GS01175-DNA_A03'\n",
      " b'hu8073B9-GS01239-DNA_G01' b'hu80AD0F-GS03166-DNA_B03'\n",
      " b'hu8229AE-GS01173-DNA_A07' b'hu82436A-GS02269-DNA_F03'\n",
      " b'hu826751-GS03052-DNA_B01' b'hu82E689-GS01669-DNA_A09'\n",
      " b'hu83BC6A-GS03023-DNA_C01' b'hu868880-GS02269-DNA_E01'\n",
      " b'hu88A079-GS01669-DNA_F03' b'hu8A5FBF-GS03184-DNA_A02'\n",
      " b'hu8E2A35-GS01669-DNA_G11' b'hu8E87A9-GS01669-DNA_B09'\n",
      " b'hu8F918A-GS01670-DNA_B01' b'hu90B053-GS01670-DNA_D02'\n",
      " b'hu925B56-GS03274-DNA_B01' b'hu92C40A-GS01175-DNA_G03'\n",
      " b'hu92FD55-GS01669-DNA_A04' b'hu9385BA-GS00253-DNA_E01'\n",
      " b'hu939B7C-GS01670-DNA_C01' b'hu955EE1-GS01173-DNA_G01'\n",
      " b'hu9E6329-GS03052-DNA_A01' b'huA02824-GS02269-DNA_G01'\n",
      " b'huA05317-GS01669-DNA_E10' b'huA0E089-GS01175-DNA_B04'\n",
      " b'huA49E22-GS01669-DNA_E04' b'huA4E2CF-GS01173-DNA_D04'\n",
      " b'huA4F281-GS01669-DNA_H10' b'huA5FD8B-GS02269-DNA_C02'\n",
      " b'huAA245C-GS02269-DNA_D03' b'huAA53E0-GS02260-DNA_A01'\n",
      " b'huAE4A11-GS01669-DNA_F02' b'huAE6220-GS00253-DNA_H01'\n",
      " b'huAEADC0-GS01175-DNA_E05' b'huAEC1B0-GS01175-DNA_C04'\n",
      " b'huAFA81C-GS01669-DNA_E03' b'huB1488D-GS03052-DNA_H01'\n",
      " b'huB1FD55-GS01173-DNA_B07' b'huB4883B-GS02269-DNA_H04'\n",
      " b'huB4940E-GS01175-DNA_C02' b'huB4D223-GS01669-DNA_H06'\n",
      " b'huB4F9B2-GS02269-DNA_A05' b'huBA30D4-GS01173-DNA_H05'\n",
      " b'huBAAC98-GS01173-DNA_F02' b'huBE0B25-GS01669-DNA_D01'\n",
      " b'huBEDA0B-GS00253-DNA_C01' b'huBEDA0B-GS01669-DNA_E02'\n",
      " b'huC14AE1-GS01175-DNA_G05' b'huC29627-GS01173-DNA_C06'\n",
      " b'huC30901-GS00253-DNA_B01' b'huC3160A-GS01669-DNA_G08'\n",
      " b'huC434ED-GS01669-DNA_D08' b'huC5733C-GS01669-DNA_F06'\n",
      " b'huC92BC9-GS01669-DNA_C11' b'huC93106-GS01669-DNA_B11'\n",
      " b'huCA017E-GS01175-DNA_B01' b'huCA14D2-GS01669-DNA_A07'\n",
      " b'huCBDC6D-GS03166-DNA_A03' b'huCCAFD0-GS01669-DNA_B10'\n",
      " b'huCD380F-GS01175-DNA_H06' b'huD09534-GS01669-DNA_F10'\n",
      " b'huD103CC-GS01669-DNA_C09' b'huD10E53-GS01669-DNA_B04'\n",
      " b'huD2B804-GS03132-DNA_B01' b'huD37D14-GS01175-DNA_A04'\n",
      " b'huD3A569-GS02269-DNA_F04' b'huD52556-GS01669-DNA_A02'\n",
      " b'huD649F1-GS03133-DNA_D02' b'huD81F3D-GS01173-DNA_D06'\n",
      " b'huD9EE1E-GS01669-DNA_F09' b'huDBD591-GS01175-DNA_A02'\n",
      " b'huDBF9DD-GS01669-DNA_E09' b'huDE435D-GS01669-DNA_D11'\n",
      " b'huDF04CC-GS01175-DNA_B03' b'huE2E371-GS02269-DNA_H03'\n",
      " b'huE58004-GS01669-DNA_H02' b'huE80E3D-GS00253-DNA_D01'\n",
      " b'huE9B698-GS01669-DNA_H09' b'huEA4EE5-GS01669-DNA_G02'\n",
      " b'huEBD467-GS01670-DNA_G01' b'huEC6EEC-GS01175-DNA_H04'\n",
      " b'huED0F40-GS01669-DNA_H08' b'huEDEA65-GS01669-DNA_F01'\n",
      " b'huEDF7DA-GS01669-DNA_C04' b'huF160AA-GS03166-DNA_G01'\n",
      " b'huF1DC30-GS01669-DNA_G01' b'huF2DA6F-GS02269-DNA_A01'\n",
      " b'huF5AD12-GS01175-DNA_D06' b'huF5E0B6-GS01175-DNA_G04'\n",
      " b'huF80F84-GS01669-DNA_B01' b'huF83462-GS03166-DNA_B02'\n",
      " b'huFA70A3-GS01670-DNA_G02' b'huFAF983-GS01175-DNA_F02'\n",
      " b'huFCC1C1-GS02269-DNA_A02' b'huFE71F3-GS01669-DNA_B06'\n",
      " b'huFFAD87-GS01669-DNA_H05' b'huFFB09D-GS01669-DNA_D04']\n"
     ]
    }
   ],
   "source": [
    "print(names)"
   ]
  },
  {
   "cell_type": "code",
   "execution_count": 6,
   "metadata": {
    "collapsed": true
   },
   "outputs": [],
   "source": [
    "import sqlite3\n",
    "\n",
    "conn = sqlite3.connect(\"C://Users//j//Desktop//tiling_rep//untap.db\")\n",
    "c = conn.cursor()\n",
    "c.execute('SELECT * FROM demographics')\n",
    "rows = c.fetchall()\n",
    "columns = [(i[0]) for i in c.description]\n"
   ]
  },
  {
   "cell_type": "code",
   "execution_count": 7,
   "metadata": {
    "collapsed": true
   },
   "outputs": [],
   "source": [
    "# creates an empty blood csv file to be used later\n",
    "\n",
    "##################################################################################\n",
    "################## caution will overwrite existing bnry.csv ######################\n",
    "##################################################################################\n",
    "\n",
    "\n",
    "out = open(\"bnry_blood.csv\", \"w\")\n",
    "out.close()"
   ]
  },
  {
   "cell_type": "code",
   "execution_count": 8,
   "metadata": {},
   "outputs": [
    {
     "name": "stdout",
     "output_type": "stream",
     "text": [
      "214\n"
     ]
    }
   ],
   "source": [
    "# formats a single tile by cleaning the name to make it more readable\n",
    "\n",
    "# 'bo4w5w48yhug648489-dnaiug3iurg     \n",
    "def format(npint):\n",
    "    s = \"\"\n",
    "    string = str(npint)\n",
    "    for char in range(len(string)):\n",
    "        if string[char] == \"-\":\n",
    "            break\n",
    "        elif string[char] != \"b\" and string[char] != \"'\":\n",
    "            s += string[char]\n",
    "        else:\n",
    "            pass\n",
    "    return s\n",
    "\n",
    "\n",
    "\n",
    "# runs formatting on all names\n",
    "\n",
    "def formatall():\n",
    "\n",
    "    tiled_partic = [] \n",
    "    for i in range(len(names_lst)):\n",
    "        tiled_partic.append(format(names_lst[i]))\n",
    "        \n",
    "    return tiled_partic\n",
    "\n",
    "\n",
    "\n",
    "tiled_names = formatall()\n",
    "\n",
    "print(len(tiled_names))"
   ]
  },
  {
   "cell_type": "code",
   "execution_count": 9,
   "metadata": {},
   "outputs": [
    {
     "name": "stdout",
     "output_type": "stream",
     "text": [
      "Blood Survey Participants: 64\n"
     ]
    }
   ],
   "source": [
    "# opens the PGP survey and dumps the participant list filtering non responses and duplicates\n",
    "\n",
    "import csv \n",
    "with open(\"pgp_blood14.csv\", newline='') as blood:\n",
    "    reader = csv.DictReader(blood)\n",
    "    blood_names = []\n",
    "    for row in reader:\n",
    "        if row[\"blood\"] == \"\":\n",
    "            pass\n",
    "        elif row[\"blood\"] == \"Don't know\":\n",
    "            pass\n",
    "        else:\n",
    "            blood_names.append(row[\"name\"])\n",
    "        \n",
    "\n",
    "def removedoubles(seq):\n",
    "    seen = set()\n",
    "    seen_add = seen.add\n",
    "    return [x for x in seq if not (x in seen or seen_add(x))]\n",
    "\n",
    "\n",
    "# takes out names that occur both in pgp survey and tiled genome list\n",
    "blood_names = [x for x in blood_names if x in tiled_names]\n",
    "\n",
    "blood_names_unfil = blood_names\n",
    "blood_names = removedoubles(blood_names) \n",
    "\n",
    "print(\"Blood Survey Participants:\",len(blood_names))"
   ]
  },
  {
   "cell_type": "code",
   "execution_count": 13,
   "metadata": {
    "collapsed": true
   },
   "outputs": [],
   "source": [
    "# finds repeat values and puts them in a list\n",
    "\n",
    "seen = set()\n",
    "repeats = []\n",
    "for x in blood_names_unfil:\n",
    "    if x in seen:\n",
    "        repeats.append(x)\n",
    "    else:\n",
    "        seen.add(x)"
   ]
  },
  {
   "cell_type": "code",
   "execution_count": 27,
   "metadata": {},
   "outputs": [
    {
     "name": "stdout",
     "output_type": "stream",
     "text": [
      "4\n"
     ]
    }
   ],
   "source": [
    "# makes a list of names that are in both the PGP survey name list and the tiled genomes list\n",
    "\n",
    "print(len(repeats))\n"
   ]
  },
  {
   "cell_type": "code",
   "execution_count": 68,
   "metadata": {},
   "outputs": [
    {
     "name": "stdout",
     "output_type": "stream",
     "text": [
      "[1, 1, 1, 0, 1, 1, 1, 1, 1, 1, 1, 1, 1, 0, 1, 1, 1, 1, 1, 1, 1, 1, 1, 1, 1, 1, 1, 0, 1, 1, 1, 1, 1, 1, 1, 1, 1, 1, 1, 1, 1, 1, 1, 0, 1, 0, 1, 0, 0, 1, 1, 1, 1, 1, 1, 0, 1, 1, 1, 0, 0, 1, 1, 1]\n",
      "rows: 64\n",
      "+  : 54\n",
      "not +  : 10\n",
      "64\n"
     ]
    }
   ],
   "source": [
    "# takes in blood values and converts to a binary 1 or 0 format\n",
    "\n",
    "# list of blood types for readability\n",
    "blood_type_lst = []\n",
    "\n",
    "# enter the survey condition here\n",
    "condition = \"+\"\n",
    "\n",
    "\n",
    "def to_bnry(field):\n",
    "    if condition in field:\n",
    "        return 1\n",
    "    else:\n",
    "        return 0\n",
    " \n",
    "\n",
    "# creates a list of numbers 1 or 0 that represent whether the condition in to_bnry was met or not\n",
    "bnry_list = []\n",
    "seen_partic = []\n",
    "with open('pgp_blood14.csv', newline='') as inp:\n",
    "    reader = csv.DictReader(inp) \n",
    "    blood = \"\"\n",
    "    for row in reader:\n",
    "        if row['name'] in blood_names:\n",
    "            blood = row['blood']   \n",
    "            if row['name'] in seen_partic:\n",
    "                pass\n",
    "            else:\n",
    "                bnry_list.append(to_bnry(blood))\n",
    "                blood_type_lst.append(blood)\n",
    "            seen_partic.append(row['name'])\n",
    "                  \n",
    "        else:\n",
    "            pass\n",
    "                \n",
    "bnry = bnry_list\n",
    "\n",
    "print(bnry)\n",
    "\n",
    "print(\"rows:\", len(bnry))\n",
    "\n",
    "matches = [x for x in bnry if x == 1]\n",
    "\n",
    "print(condition, \" :\", len(matches))\n",
    "\n",
    "print(\"not\",condition, \" :\", len(bnry) -len(matches) )\n"
   ]
  },
  {
   "cell_type": "code",
   "execution_count": 55,
   "metadata": {},
   "outputs": [
    {
     "data": {
      "text/plain": [
       "(64, 2564734)"
      ]
     },
     "execution_count": 55,
     "metadata": {},
     "output_type": "execute_result"
    }
   ],
   "source": [
    "# keeps only the particpants of the disease survey from the pgp array and\n",
    "# discards the rest\n",
    "\n",
    "filtered_pgp = []\n",
    "name_list = []\n",
    "for i in range(len(pgp)):\n",
    "    if format(names[i]) in blood_names and format(names[i]) not in name_list:\n",
    "        filtered_pgp.append(pgp[i])\n",
    "        name_list.append(format(names[i]))\n",
    "    else:\n",
    "        pass\n",
    "    \n",
    "filtered_pgp = np.asarray(filtered_pgp)\n",
    "\n",
    "filtered_pgp.shape"
   ]
  },
  {
   "cell_type": "code",
   "execution_count": 69,
   "metadata": {
    "collapsed": true
   },
   "outputs": [],
   "source": [
    "# writes the binary list to a csv file\n",
    "\n",
    "import csv\n",
    "l = blood_type_lst#list(map(str, bnry))\n",
    "\n",
    "output_name = \"bnry_blood_type_lst.csv\"\n",
    "out = open(output_name, \"w\")\n",
    "for row in l:\n",
    "    for column in row:\n",
    "        out.write(column)\n",
    "    out.write(\"\\n\")\n",
    "out.close()"
   ]
  },
  {
   "cell_type": "code",
   "execution_count": 57,
   "metadata": {
    "collapsed": true
   },
   "outputs": [],
   "source": [
    "filtered_pgp.dump(\"pgp_filtered_blood.pkl\")"
   ]
  }
 ],
 "metadata": {
  "kernelspec": {
   "display_name": "Python 3",
   "language": "python",
   "name": "python3"
  },
  "language_info": {
   "codemirror_mode": {
    "name": "ipython",
    "version": 3
   },
   "file_extension": ".py",
   "mimetype": "text/x-python",
   "name": "python",
   "nbconvert_exporter": "python",
   "pygments_lexer": "ipython3",
   "version": "3.6.1"
  }
 },
 "nbformat": 4,
 "nbformat_minor": 2
}
