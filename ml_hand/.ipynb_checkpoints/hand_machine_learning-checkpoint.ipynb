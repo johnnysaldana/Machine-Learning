{
 "cells": [
  {
   "cell_type": "code",
   "execution_count": 1,
   "metadata": {
    "collapsed": true
   },
   "outputs": [],
   "source": [
    "# package\n",
    "import numpy as np\n",
    "import pandas as pd\n",
    "import matplotlib.pyplot as plt"
   ]
  },
  {
   "cell_type": "code",
   "execution_count": 2,
   "metadata": {},
   "outputs": [
    {
     "name": "stdout",
     "output_type": "stream",
     "text": [
      "    hand\n",
      "0      0\n",
      "1      0\n",
      "2      0\n",
      "3      0\n",
      "4      0\n",
      "5      0\n",
      "6      1\n",
      "7      0\n",
      "8      0\n",
      "9      1\n",
      "10     0\n",
      "11     0\n",
      "12     0\n",
      "13     0\n",
      "14     0\n",
      "15     1\n",
      "16     0\n",
      "17     0\n",
      "18     0\n",
      "19     1\n",
      "20     0\n",
      "21     0\n",
      "22     0\n",
      "23     0\n",
      "24     0\n",
      "25     0\n",
      "26     0\n",
      "27     0\n",
      "28     0\n",
      "29     1\n",
      "..   ...\n",
      "52     0\n",
      "53     0\n",
      "54     0\n",
      "55     0\n",
      "56     0\n",
      "57     0\n",
      "58     1\n",
      "59     0\n",
      "60     0\n",
      "61     0\n",
      "62     1\n",
      "63     0\n",
      "64     0\n",
      "65     0\n",
      "66     0\n",
      "67     0\n",
      "68     0\n",
      "69     0\n",
      "70     0\n",
      "71     0\n",
      "72     1\n",
      "73     0\n",
      "74     0\n",
      "75     0\n",
      "76     0\n",
      "77     0\n",
      "78     0\n",
      "79     0\n",
      "80     0\n",
      "81     0\n",
      "\n",
      "[82 rows x 1 columns]\n"
     ]
    }
   ],
   "source": [
    "# columnb headers\n",
    "columns = ['hand']\n",
    "\n",
    "# binary list csv for categorical testing\n",
    "bnry_data = pd.read_csv(\"bnry.csv\", names=columns) \n",
    "\n",
    "print(bnry_data)\n",
    "\n",
    "#pgp_names = np.asarray"
   ]
  },
  {
   "cell_type": "code",
   "execution_count": 3,
   "metadata": {
    "collapsed": true
   },
   "outputs": [],
   "source": [
    "# load the formatted pgp numpy array\n",
    "pgp_filtered = np.load(\"pgp_filtered.pkl\")\n",
    "\n",
    "from sklearn import preprocessing\n",
    "pgp_filtered = preprocessing.scale(pgp_filtered.astype('double')) # scale the data"
   ]
  },
  {
   "cell_type": "code",
   "execution_count": 4,
   "metadata": {},
   "outputs": [
    {
     "name": "stdout",
     "output_type": "stream",
     "text": [
      "(82, 2469062)\n"
     ]
    }
   ],
   "source": [
    "print(pgp_filtered.shape)"
   ]
  },
  {
   "cell_type": "code",
   "execution_count": 29,
   "metadata": {},
   "outputs": [
    {
     "name": "stdout",
     "output_type": "stream",
     "text": [
      "(82, 2469062)\n",
      "(82, 1)\n"
     ]
    }
   ],
   "source": [
    "X = pgp_filtered\n",
    "y = bnry_data\n",
    "\n",
    "# print the shapes of X and y\n",
    "print(X.shape)\n",
    "print(y.shape)"
   ]
  },
  {
   "cell_type": "code",
   "execution_count": 33,
   "metadata": {},
   "outputs": [
    {
     "name": "stdout",
     "output_type": "stream",
     "text": [
      "1.0\n",
      "Iteration: 1, correct: True\n",
      "1.0\n",
      "Iteration: 2, correct: True\n",
      "1.0\n",
      "Iteration: 3, correct: True\n",
      "1.0\n",
      "Iteration: 4, correct: True\n",
      "1.0\n",
      "Iteration: 5, correct: True\n",
      "1.0\n",
      "Iteration: 6, correct: True\n",
      "0.857142857143\n",
      "Iteration: 7, correct: False\n",
      "Incorrect:  [6]\n",
      "0.875\n",
      "Iteration: 8, correct: True\n",
      "0.888888888889\n",
      "Iteration: 9, correct: True\n",
      "0.8\n",
      "Iteration: 10, correct: False\n",
      "Incorrect:  [9]\n",
      "0.818181818182\n",
      "Iteration: 11, correct: True\n",
      "0.833333333333\n",
      "Iteration: 12, correct: True\n",
      "0.846153846154\n",
      "Iteration: 13, correct: True\n",
      "0.857142857143\n",
      "Iteration: 14, correct: True\n",
      "0.866666666667\n",
      "Iteration: 15, correct: True\n",
      "0.8125\n",
      "Iteration: 16, correct: False\n",
      "Incorrect:  [15]\n",
      "0.823529411765\n",
      "Iteration: 17, correct: True\n",
      "0.833333333333\n",
      "Iteration: 18, correct: True\n",
      "0.842105263158\n",
      "Iteration: 19, correct: True\n",
      "0.8\n",
      "Iteration: 20, correct: False\n",
      "Incorrect:  [19]\n",
      "0.809523809524\n",
      "Iteration: 21, correct: True\n",
      "0.818181818182\n",
      "Iteration: 22, correct: True\n",
      "0.826086956522\n",
      "Iteration: 23, correct: True\n",
      "0.833333333333\n",
      "Iteration: 24, correct: True\n",
      "0.84\n",
      "Iteration: 25, correct: True\n",
      "0.846153846154\n",
      "Iteration: 26, correct: True\n",
      "0.851851851852\n",
      "Iteration: 27, correct: True\n",
      "0.857142857143\n",
      "Iteration: 28, correct: True\n",
      "0.862068965517\n",
      "Iteration: 29, correct: True\n",
      "0.833333333333\n",
      "Iteration: 30, correct: False\n",
      "Incorrect:  [29]\n",
      "0.838709677419\n",
      "Iteration: 31, correct: True\n",
      "0.84375\n",
      "Iteration: 32, correct: True\n",
      "0.848484848485\n",
      "Iteration: 33, correct: True\n",
      "0.852941176471\n",
      "Iteration: 34, correct: True\n",
      "0.857142857143\n",
      "Iteration: 35, correct: True\n",
      "0.861111111111\n",
      "Iteration: 36, correct: True\n",
      "0.864864864865\n",
      "Iteration: 37, correct: True\n",
      "0.868421052632\n",
      "Iteration: 38, correct: True\n",
      "0.871794871795\n",
      "Iteration: 39, correct: True\n",
      "0.875\n",
      "Iteration: 40, correct: True\n",
      "0.878048780488\n",
      "Iteration: 41, correct: True\n",
      "0.880952380952\n",
      "Iteration: 42, correct: True\n",
      "0.883720930233\n",
      "Iteration: 43, correct: True\n",
      "0.886363636364\n",
      "Iteration: 44, correct: True\n",
      "0.888888888889\n",
      "Iteration: 45, correct: True\n",
      "0.891304347826\n",
      "Iteration: 46, correct: True\n",
      "0.893617021277\n",
      "Iteration: 47, correct: True\n",
      "0.895833333333\n",
      "Iteration: 48, correct: True\n",
      "0.897959183673\n",
      "Iteration: 49, correct: True\n",
      "0.9\n",
      "Iteration: 50, correct: True\n",
      "0.901960784314\n",
      "Iteration: 51, correct: True\n",
      "0.903846153846\n",
      "Iteration: 52, correct: True\n",
      "0.905660377358\n",
      "Iteration: 53, correct: True\n",
      "0.907407407407\n",
      "Iteration: 54, correct: True\n",
      "0.909090909091\n",
      "Iteration: 55, correct: True\n",
      "0.910714285714\n",
      "Iteration: 56, correct: True\n",
      "0.912280701754\n",
      "Iteration: 57, correct: True\n",
      "0.913793103448\n",
      "Iteration: 58, correct: True\n",
      "0.898305084746\n",
      "Iteration: 59, correct: False\n",
      "Incorrect:  [58]\n",
      "0.9\n",
      "Iteration: 60, correct: True\n",
      "0.901639344262\n",
      "Iteration: 61, correct: True\n",
      "0.903225806452\n",
      "Iteration: 62, correct: True\n",
      "0.888888888889\n",
      "Iteration: 63, correct: False\n",
      "Incorrect:  [62]\n",
      "0.890625\n",
      "Iteration: 64, correct: True\n",
      "0.892307692308\n",
      "Iteration: 65, correct: True\n",
      "0.893939393939\n",
      "Iteration: 66, correct: True\n",
      "0.89552238806\n",
      "Iteration: 67, correct: True\n",
      "0.897058823529\n",
      "Iteration: 68, correct: True\n",
      "0.898550724638\n",
      "Iteration: 69, correct: True\n",
      "0.9\n",
      "Iteration: 70, correct: True\n",
      "0.901408450704\n",
      "Iteration: 71, correct: True\n",
      "0.902777777778\n",
      "Iteration: 72, correct: True\n",
      "0.890410958904\n",
      "Iteration: 73, correct: False\n",
      "Incorrect:  [72]\n",
      "0.891891891892\n",
      "Iteration: 74, correct: True\n",
      "0.893333333333\n",
      "Iteration: 75, correct: True\n",
      "0.894736842105\n",
      "Iteration: 76, correct: True\n",
      "0.883116883117\n",
      "Iteration: 77, correct: False\n",
      "Incorrect:  [76]\n",
      "0.884615384615\n",
      "Iteration: 78, correct: True\n",
      "0.886075949367\n",
      "Iteration: 79, correct: True\n",
      "0.8875\n",
      "Iteration: 80, correct: True\n",
      "0.888888888889\n",
      "Iteration: 81, correct: True\n",
      "0.890243902439\n",
      "Iteration: 82, correct: True\n",
      "0.890243902439\n"
     ]
    }
   ],
   "source": [
    "# the actual machine learning\n",
    "\n",
    "from sklearn.svm import LinearSVC\n",
    "from sklearn.model_selection import cross_val_score, train_test_split, LeaveOneOut\n",
    "from sklearn.metrics import accuracy_score, confusion_matrix\n",
    "\n",
    "svc_test = LinearSVC(penalty='l1', class_weight='balanced', \n",
    "                         C=.06, dual=False, max_iter=5000)\n",
    "\n",
    "loo = LeaveOneOut()\n",
    "bnry_data = np.asarray(bnry_data)\n",
    "scores = []\n",
    "counter = 0\n",
    "predicted = []\n",
    "tested = []\n",
    "for train_index, test_index in loo.split(pgp_filtered):\n",
    "    X_train, X_test = pgp_filtered[train_index], pgp_filtered[test_index]\n",
    "    y_train, y_test = bnry_data[train_index], bnry_data[test_index]\n",
    "    svc_test.fit(X_train, y_train.ravel())\n",
    "    y_pred = svc_test.predict(X_test)\n",
    "    scores.append(accuracy_score(y_test, y_pred))\n",
    "    \n",
    "    predicted.append(y_pred)\n",
    "    tested.append(y_test)\n",
    "    \n",
    "    print(np.mean(np.asarray(scores)))\n",
    "\n",
    "    counter += 1\n",
    "    print(\"Iteration: \" + str(counter) + \", correct: \" + str(bool(y_test == y_pred)) )\n",
    "    if not bool(y_test == y_pred):\n",
    "        print(\"Incorrect: \", test_index)\n",
    "    \n",
    "print(np.mean(np.asarray(scores)))\n"
   ]
  },
  {
   "cell_type": "code",
   "execution_count": 35,
   "metadata": {},
   "outputs": [
    {
     "name": "stdout",
     "output_type": "stream",
     "text": [
      "[array([0], dtype=int64), array([0], dtype=int64), array([0], dtype=int64), array([0], dtype=int64), array([0], dtype=int64), array([0], dtype=int64), array([0], dtype=int64), array([0], dtype=int64), array([0], dtype=int64), array([0], dtype=int64), array([0], dtype=int64), array([0], dtype=int64), array([0], dtype=int64), array([0], dtype=int64), array([0], dtype=int64), array([0], dtype=int64), array([0], dtype=int64), array([0], dtype=int64), array([0], dtype=int64), array([0], dtype=int64), array([0], dtype=int64), array([0], dtype=int64), array([0], dtype=int64), array([0], dtype=int64), array([0], dtype=int64), array([0], dtype=int64), array([0], dtype=int64), array([0], dtype=int64), array([0], dtype=int64), array([0], dtype=int64), array([0], dtype=int64), array([0], dtype=int64), array([0], dtype=int64), array([0], dtype=int64), array([0], dtype=int64), array([0], dtype=int64), array([0], dtype=int64), array([0], dtype=int64), array([0], dtype=int64), array([0], dtype=int64), array([0], dtype=int64), array([0], dtype=int64), array([0], dtype=int64), array([0], dtype=int64), array([0], dtype=int64), array([0], dtype=int64), array([0], dtype=int64), array([0], dtype=int64), array([0], dtype=int64), array([0], dtype=int64), array([0], dtype=int64), array([0], dtype=int64), array([0], dtype=int64), array([0], dtype=int64), array([0], dtype=int64), array([0], dtype=int64), array([0], dtype=int64), array([0], dtype=int64), array([0], dtype=int64), array([0], dtype=int64), array([0], dtype=int64), array([0], dtype=int64), array([0], dtype=int64), array([0], dtype=int64), array([0], dtype=int64), array([0], dtype=int64), array([0], dtype=int64), array([0], dtype=int64), array([0], dtype=int64), array([0], dtype=int64), array([0], dtype=int64), array([0], dtype=int64), array([0], dtype=int64), array([0], dtype=int64), array([0], dtype=int64), array([0], dtype=int64), array([1], dtype=int64), array([0], dtype=int64), array([0], dtype=int64), array([0], dtype=int64), array([0], dtype=int64), array([0], dtype=int64)]\n"
     ]
    }
   ],
   "source": [
    "print(predicted)"
   ]
  },
  {
   "cell_type": "code",
   "execution_count": 18,
   "metadata": {},
   "outputs": [
    {
     "name": "stdout",
     "output_type": "stream",
     "text": [
      "0.939393939394\n"
     ]
    },
    {
     "data": {
      "text/plain": [
       "\"\\n# import Matplotlib (scientific plotting library)\\nimport matplotlib.pyplot as plt\\n\\n# allow plots to appear within the notebook\\n%matplotlib inline\\n\\n# plot the relationship between K and testing accuracy\\nplt.plot(k_range, scores)\\nplt.xlabel('Value of K for KNN')\\nplt.ylabel('Testing Accuracy')\\n\""
      ]
     },
     "execution_count": 18,
     "metadata": {},
     "output_type": "execute_result"
    }
   ],
   "source": [
    "from sklearn.neighbors import KNeighborsClassifier\n",
    "from sklearn.model_selection import cross_val_score, train_test_split, LeaveOneOut, KFold\n",
    "from sklearn.metrics import accuracy_score, confusion_matrix\n",
    "\n",
    "X_train, X_test, y_train, y_test = train_test_split(X, y, test_size=0.4) #, random_state=4)\n",
    "\n",
    "# try K=1 through K=25 and record testing accuracy\n",
    "knn = KNeighborsClassifier(n_neighbors=15)\n",
    "knn.fit(X_train, y_train.values.ravel())\n",
    "y_pred = knn.predict(X_test)\n",
    "print(accuracy_score(y_test, y_pred))\n",
    "\n",
    "'''\n",
    "# import Matplotlib (scientific plotting library)\n",
    "import matplotlib.pyplot as plt\n",
    "\n",
    "# allow plots to appear within the notebook\n",
    "%matplotlib inline\n",
    "\n",
    "# plot the relationship between K and testing accuracy\n",
    "plt.plot(k_range, scores)\n",
    "plt.xlabel('Value of K for KNN')\n",
    "plt.ylabel('Testing Accuracy')\n",
    "'''"
   ]
  },
  {
   "cell_type": "code",
   "execution_count": 34,
   "metadata": {},
   "outputs": [
    {
     "ename": "ValueError",
     "evalue": "Can't handle mix of binary and unknown",
     "output_type": "error",
     "traceback": [
      "\u001b[1;31m---------------------------------------------------------------------------\u001b[0m",
      "\u001b[1;31mValueError\u001b[0m                                Traceback (most recent call last)",
      "\u001b[1;32m<ipython-input-34-93d1a2d5de6d>\u001b[0m in \u001b[0;36m<module>\u001b[1;34m()\u001b[0m\n\u001b[0;32m      1\u001b[0m \u001b[1;32mfrom\u001b[0m \u001b[0msklearn\u001b[0m\u001b[1;33m.\u001b[0m\u001b[0mmetrics\u001b[0m \u001b[1;32mimport\u001b[0m \u001b[0maccuracy_score\u001b[0m\u001b[1;33m,\u001b[0m \u001b[0mconfusion_matrix\u001b[0m\u001b[1;33m\u001b[0m\u001b[0m\n\u001b[1;32m----> 2\u001b[1;33m \u001b[0mcnf_matrix\u001b[0m \u001b[1;33m=\u001b[0m \u001b[0mconfusion_matrix\u001b[0m\u001b[1;33m(\u001b[0m\u001b[0mpredicted\u001b[0m\u001b[1;33m,\u001b[0m \u001b[0mtested\u001b[0m\u001b[1;33m)\u001b[0m\u001b[1;33m\u001b[0m\u001b[0m\n\u001b[0m\u001b[0;32m      3\u001b[0m \u001b[0mplt\u001b[0m\u001b[1;33m.\u001b[0m\u001b[0mimshow\u001b[0m\u001b[1;33m(\u001b[0m\u001b[0mcnf_matrix\u001b[0m\u001b[1;33m,\u001b[0m \u001b[0minterpolation\u001b[0m\u001b[1;33m=\u001b[0m\u001b[1;34m'nearest'\u001b[0m\u001b[1;33m,\u001b[0m \u001b[0mcmap\u001b[0m\u001b[1;33m=\u001b[0m\u001b[0mplt\u001b[0m\u001b[1;33m.\u001b[0m\u001b[0mcm\u001b[0m\u001b[1;33m.\u001b[0m\u001b[0mBlues\u001b[0m\u001b[1;33m)\u001b[0m\u001b[1;33m\u001b[0m\u001b[0m\n\u001b[0;32m      4\u001b[0m \u001b[0mplt\u001b[0m\u001b[1;33m.\u001b[0m\u001b[0mylabel\u001b[0m\u001b[1;33m(\u001b[0m\u001b[1;34m'True label'\u001b[0m\u001b[1;33m)\u001b[0m\u001b[1;33m\u001b[0m\u001b[0m\n\u001b[0;32m      5\u001b[0m \u001b[0mplt\u001b[0m\u001b[1;33m.\u001b[0m\u001b[0mxlabel\u001b[0m\u001b[1;33m(\u001b[0m\u001b[1;34m'Predicted label'\u001b[0m\u001b[1;33m)\u001b[0m\u001b[1;33m\u001b[0m\u001b[0m\n",
      "\u001b[1;32mC:\\Users\\j\\Anaconda3\\lib\\site-packages\\sklearn\\metrics\\classification.py\u001b[0m in \u001b[0;36mconfusion_matrix\u001b[1;34m(y_true, y_pred, labels, sample_weight)\u001b[0m\n\u001b[0;32m    238\u001b[0m \u001b[1;33m\u001b[0m\u001b[0m\n\u001b[0;32m    239\u001b[0m     \"\"\"\n\u001b[1;32m--> 240\u001b[1;33m     \u001b[0my_type\u001b[0m\u001b[1;33m,\u001b[0m \u001b[0my_true\u001b[0m\u001b[1;33m,\u001b[0m \u001b[0my_pred\u001b[0m \u001b[1;33m=\u001b[0m \u001b[0m_check_targets\u001b[0m\u001b[1;33m(\u001b[0m\u001b[0my_true\u001b[0m\u001b[1;33m,\u001b[0m \u001b[0my_pred\u001b[0m\u001b[1;33m)\u001b[0m\u001b[1;33m\u001b[0m\u001b[0m\n\u001b[0m\u001b[0;32m    241\u001b[0m     \u001b[1;32mif\u001b[0m \u001b[0my_type\u001b[0m \u001b[1;32mnot\u001b[0m \u001b[1;32min\u001b[0m \u001b[1;33m(\u001b[0m\u001b[1;34m\"binary\"\u001b[0m\u001b[1;33m,\u001b[0m \u001b[1;34m\"multiclass\"\u001b[0m\u001b[1;33m)\u001b[0m\u001b[1;33m:\u001b[0m\u001b[1;33m\u001b[0m\u001b[0m\n\u001b[0;32m    242\u001b[0m         \u001b[1;32mraise\u001b[0m \u001b[0mValueError\u001b[0m\u001b[1;33m(\u001b[0m\u001b[1;34m\"%s is not supported\"\u001b[0m \u001b[1;33m%\u001b[0m \u001b[0my_type\u001b[0m\u001b[1;33m)\u001b[0m\u001b[1;33m\u001b[0m\u001b[0m\n",
      "\u001b[1;32mC:\\Users\\j\\Anaconda3\\lib\\site-packages\\sklearn\\metrics\\classification.py\u001b[0m in \u001b[0;36m_check_targets\u001b[1;34m(y_true, y_pred)\u001b[0m\n\u001b[0;32m     80\u001b[0m     \u001b[1;32mif\u001b[0m \u001b[0mlen\u001b[0m\u001b[1;33m(\u001b[0m\u001b[0my_type\u001b[0m\u001b[1;33m)\u001b[0m \u001b[1;33m>\u001b[0m \u001b[1;36m1\u001b[0m\u001b[1;33m:\u001b[0m\u001b[1;33m\u001b[0m\u001b[0m\n\u001b[0;32m     81\u001b[0m         raise ValueError(\"Can't handle mix of {0} and {1}\"\n\u001b[1;32m---> 82\u001b[1;33m                          \"\".format(type_true, type_pred))\n\u001b[0m\u001b[0;32m     83\u001b[0m \u001b[1;33m\u001b[0m\u001b[0m\n\u001b[0;32m     84\u001b[0m     \u001b[1;31m# We can't have more than one value on y_type => The set is no more needed\u001b[0m\u001b[1;33m\u001b[0m\u001b[1;33m\u001b[0m\u001b[0m\n",
      "\u001b[1;31mValueError\u001b[0m: Can't handle mix of binary and unknown"
     ]
    }
   ],
   "source": [
    "from sklearn.metrics import accuracy_score, confusion_matrix\n",
    "cnf_matrix = confusion_matrix(predicted, tested)\n",
    "plt.imshow(cnf_matrix, interpolation='nearest', cmap=plt.cm.Blues)\n",
    "plt.ylabel('True label')\n",
    "plt.xlabel('Predicted label')\n",
    "\n",
    "classes = ['Blue','Not Blue']\n",
    "\n",
    "plt.grid('off')\n",
    "plt.colorbar()\n",
    "tick_marks = np.arange(len(classes))\n",
    "plt.xticks(tick_marks, classes, rotation=45)\n",
    "plt.yticks(tick_marks, classes)\n",
    "\n",
    "for i in range(cnf_matrix.shape[0]):\n",
    "    for j in range(cnf_matrix.shape[1]):\n",
    "        plt.text(j, i, cnf_matrix[i, j],\n",
    "                 horizontalalignment=\"center\",\n",
    "                 color= \"orangered\")\n",
    "\n",
    "plt.gcf().subplots_adjust(left=0.25, bottom = 0.35)\n",
    "\n",
    "plt.savefig('Blue_Confusion.png',format='png',dpi=300)"
   ]
  },
  {
   "cell_type": "code",
   "execution_count": 13,
   "metadata": {},
   "outputs": [
    {
     "name": "stdout",
     "output_type": "stream",
     "text": [
      "KFold(n_splits=2, random_state=None, shuffle=False)\n",
      "TRAIN: [ 93  94  95  96  97  98  99 100 101 102 103 104 105 106 107 108 109 110\n",
      " 111 112 113 114 115 116 117 118 119 120 121 122 123 124 125 126 127 128\n",
      " 129 130 131 132 133 134 135 136 137 138 139 140 141 142 143 144 145 146\n",
      " 147 148 149 150 151 152 153 154 155 156 157 158 159 160 161 162 163 164\n",
      " 165 166 167 168 169 170 171 172 173 174 175 176 177 178 179 180 181 182\n",
      " 183 184] TEST:  [ 0  1  2  3  4  5  6  7  8  9 10 11 12 13 14 15 16 17 18 19 20 21 22 23 24\n",
      " 25 26 27 28 29 30 31 32 33 34 35 36 37 38 39 40 41 42 43 44 45 46 47 48 49\n",
      " 50 51 52 53 54 55 56 57 58 59 60 61 62 63 64 65 66 67 68 69 70 71 72 73 74\n",
      " 75 76 77 78 79 80 81 82 83 84 85 86 87 88 89 90 91 92]\n",
      "TRAIN: [ 0  1  2  3  4  5  6  7  8  9 10 11 12 13 14 15 16 17 18 19 20 21 22 23 24\n",
      " 25 26 27 28 29 30 31 32 33 34 35 36 37 38 39 40 41 42 43 44 45 46 47 48 49\n",
      " 50 51 52 53 54 55 56 57 58 59 60 61 62 63 64 65 66 67 68 69 70 71 72 73 74\n",
      " 75 76 77 78 79 80 81 82 83 84 85 86 87 88 89 90 91 92] TEST:  [ 93  94  95  96  97  98  99 100 101 102 103 104 105 106 107 108 109 110\n",
      " 111 112 113 114 115 116 117 118 119 120 121 122 123 124 125 126 127 128\n",
      " 129 130 131 132 133 134 135 136 137 138 139 140 141 142 143 144 145 146\n",
      " 147 148 149 150 151 152 153 154 155 156 157 158 159 160 161 162 163 164\n",
      " 165 166 167 168 169 170 171 172 173 174 175 176 177 178 179 180 181 182\n",
      " 183 184]\n"
     ]
    },
    {
     "data": {
      "text/plain": [
       "\"\\nfrom sklearn.svm import SVC\\nclf = SVC()\\nclf.fit(X, y) \\n\\nSVC(C=1.0, cache_size=200, class_weight=None, coef0=0.0,\\n    decision_function_shape=None, degree=3, gamma='auto', kernel='rbf',\\n    max_iter=-1, probability=False, random_state=None, shrinking=True,\\n    tol=0.001, verbose=False)\\n\\nprint(clf.predict(X))\\n          \\n\\nknn = KNeighborsClassifier()\\nknn.fit(X, y)\\nKNeighborsClassifier(algorithm='auto', leaf_size=30, metric='minkowski',\\n    metric_params=None, n_jobs=1, n_neighbors=5, p=2,\\n    weights='uniform')\\n\\nX_train, X_test, y_train, y_test = train_test_split(X, y.ravel(), test_size=.2, random_state=1)\\n#y_pred = svc_test.predict(X_test)\\n\\nprint(accuracy_score(y_test, y_pred))\\n\\n\""
      ]
     },
     "execution_count": 13,
     "metadata": {},
     "output_type": "execute_result"
    }
   ],
   "source": [
    "from sklearn.neighbors import KNeighborsClassifier\n",
    "from sklearn.svm import LinearSVC\n",
    "from sklearn.model_selection import cross_val_score, train_test_split, LeaveOneOut, KFold\n",
    "from sklearn.metrics import accuracy_score, confusion_matrix\n",
    "\n",
    "X = pgp_filtered\n",
    "y = bnry_data\n",
    "\n",
    "\n",
    "X_train, X_test, y_train, y_test = train_test_split(X, y, test_size=0.33)#random_state=42)\n",
    "\n",
    "kf = KFold(n_splits=2) # Define the split - into 2 folds \n",
    "kf.get_n_splits(X) # returns the number of splitting iterations in the cross-validator\n",
    "\n",
    "print(kf) \n",
    "\n",
    "KFold(n_splits=2, random_state=None, shuffle=False)\n",
    "\n",
    "for train_index, test_index in kf.split(X):\n",
    "    print('TRAIN:', train_index, 'TEST: ', test_index)\n",
    "    X_train, X_test = X[train_index], X[test_index]\n",
    "    y_train, y_test = y[train_index], y[test_index]\n",
    "    \n",
    "'''\n",
    "from sklearn.svm import SVC\n",
    "clf = SVC()\n",
    "clf.fit(X, y) \n",
    "\n",
    "SVC(C=1.0, cache_size=200, class_weight=None, coef0=0.0,\n",
    "    decision_function_shape=None, degree=3, gamma='auto', kernel='rbf',\n",
    "    max_iter=-1, probability=False, random_state=None, shrinking=True,\n",
    "    tol=0.001, verbose=False)\n",
    "\n",
    "print(clf.predict(X))\n",
    "          \n",
    "\n",
    "knn = KNeighborsClassifier()\n",
    "knn.fit(X, y)\n",
    "KNeighborsClassifier(algorithm='auto', leaf_size=30, metric='minkowski',\n",
    "    metric_params=None, n_jobs=1, n_neighbors=5, p=2,\n",
    "    weights='uniform')\n",
    "\n",
    "X_train, X_test, y_train, y_test = train_test_split(X, y.ravel(), test_size=.2, random_state=1)\n",
    "#y_pred = svc_test.predict(X_test)\n",
    "\n",
    "print(accuracy_score(y_test, y_pred))\n",
    "\n",
    "'''"
   ]
  },
  {
   "cell_type": "code",
   "execution_count": 23,
   "metadata": {},
   "outputs": [
    {
     "data": {
      "text/plain": [
       "LinearSVC(C=0.06, class_weight='balanced', dual=False, fit_intercept=True,\n",
       "     intercept_scaling=1, loss='squared_hinge', max_iter=5000,\n",
       "     multi_class='ovr', penalty='l1', random_state=None, tol=0.0001,\n",
       "     verbose=0)"
      ]
     },
     "execution_count": 23,
     "metadata": {},
     "output_type": "execute_result"
    }
   ],
   "source": [
    "svc = LinearSVC(penalty='l1', class_weight='balanced', \n",
    "                         C=.06, dual=False, max_iter=5000)\n",
    "\n",
    "svc.fit(pgp_filtered, bnry_data.ravel())"
   ]
  },
  {
   "cell_type": "code",
   "execution_count": null,
   "metadata": {
    "collapsed": true
   },
   "outputs": [],
   "source": [
    "coefs = svc.coef_[0]\n",
    "nonzeroes = np.nonzero(coefs)\n",
    "vals = zip(coefs[nonzeroes], nonzeroes)\n",
    "print(vals)"
   ]
  },
  {
   "cell_type": "code",
   "execution_count": 45,
   "metadata": {},
   "outputs": [
    {
     "data": {
      "text/plain": [
       "1519732"
      ]
     },
     "execution_count": 45,
     "metadata": {},
     "output_type": "execute_result"
    }
   ],
   "source": [
    "nonzeroes[0][39]"
   ]
  }
 ],
 "metadata": {
  "kernelspec": {
   "display_name": "Python 3",
   "language": "python",
   "name": "python3"
  },
  "language_info": {
   "codemirror_mode": {
    "name": "ipython",
    "version": 3
   },
   "file_extension": ".py",
   "mimetype": "text/x-python",
   "name": "python",
   "nbconvert_exporter": "python",
   "pygments_lexer": "ipython3",
   "version": "3.6.1"
  }
 },
 "nbformat": 4,
 "nbformat_minor": 2
}
