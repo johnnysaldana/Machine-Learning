{
 "cells": [
  {
   "cell_type": "code",
   "execution_count": 25,
   "metadata": {
    "collapsed": true
   },
   "outputs": [],
   "source": [
    "import numpy as np"
   ]
  },
  {
   "cell_type": "code",
   "execution_count": 24,
   "metadata": {
    "collapsed": true
   },
   "outputs": [],
   "source": [
    "# loads the tiled genome name file\n",
    "\n",
    "arr = np.load('names.npy')\n",
    "arrlst = np.ndarray.tolist(arr)"
   ]
  },
  {
   "cell_type": "code",
   "execution_count": 31,
   "metadata": {},
   "outputs": [
    {
     "name": "stdout",
     "output_type": "stream",
     "text": [
      "218\n"
     ]
    }
   ],
   "source": [
    "# formats a single tile\n",
    "\n",
    "def format(npint):\n",
    "    s = \"\"\n",
    "    string = str(npint)\n",
    "    for char in range(len(string)):\n",
    "        if string[char] == \"-\":\n",
    "            break\n",
    "        elif string[char] != \"b\" and string[char] != \"'\":\n",
    "            s += string[char]\n",
    "        else:\n",
    "            pass\n",
    "    return s\n",
    "\n",
    "\n",
    "\n",
    "# runs formatting on all names\n",
    "\n",
    "def formatall():\n",
    "\n",
    "    tiled_partic = [] \n",
    "    for i in range(len(arrlst)):\n",
    "        tiled_partic.append(format(arrlst[i]))\n",
    "        \n",
    "    return tiled_partic\n",
    "\n",
    "\n",
    "\n",
    "tiled_names = formatall()\n",
    "\n",
    "print(len(tiled_names))"
   ]
  },
  {
   "cell_type": "code",
   "execution_count": 32,
   "metadata": {},
   "outputs": [
    {
     "name": "stdout",
     "output_type": "stream",
     "text": [
      "82\n",
      "82\n",
      "['hu826751', 'hu3DC5EA', 'hu0D1FA1', 'huAEADC0', 'hu2D6140', 'hu4BF398', 'hu2C1D94', 'huB1FD55', 'hu60180F', 'huDE435D', 'huA05317', 'hu6C733E', 'huDBF9DD', 'hu034DB1', 'hu0E64A1', 'hu627574', 'hu7123C1', 'huC14AE1', 'hu76CAA5', 'huF83462', 'huC5733C', 'hu5962F5', 'huF80F84', 'hu04F220', 'huDBD591', 'hu599905', 'hu3CAB43', 'hu5E55F5', 'hu26B551', 'hu5CD2C6', 'huA4E2CF', 'hu3C0611', 'huE9B698', 'huEC6EEC', 'hu67EBB3', 'hu8E2A35', 'huB4940E', 'hu620F18', 'hu602487', 'huF1DC30', 'hu4CA5B9', 'huD3A569', 'hu43860C', 'hu4BE6F2', 'huB1488D', 'huED0F40', 'hu24C863', 'hu49F623', 'huD81F3D', 'huC434ED', 'huEDF7DA', 'hu4040B8', 'huCBDC6D', 'huD649F1', 'hu925B56', 'hu016B28', 'hu79F922', 'huF160AA', 'hu4FE0D1', 'hu52B7E5', 'hu9E6329', 'huAFA81C', 'huD09534', 'huFE71F3', 'hu7A2F1D', 'huC92BC9', 'hu955EE1', 'hu868880', 'hu60AB7C', 'hu470099', 'hu1187FF', 'huA49E22', 'hu448C4B', 'hu72C17A', 'hu05FD49', 'huF5E0B6', 'hu1F73AB', 'hu2DBF2D', 'hu0211D6', 'hu0E7AAF', 'hu040C0A', 'hu2FEC01']\n"
     ]
    }
   ],
   "source": [
    "# opens the PGP survey and dumps the participant list filtering non responses and duplicates\n",
    " \n",
    "def removedoubles(seq):\n",
    "    seen = set()\n",
    "    seen_add = seen.add\n",
    "    return [x for x in seq if not (x in seen or seen_add(x))]\n",
    "\n",
    "import csv \n",
    "\n",
    "\n",
    "with open('pgp_hand.csv', newline='') as hand:\n",
    "    reader = csv.DictReader(hand)\n",
    "    hand_names = []\n",
    "    for row in reader:\n",
    "        hand_names.append(row['name'])\n",
    "\n",
    "# takes out names that occur both in pgp survey and tiled genome list\n",
    "hand_names = [x for x in hand_names if x in tiled_names]\n",
    "\n",
    "hand_names_unfil = hand_names\n",
    "repeat_tiles = [x for x in hand_names if x in tiled_names]\n",
    "hand_names = removedoubles(hand_names)        \n",
    "print(len(hand_names))\n",
    "print(len(hand_names_unfil))\n",
    "print(hand_names)\n",
    "\n",
    "#print(repeat_tiles)"
   ]
  },
  {
   "cell_type": "code",
   "execution_count": 33,
   "metadata": {},
   "outputs": [],
   "source": [
    "# finds repeat values and puts them in a list\n",
    "\n",
    "seen = set()\n",
    "repeats = []\n",
    "for x in hand_names_unfil:\n",
    "    if x in seen:\n",
    "        repeats.append(x)\n",
    "    else:\n",
    "        seen.add(x)"
   ]
  },
  {
   "cell_type": "code",
   "execution_count": 35,
   "metadata": {
    "scrolled": true
   },
   "outputs": [
    {
     "name": "stdout",
     "output_type": "stream",
     "text": [
      "Repeated Values:  [] Number of Repeats: 0\n",
      "PGP hand Survey Names:  82\n",
      "Tiled Genomes 218\n",
      "Tiled and Survey Overlap:  82\n"
     ]
    }
   ],
   "source": [
    "# makes a list of names that are in both the PGP survey name list and the tiled genomes list\n",
    "\n",
    "print(\"Repeated Values: \",repeats, \"Number of Repeats:\", len(repeats))\n",
    "        \n",
    "print(\"PGP hand Survey Names: \",len(hand_names))\n",
    "\n",
    "print(\"Tiled Genomes\", len(tiled_names))\n",
    "\n",
    "print(\"Tiled and Survey Overlap: \",len(hand_names))"
   ]
  },
  {
   "cell_type": "code",
   "execution_count": 43,
   "metadata": {},
   "outputs": [
    {
     "name": "stdout",
     "output_type": "stream",
     "text": [
      "82\n",
      "82\n"
     ]
    }
   ],
   "source": [
    "# writes formatted csv\n",
    "lst_temp = hand_names\n",
    "print(len(lst_temp))\n",
    "print(len(hand_names))\n",
    "\n",
    "import csv \n",
    "with open(\"pgp_hand.csv\", newline='') as inp, open('pgp_hand_formatted.csv', 'w', newline='') as out:\n",
    "    writer = csv.writer(out)\n",
    "    i = 0\n",
    "    for row in csv.reader(inp):\n",
    "        if row[0] in hand_names:\n",
    "            writer.writerow(row)\n",
    "\n"
   ]
  },
  {
   "cell_type": "code",
   "execution_count": 57,
   "metadata": {},
   "outputs": [
    {
     "name": "stdout",
     "output_type": "stream",
     "text": [
      "82\n",
      "8\n",
      "[0, 0, 0, 0, 0, 0, 1, 0, 0, 1, 0, 0, 0, 0, 0, 1, 0, 0, 0, 1, 0, 0, 0, 0, 0, 0, 0, 0, 0, 1, 0, 0, 0, 0, 0, 0, 0, 0, 0, 0, 0, 0, 0, 0, 0, 0, 0, 0, 0, 0, 0, 0, 0, 0, 0, 0, 0, 0, 1, 0, 0, 0, 1, 0, 0, 0, 0, 0, 0, 0, 0, 0, 1, 0, 0, 0, 0, 0, 0, 0, 0, 0]\n"
     ]
    }
   ],
   "source": [
    "#takes in color values and converts to binary 0 and 1 where 0 is blue and 1 is not blue\n",
    "    \n",
    "def get_binary_list():  \n",
    "    bnry_list = []\n",
    "    with open('pgp_hand_formatted.csv', newline='') as inp:\n",
    "        reader = csv.DictReader(inp) \n",
    "        for row in reader:\n",
    "            if row['hand'] != \"Right\":\n",
    "                bnry_list.append(1)\n",
    "            else:\n",
    "                bnry_list.append(0)\n",
    "                \n",
    "        return bnry_list\n",
    "\n",
    "bnry = get_binary_list()\n",
    "\n",
    "print(len(bnry))\n",
    "\n",
    "matches =[x for x in bnry if x == 1]\n",
    "\n",
    "print(len(matches))\n",
    "\n",
    "print(bnry)"
   ]
  },
  {
   "cell_type": "code",
   "execution_count": 58,
   "metadata": {
    "collapsed": true
   },
   "outputs": [],
   "source": [
    "# load the pgp names as numpy array\n",
    "names = np.load(\"names.npy\")\n",
    "\n",
    "# load the pgp genomes as numpy array\n",
    "pgp = np.load(\"hiq-pgp.npy\")"
   ]
  },
  {
   "cell_type": "code",
   "execution_count": 59,
   "metadata": {},
   "outputs": [
    {
     "data": {
      "text/plain": [
       "(82, 2469062)"
      ]
     },
     "execution_count": 59,
     "metadata": {},
     "output_type": "execute_result"
    }
   ],
   "source": [
    "# keeps only the particpants of the disease survey from the pgp array and\n",
    "# discards the rest\n",
    "\n",
    "filtered_pgp = []\n",
    "name_list = []\n",
    "for i in range(len(pgp)):\n",
    "    if format(names[i]) in hand_names and format(names[i]) not in name_list:\n",
    "        filtered_pgp.append(pgp[i])\n",
    "        name_list.append(format(names[i]))\n",
    "    else:\n",
    "        pass\n",
    "    \n",
    "filtered_pgp = np.asarray(filtered_pgp)\n",
    "\n",
    "filtered_pgp.shape\n"
   ]
  },
  {
   "cell_type": "code",
   "execution_count": 60,
   "metadata": {
    "collapsed": true
   },
   "outputs": [],
   "source": [
    "filtered_pgp.dump(\"pgp_filtered.pkl\")"
   ]
  },
  {
   "cell_type": "code",
   "execution_count": 61,
   "metadata": {
    "collapsed": true
   },
   "outputs": [],
   "source": [
    "# writes the binary list to a csv file\n",
    "\n",
    "import csv\n",
    "l = list(map(str, bnry))\n",
    "\n",
    "out = open('bnry.csv', 'w')\n",
    "for row in l:\n",
    "    for column in row:\n",
    "        out.write(column)\n",
    "    out.write('\\n')\n",
    "out.close()"
   ]
  },
  {
   "cell_type": "code",
   "execution_count": null,
   "metadata": {
    "collapsed": true
   },
   "outputs": [],
   "source": [
    "# USELESS FROM OLDER VERSION\n",
    "\n",
    "\n",
    "# writes formatted csv\n",
    "\n",
    "import csv \n",
    "with open(\"pgp_hand.csv\", newline='') as inp:\n",
    "    reader = csv.DictReader(inp)\n",
    "    k = 0\n",
    "    for row in reader:\n",
    "        if row['name'] in hand_names and 'hand' in row['condition']:\n",
    "            print('Name:', row['name'], 'Condition:', row['condition'])\n",
    "            k += 1\n",
    "    #print(k)\n",
    "\n"
   ]
  }
 ],
 "metadata": {
  "kernelspec": {
   "display_name": "Python 3",
   "language": "python",
   "name": "python3"
  },
  "language_info": {
   "codemirror_mode": {
    "name": "ipython",
    "version": 3
   },
   "file_extension": ".py",
   "mimetype": "text/x-python",
   "name": "python",
   "nbconvert_exporter": "python",
   "pygments_lexer": "ipython3",
   "version": "3.6.1"
  }
 },
 "nbformat": 4,
 "nbformat_minor": 2
}
