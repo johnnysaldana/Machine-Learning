{
 "cells": [
  {
   "cell_type": "code",
   "execution_count": 4,
   "metadata": {
    "collapsed": true
   },
   "outputs": [],
   "source": [
    "# package\n",
    "import numpy as np\n",
    "import pandas as pd\n",
    "import matplotlib.pyplot as plt"
   ]
  },
  {
   "cell_type": "code",
   "execution_count": 5,
   "metadata": {},
   "outputs": [
    {
     "name": "stdout",
     "output_type": "stream",
     "text": [
      "        name   r   g   b  hue  saturation  value\n",
      "0   hu826751  62  59  51   44          10     22\n",
      "1   hu3DC5EA  52  38  23   31          39     15\n",
      "2   hu0D1FA1  55  57  60  216           4     23\n",
      "3   huAEADC0  68  70  69  150           1     27\n",
      "4   hu2D6140  55  57  60  216           4     23\n",
      "5   hu2C1D94  88  86  77   49           7     32\n",
      "6   huB1FD55  62  45  26   32          41     17\n",
      "7   hu60180F  24  13   9   16          45      6\n",
      "8   huDE435D  47  48  53  230           6     20\n",
      "9   huA05317  52  36  21   29          42     14\n",
      "10  hu6C733E  55  57  60  216           4     23\n",
      "11  huDBF9DD  37  22  14   21          45     10\n",
      "12  hu034DB1  71  69  56   52          12     25\n",
      "13  hu0E64A1  67  69  72  216           4     27\n",
      "14  hu627574  71  69  56   52          12     25\n",
      "15  hu7123C1  67  69  72  216           4     27\n",
      "16  huC14AE1  67  69  72  216           4     27\n",
      "17  hu76CAA5  71  69  56   52          12     25\n",
      "18  huF83462  71  69  56   52          12     25\n",
      "19  huC5733C  67  69  72  216           4     27\n",
      "20  hu5962F5  71  69  56   52          12     25\n",
      "21  huF80F84  62  59  51   44          10     22\n",
      "22  hu04F220  49  25  13   20          58     12\n",
      "23  huDBD591  55  57  60  216           4     23\n",
      "24  hu599905  71  69  56   52          12     25\n",
      "25  hu3CAB43  55  57  60  216           4     23\n",
      "26  hu5E55F5  48  48  48  180           0     19\n",
      "27  hu26B551  55  57  60  216           4     23\n",
      "28  hu5CD2C6  49  25  13   20          58     12\n",
      "29  huA4E2CF  44  25  14   22          52     11\n",
      "..       ...  ..  ..  ..  ...         ...    ...\n",
      "48  huEDF7DA  24  13   9   16          45      6\n",
      "49  hu4040B8  52  36  21   29          42     14\n",
      "50  huCBDC6D  38  42  46  210          10     16\n",
      "51  huD649F1  57  53  46   38          11     20\n",
      "52  hu925B56  88  86  77   49           7     32\n",
      "53  hu016B28  24  13   9   16          45      6\n",
      "54  hu79F922  59  60  58   90           2     23\n",
      "55  huF160AA  71  69  56   52          12     25\n",
      "56  hu4FE0D1  48  48  48  180           0     19\n",
      "57  hu52B7E5  62  45  26   32          41     17\n",
      "58  hu9E6329  44  25  14   22          52     11\n",
      "59  huAFA81C  52  38  23   31          39     15\n",
      "60  huFE71F3  71  69  56   52          12     25\n",
      "61  hu7A2F1D  49  51  59  228           9     21\n",
      "62  huC92BC9  44  25  14   22          52     11\n",
      "63  hu955EE1  44  25  14   22          52     11\n",
      "64  hu868880  52  36  21   29          42     14\n",
      "65  hu60AB7C  62  45  26   32          41     17\n",
      "66  hu470099  62  45  26   32          41     17\n",
      "67  hu1187FF  88  86  77   49           7     32\n",
      "68  huA49E22  52  36  21   29          42     14\n",
      "69  hu448C4B  59  60  58   90           2     23\n",
      "70  hu72C17A  44  25  14   22          52     11\n",
      "71  hu05FD49  88  86  77   49           7     32\n",
      "72  huF5E0B6  44  25  14   22          52     11\n",
      "73  hu1F73AB  38  42  46  210          10     16\n",
      "74  hu2DBF2D  59  60  58   90           2     23\n",
      "75  hu0211D6  71  69  56   52          12     25\n",
      "76  hu0E7AAF  62  59  51   44          10     22\n",
      "77  hu040C0A  52  36  21   29          42     14\n",
      "\n",
      "[78 rows x 7 columns]\n",
      "    binary\n",
      "0        0\n",
      "1        1\n",
      "2        0\n",
      "3        0\n",
      "4        0\n",
      "5        0\n",
      "6        1\n",
      "7        1\n",
      "8        0\n",
      "9        1\n",
      "10       0\n",
      "11       1\n",
      "12       1\n",
      "13       0\n",
      "14       1\n",
      "15       0\n",
      "16       0\n",
      "17       1\n",
      "18       1\n",
      "19       0\n",
      "20       1\n",
      "21       0\n",
      "22       1\n",
      "23       0\n",
      "24       1\n",
      "25       0\n",
      "26       0\n",
      "27       0\n",
      "28       1\n",
      "29       1\n",
      "..     ...\n",
      "48       1\n",
      "49       1\n",
      "50       0\n",
      "51       0\n",
      "52       0\n",
      "53       1\n",
      "54       0\n",
      "55       1\n",
      "56       0\n",
      "57       1\n",
      "58       1\n",
      "59       1\n",
      "60       1\n",
      "61       0\n",
      "62       1\n",
      "63       1\n",
      "64       1\n",
      "65       1\n",
      "66       1\n",
      "67       0\n",
      "68       1\n",
      "69       0\n",
      "70       1\n",
      "71       0\n",
      "72       1\n",
      "73       0\n",
      "74       0\n",
      "75       1\n",
      "76       0\n",
      "77       1\n",
      "\n",
      "[78 rows x 1 columns]\n"
     ]
    }
   ],
   "source": [
    "# columnb headers\n",
    "columns = ['name', 'r', 'g', 'b', 'hue', 'saturation', 'value']\n",
    "\n",
    "# formatted pgp eye color data \n",
    "survey_data = pd.read_csv(\"data_final.csv\", names=columns) \n",
    "\n",
    "# binary list csv for categorical testing\n",
    "bnry_data = pd.read_csv(\"bnry.csv\", names=[\"binary\"])\n",
    "\n",
    "\n",
    "print(survey_data)\n",
    "print(bnry_data)\n",
    "\n",
    "#pgp_names = np.asarray"
   ]
  },
  {
   "cell_type": "code",
   "execution_count": 6,
   "metadata": {
    "collapsed": true
   },
   "outputs": [],
   "source": [
    "# load the formatted pgp numpy array\n",
    "pgp_filtered = np.load(\"pgp_filtered.pkl\")\n",
    "\n",
    "from sklearn import preprocessing\n",
    "pgp_filtered = preprocessing.scale(pgp_filtered.astype('double')) # scale the data"
   ]
  },
  {
   "cell_type": "code",
   "execution_count": 7,
   "metadata": {},
   "outputs": [
    {
     "name": "stdout",
     "output_type": "stream",
     "text": [
      "(78, 2469062)\n",
      "0      44\n",
      "1      31\n",
      "2     216\n",
      "3     150\n",
      "4     216\n",
      "5      49\n",
      "6      32\n",
      "7      16\n",
      "8     230\n",
      "9      29\n",
      "10    216\n",
      "11     21\n",
      "12     52\n",
      "13    216\n",
      "14     52\n",
      "15    216\n",
      "16    216\n",
      "17     52\n",
      "18     52\n",
      "19    216\n",
      "20     52\n",
      "21     44\n",
      "22     20\n",
      "23    216\n",
      "24     52\n",
      "25    216\n",
      "26    180\n",
      "27    216\n",
      "28     20\n",
      "29     22\n",
      "     ... \n",
      "48     16\n",
      "49     29\n",
      "50    210\n",
      "51     38\n",
      "52     49\n",
      "53     16\n",
      "54     90\n",
      "55     52\n",
      "56    180\n",
      "57     32\n",
      "58     22\n",
      "59     31\n",
      "60     52\n",
      "61    228\n",
      "62     22\n",
      "63     22\n",
      "64     29\n",
      "65     32\n",
      "66     32\n",
      "67     49\n",
      "68     29\n",
      "69     90\n",
      "70     22\n",
      "71     49\n",
      "72     22\n",
      "73    210\n",
      "74     90\n",
      "75     52\n",
      "76     44\n",
      "77     29\n",
      "Name: hue, Length: 78, dtype: int64\n"
     ]
    }
   ],
   "source": [
    "print(pgp_filtered.shape)\n",
    "\n",
    "print(survey_data[\"hue\"])\n"
   ]
  },
  {
   "cell_type": "code",
   "execution_count": 8,
   "metadata": {},
   "outputs": [
    {
     "ename": "NameError",
     "evalue": "name 'svc_test' is not defined",
     "output_type": "error",
     "traceback": [
      "\u001b[1;31m---------------------------------------------------------------------------\u001b[0m",
      "\u001b[1;31mNameError\u001b[0m                                 Traceback (most recent call last)",
      "\u001b[1;32m<ipython-input-8-f546579c138b>\u001b[0m in \u001b[0;36m<module>\u001b[1;34m()\u001b[0m\n\u001b[0;32m      3\u001b[0m \u001b[1;32mfrom\u001b[0m \u001b[0msklearn\u001b[0m\u001b[1;33m.\u001b[0m\u001b[0mmetrics\u001b[0m \u001b[1;32mimport\u001b[0m \u001b[0maccuracy_score\u001b[0m\u001b[1;33m,\u001b[0m \u001b[0mconfusion_matrix\u001b[0m\u001b[1;33m\u001b[0m\u001b[0m\n\u001b[0;32m      4\u001b[0m \u001b[1;33m\u001b[0m\u001b[0m\n\u001b[1;32m----> 5\u001b[1;33m \u001b[0meye_pred\u001b[0m \u001b[1;33m=\u001b[0m \u001b[0msvc_test\u001b[0m\u001b[1;33m.\u001b[0m\u001b[0mpredict\u001b[0m\u001b[1;33m(\u001b[0m\u001b[0mpgp_filtered\u001b[0m\u001b[1;33m)\u001b[0m\u001b[1;33m\u001b[0m\u001b[0m\n\u001b[0m\u001b[0;32m      6\u001b[0m \u001b[1;33m\u001b[0m\u001b[0m\n\u001b[0;32m      7\u001b[0m \u001b[0maccuracy_score\u001b[0m\u001b[1;33m(\u001b[0m\u001b[0mbnry_data\u001b[0m\u001b[1;33m,\u001b[0m \u001b[0meye_pred\u001b[0m\u001b[1;33m)\u001b[0m\u001b[1;33m\u001b[0m\u001b[0m\n",
      "\u001b[1;31mNameError\u001b[0m: name 'svc_test' is not defined"
     ]
    }
   ],
   "source": [
    "from sklearn.svm import LinearSVC\n",
    "from sklearn.model_selection import cross_val_score, train_test_split, LeaveOneOut\n",
    "from sklearn.metrics import accuracy_score, confusion_matrix\n",
    "\n",
    "eye_pred = svc_test.predict(pgp_filtered)\n",
    "\n",
    "accuracy_score(bnry_data, eye_pred)"
   ]
  },
  {
   "cell_type": "code",
   "execution_count": 19,
   "metadata": {},
   "outputs": [
    {
     "name": "stdout",
     "output_type": "stream",
     "text": [
      "[LibSVM]-0.0824084471062\n"
     ]
    },
    {
     "data": {
      "text/plain": [
       "\"    \\nsvc_test = LinearSVC(penalty='l1', class_weight='balanced', \\n                         C=.04, dual=False, verbose=1, max_iter=1500)\\nX_train, X_test, y_train, y_test = train_test_split(knownData, leftEyeNameList, \\n                                                    test_size=.2, random_state=5)\\n                                                    \\n\""
      ]
     },
     "execution_count": 19,
     "metadata": {},
     "output_type": "execute_result"
    }
   ],
   "source": [
    "# the actual machine learning\n",
    "\n",
    "from sklearn.svm import SVR\n",
    "from sklearn.model_selection import cross_val_score, train_test_split\n",
    "from sklearn.metrics import r2_score, confusion_matrix\n",
    "\n",
    "X = pgp_filtered #np.sort(5 * np.random.rand(40, 1), axis=0)\n",
    "y = survey_data[\"hue\"]#np.sin(X).ravel()\n",
    "\n",
    "#svr_rbf = SVR(kernel='rbf', C=1, gamma=0.1)\n",
    "svr_lin = SVR(kernel='linear', C=.1, verbose=1)\n",
    "#svr_poly = SVR(kernel='poly', C=1, degree=3)\n",
    "#y_rbf = svr_rbf.fit(X, y)\n",
    "#y_lin = svr_lin.fit(X, y)\n",
    "#y_poly = svr_poly.fit(X, y)\n",
    "\n",
    "X_train, X_test, y_train, y_test = train_test_split(X, y, test_size=.2, random_state=1)\n",
    "\n",
    "svr_lin.fit(X_train, y_train)\n",
    "\n",
    "y_pred = svr_lin.predict(X_test)\n",
    "print(r2_score(y_test, y_pred))\n",
    "\n",
    "#lw = 2\n",
    "#plt.scatter(X, y, color='darkorange', label='data')\n",
    "#plt.hold('on')\n",
    "#plt.plot(X, y_rbf, color='navy', lw=lw, label='RBF model')\n",
    "#plt.plot(X, y_lin, color='c', lw=lw, label='Linear model')\n",
    "#plt.plot(X, y_poly, color='cornflowerblue', lw=lw, label='Polynomial model')\n",
    "#plt.xlabel('data')\n",
    "#plt.ylabel('target')\n",
    "#plt.title('Support Vector Regression')\n",
    "#plt.legend()\n",
    "#plt.show()\n",
    "\n",
    "                          \n"
   ]
  },
  {
   "cell_type": "code",
   "execution_count": 20,
   "metadata": {},
   "outputs": [
    {
     "ename": "ValueError",
     "evalue": "cannot reshape array of size 192586836 into shape (78,192586836)",
     "output_type": "error",
     "traceback": [
      "\u001b[1;31m---------------------------------------------------------------------------\u001b[0m",
      "\u001b[1;31mValueError\u001b[0m                                Traceback (most recent call last)",
      "\u001b[1;32m<ipython-input-20-b4fe3ec55b85>\u001b[0m in \u001b[0;36m<module>\u001b[1;34m()\u001b[0m\n\u001b[0;32m      6\u001b[0m \u001b[0mX\u001b[0m \u001b[1;33m=\u001b[0m \u001b[0mpgp_filtered\u001b[0m \u001b[1;31m#np.sort(5 * np.random.rand(40, 1), axis=0)\u001b[0m\u001b[1;33m\u001b[0m\u001b[0m\n\u001b[0;32m      7\u001b[0m \u001b[1;33m\u001b[0m\u001b[0m\n\u001b[1;32m----> 8\u001b[1;33m \u001b[0mX\u001b[0m \u001b[1;33m=\u001b[0m \u001b[0mX\u001b[0m\u001b[1;33m.\u001b[0m\u001b[0mreshape\u001b[0m\u001b[1;33m(\u001b[0m\u001b[1;36m78\u001b[0m\u001b[1;33m,\u001b[0m\u001b[1;36m192586836\u001b[0m\u001b[1;33m)\u001b[0m\u001b[1;33m\u001b[0m\u001b[0m\n\u001b[0m\u001b[0;32m      9\u001b[0m \u001b[0my\u001b[0m \u001b[1;33m=\u001b[0m \u001b[0msurvey_data\u001b[0m\u001b[1;33m[\u001b[0m\u001b[1;34m\"hue\"\u001b[0m\u001b[1;33m]\u001b[0m\u001b[1;31m#np.sin(X).ravel()\u001b[0m\u001b[1;33m\u001b[0m\u001b[0m\n\u001b[0;32m     10\u001b[0m \u001b[1;33m\u001b[0m\u001b[0m\n",
      "\u001b[1;31mValueError\u001b[0m: cannot reshape array of size 192586836 into shape (78,192586836)"
     ]
    }
   ],
   "source": [
    "from sklearn.svm import LinearSVC\n",
    "from sklearn import linear_model\n",
    "from sklearn.model_selection import cross_val_score, train_test_split, LeaveOneOut\n",
    "from sklearn.metrics import accuracy_score, confusion_matrix\n",
    "\n",
    "X = pgp_filtered #np.sort(5 * np.random.rand(40, 1), axis=0)\n",
    "\n",
    "#X = X.reshape(78,192586836)\n",
    "y = survey_data[\"hue\"]#np.sin(X).ravel()\n",
    "\n",
    "clf = linear_model.Lasso()\n",
    "\n",
    "clf.fit(X, y)\n",
    "\n",
    "X_train, X_test, y_train, y_test = train_test_split(X, y, test_size=.2, random_state=1)\n",
    "\n",
    "clf.fit(X_train, y_train)\n",
    "\n",
    "y_pred = clf.predict(X_test)\n",
    "\n"
   ]
  },
  {
   "cell_type": "code",
   "execution_count": 13,
   "metadata": {},
   "outputs": [
    {
     "name": "stdout",
     "output_type": "stream",
     "text": [
      "-0.262555373593\n"
     ]
    }
   ],
   "source": [
    "from sklearn.metrics import r2_score, confusion_matrix\n",
    "print(r2_score(y_test, y_pred))"
   ]
  },
  {
   "cell_type": "code",
   "execution_count": 8,
   "metadata": {},
   "outputs": [
    {
     "name": "stdout",
     "output_type": "stream",
     "text": [
      "1.0\n",
      "0.5\n",
      "0.666666666667\n",
      "0.75\n",
      "0.8\n",
      "0.666666666667\n",
      "0.714285714286\n",
      "0.75\n",
      "0.777777777778\n",
      "0.8\n",
      "0.818181818182\n",
      "0.833333333333\n",
      "0.769230769231\n",
      "0.785714285714\n",
      "0.8\n",
      "0.8125\n",
      "0.823529411765\n",
      "0.833333333333\n",
      "0.789473684211\n",
      "0.8\n",
      "0.761904761905\n",
      "0.772727272727\n",
      "0.739130434783\n",
      "0.75\n",
      "0.76\n",
      "0.769230769231\n",
      "0.777777777778\n",
      "0.785714285714\n"
     ]
    },
    {
     "ename": "KeyboardInterrupt",
     "evalue": "",
     "output_type": "error",
     "traceback": [
      "\u001b[1;31m---------------------------------------------------------------------------\u001b[0m",
      "\u001b[1;31mKeyboardInterrupt\u001b[0m                         Traceback (most recent call last)",
      "\u001b[1;32m<ipython-input-8-a41d8de6235b>\u001b[0m in \u001b[0;36m<module>\u001b[1;34m()\u001b[0m\n\u001b[0;32m     13\u001b[0m     svc_test = LinearSVC(penalty='l1', class_weight='balanced', \n\u001b[0;32m     14\u001b[0m                          C=.06, dual=False, max_iter=5000)\n\u001b[1;32m---> 15\u001b[1;33m     \u001b[0msvc_test\u001b[0m\u001b[1;33m.\u001b[0m\u001b[0mfit\u001b[0m\u001b[1;33m(\u001b[0m\u001b[0mX_train\u001b[0m\u001b[1;33m,\u001b[0m \u001b[0my_train\u001b[0m\u001b[1;33m.\u001b[0m\u001b[0mravel\u001b[0m\u001b[1;33m(\u001b[0m\u001b[1;33m)\u001b[0m\u001b[1;33m)\u001b[0m\u001b[1;33m\u001b[0m\u001b[0m\n\u001b[0m\u001b[0;32m     16\u001b[0m     \u001b[0my_pred\u001b[0m \u001b[1;33m=\u001b[0m \u001b[0msvc_test\u001b[0m\u001b[1;33m.\u001b[0m\u001b[0mpredict\u001b[0m\u001b[1;33m(\u001b[0m\u001b[0mX_test\u001b[0m\u001b[1;33m)\u001b[0m\u001b[1;33m\u001b[0m\u001b[0m\n\u001b[0;32m     17\u001b[0m     \u001b[0mscores\u001b[0m\u001b[1;33m.\u001b[0m\u001b[0mappend\u001b[0m\u001b[1;33m(\u001b[0m\u001b[0maccuracy_score\u001b[0m\u001b[1;33m(\u001b[0m\u001b[0my_test\u001b[0m\u001b[1;33m,\u001b[0m \u001b[0my_pred\u001b[0m\u001b[1;33m)\u001b[0m\u001b[1;33m)\u001b[0m\u001b[1;33m\u001b[0m\u001b[0m\n",
      "\u001b[1;32mC:\\Users\\j\\Anaconda3\\lib\\site-packages\\sklearn\\svm\\classes.py\u001b[0m in \u001b[0;36mfit\u001b[1;34m(self, X, y, sample_weight)\u001b[0m\n\u001b[0;32m    213\u001b[0m             \u001b[0mself\u001b[0m\u001b[1;33m.\u001b[0m\u001b[0mclass_weight\u001b[0m\u001b[1;33m,\u001b[0m \u001b[0mself\u001b[0m\u001b[1;33m.\u001b[0m\u001b[0mpenalty\u001b[0m\u001b[1;33m,\u001b[0m \u001b[0mself\u001b[0m\u001b[1;33m.\u001b[0m\u001b[0mdual\u001b[0m\u001b[1;33m,\u001b[0m \u001b[0mself\u001b[0m\u001b[1;33m.\u001b[0m\u001b[0mverbose\u001b[0m\u001b[1;33m,\u001b[0m\u001b[1;33m\u001b[0m\u001b[0m\n\u001b[0;32m    214\u001b[0m             \u001b[0mself\u001b[0m\u001b[1;33m.\u001b[0m\u001b[0mmax_iter\u001b[0m\u001b[1;33m,\u001b[0m \u001b[0mself\u001b[0m\u001b[1;33m.\u001b[0m\u001b[0mtol\u001b[0m\u001b[1;33m,\u001b[0m \u001b[0mself\u001b[0m\u001b[1;33m.\u001b[0m\u001b[0mrandom_state\u001b[0m\u001b[1;33m,\u001b[0m \u001b[0mself\u001b[0m\u001b[1;33m.\u001b[0m\u001b[0mmulti_class\u001b[0m\u001b[1;33m,\u001b[0m\u001b[1;33m\u001b[0m\u001b[0m\n\u001b[1;32m--> 215\u001b[1;33m             self.loss, sample_weight=sample_weight)\n\u001b[0m\u001b[0;32m    216\u001b[0m \u001b[1;33m\u001b[0m\u001b[0m\n\u001b[0;32m    217\u001b[0m         \u001b[1;32mif\u001b[0m \u001b[0mself\u001b[0m\u001b[1;33m.\u001b[0m\u001b[0mmulti_class\u001b[0m \u001b[1;33m==\u001b[0m \u001b[1;34m\"crammer_singer\"\u001b[0m \u001b[1;32mand\u001b[0m \u001b[0mlen\u001b[0m\u001b[1;33m(\u001b[0m\u001b[0mself\u001b[0m\u001b[1;33m.\u001b[0m\u001b[0mclasses_\u001b[0m\u001b[1;33m)\u001b[0m \u001b[1;33m==\u001b[0m \u001b[1;36m2\u001b[0m\u001b[1;33m:\u001b[0m\u001b[1;33m\u001b[0m\u001b[0m\n",
      "\u001b[1;32mC:\\Users\\j\\Anaconda3\\lib\\site-packages\\sklearn\\svm\\base.py\u001b[0m in \u001b[0;36m_fit_liblinear\u001b[1;34m(X, y, C, fit_intercept, intercept_scaling, class_weight, penalty, dual, verbose, max_iter, tol, random_state, multi_class, loss, epsilon, sample_weight)\u001b[0m\n\u001b[0;32m    910\u001b[0m         \u001b[0mX\u001b[0m\u001b[1;33m,\u001b[0m \u001b[0my_ind\u001b[0m\u001b[1;33m,\u001b[0m \u001b[0msp\u001b[0m\u001b[1;33m.\u001b[0m\u001b[0misspmatrix\u001b[0m\u001b[1;33m(\u001b[0m\u001b[0mX\u001b[0m\u001b[1;33m)\u001b[0m\u001b[1;33m,\u001b[0m \u001b[0msolver_type\u001b[0m\u001b[1;33m,\u001b[0m \u001b[0mtol\u001b[0m\u001b[1;33m,\u001b[0m \u001b[0mbias\u001b[0m\u001b[1;33m,\u001b[0m \u001b[0mC\u001b[0m\u001b[1;33m,\u001b[0m\u001b[1;33m\u001b[0m\u001b[0m\n\u001b[0;32m    911\u001b[0m         \u001b[0mclass_weight_\u001b[0m\u001b[1;33m,\u001b[0m \u001b[0mmax_iter\u001b[0m\u001b[1;33m,\u001b[0m \u001b[0mrnd\u001b[0m\u001b[1;33m.\u001b[0m\u001b[0mrandint\u001b[0m\u001b[1;33m(\u001b[0m\u001b[0mnp\u001b[0m\u001b[1;33m.\u001b[0m\u001b[0miinfo\u001b[0m\u001b[1;33m(\u001b[0m\u001b[1;34m'i'\u001b[0m\u001b[1;33m)\u001b[0m\u001b[1;33m.\u001b[0m\u001b[0mmax\u001b[0m\u001b[1;33m)\u001b[0m\u001b[1;33m,\u001b[0m\u001b[1;33m\u001b[0m\u001b[0m\n\u001b[1;32m--> 912\u001b[1;33m         epsilon, sample_weight)\n\u001b[0m\u001b[0;32m    913\u001b[0m     \u001b[1;31m# Regarding rnd.randint(..) in the above signature:\u001b[0m\u001b[1;33m\u001b[0m\u001b[1;33m\u001b[0m\u001b[0m\n\u001b[0;32m    914\u001b[0m     \u001b[1;31m# seed for srand in range [0..INT_MAX); due to limitations in Numpy\u001b[0m\u001b[1;33m\u001b[0m\u001b[1;33m\u001b[0m\u001b[0m\n",
      "\u001b[1;31mKeyboardInterrupt\u001b[0m: "
     ]
    }
   ],
   "source": [
    "# the actual machine learning\n",
    "\n",
    "from sklearn.svm import LinearSVC\n",
    "from sklearn.model_selection import cross_val_score, train_test_split, LeaveOneOut\n",
    "from sklearn.metrics import accuracy_score, confusion_matrix\n",
    "\n",
    "loo = LeaveOneOut()\n",
    "bnry_data = np.asarray(bnry_data)\n",
    "scores = []\n",
    "for train_index, test_index in loo.split(pgp_filtered):\n",
    "    X_train, X_test = pgp_filtered[train_index], pgp_filtered[test_index]\n",
    "    y_train, y_test = bnry_data[train_index], bnry_data[test_index]\n",
    "    svc_test = LinearSVC(penalty='l1', class_weight='balanced', \n",
    "                         C=.06, dual=False, max_iter=5000)\n",
    "    svc_test.fit(X_train, y_train.ravel())\n",
    "    y_pred = svc_test.predict(X_test)\n",
    "    scores.append(accuracy_score(y_test, y_pred))\n",
    "    print(np.mean(np.asarray(scores)))\n",
    "   # print \" Iteration: \" + str(counter)\n",
    "    #counter += 1\n",
    "    \n",
    "print(np.mean(np.asarray(scores)))\n",
    "\n",
    "\n",
    "'''\n",
    "svc_test = LinearSVC(penalty='l1', class_weight='balanced', \n",
    "                         C=.04, dual=False, verbose=1, max_iter=1500)\n",
    "X_train, X_test, y_train, y_test = train_test_split(X, y, test_size=.1) #, random_state=5)\n",
    "svc_test.fit(X_train, y_train)\n",
    "y_pred = svc_test.predict(X_test)\n",
    "\n",
    "print(accuracy_score(y_test, y_pred))\n",
    "'''\n"
   ]
  },
  {
   "cell_type": "code",
   "execution_count": 13,
   "metadata": {},
   "outputs": [
    {
     "name": "stdout",
     "output_type": "stream",
     "text": [
      "[ 83.45148105  82.58255791  80.60443672  80.3541011   83.25071197\n",
      "  80.83727451  79.75166972  81.89346866]\n",
      "14     52\n",
      "12     52\n",
      "32     32\n",
      "71     49\n",
      "61    228\n",
      "25    216\n",
      "64     29\n",
      "27    216\n",
      "Name: hue, dtype: int64\n"
     ]
    }
   ],
   "source": [
    "print(y_pred)\n",
    "print(y_test)"
   ]
  },
  {
   "cell_type": "code",
   "execution_count": 16,
   "metadata": {},
   "outputs": [
    {
     "name": "stdout",
     "output_type": "stream",
     "text": [
      "{'C': 1, 'cache_size': 200, 'coef0': 0.0, 'degree': 3, 'epsilon': 0.1, 'gamma': 'auto', 'kernel': 'linear', 'max_iter': -1, 'shrinking': True, 'tol': 0.001, 'verbose': False}\n"
     ]
    }
   ],
   "source": [
    "print(svr_lin.get_params())"
   ]
  },
  {
   "cell_type": "code",
   "execution_count": 23,
   "metadata": {},
   "outputs": [
    {
     "data": {
      "text/plain": [
       "LinearSVC(C=0.06, class_weight='balanced', dual=False, fit_intercept=True,\n",
       "     intercept_scaling=1, loss='squared_hinge', max_iter=5000,\n",
       "     multi_class='ovr', penalty='l1', random_state=None, tol=0.0001,\n",
       "     verbose=0)"
      ]
     },
     "execution_count": 23,
     "metadata": {},
     "output_type": "execute_result"
    }
   ],
   "source": [
    "svc = LinearSVC(penalty='l1', class_weight='balanced', \n",
    "                         C=.06, dual=False, max_iter=5000)\n",
    "\n",
    "svc.fit(pgp_filtered, bnry_data.ravel())"
   ]
  },
  {
   "cell_type": "code",
   "execution_count": null,
   "metadata": {
    "collapsed": true
   },
   "outputs": [],
   "source": [
    "coefs = svc.coef_[0]\n",
    "nonzeroes = np.nonzero(coefs)\n",
    "vals = zip(coefs[nonzeroes], nonzeroes)\n",
    "print(vals)"
   ]
  },
  {
   "cell_type": "code",
   "execution_count": 45,
   "metadata": {},
   "outputs": [
    {
     "data": {
      "text/plain": [
       "1519732"
      ]
     },
     "execution_count": 45,
     "metadata": {},
     "output_type": "execute_result"
    }
   ],
   "source": [
    "nonzeroes[0][39]"
   ]
  },
  {
   "cell_type": "code",
   "execution_count": 40,
   "metadata": {},
   "outputs": [
    {
     "data": {
      "text/plain": [
       "array([ 0.,  0.,  0., ...,  0.,  0.,  0.])"
      ]
     },
     "execution_count": 40,
     "metadata": {},
     "output_type": "execute_result"
    }
   ],
   "source": []
  },
  {
   "cell_type": "code",
   "execution_count": null,
   "metadata": {
    "collapsed": true
   },
   "outputs": [],
   "source": []
  }
 ],
 "metadata": {
  "kernelspec": {
   "display_name": "Python 3",
   "language": "python",
   "name": "python3"
  },
  "language_info": {
   "codemirror_mode": {
    "name": "ipython",
    "version": 3
   },
   "file_extension": ".py",
   "mimetype": "text/x-python",
   "name": "python",
   "nbconvert_exporter": "python",
   "pygments_lexer": "ipython3",
   "version": "3.6.1"
  }
 },
 "nbformat": 4,
 "nbformat_minor": 2
}
