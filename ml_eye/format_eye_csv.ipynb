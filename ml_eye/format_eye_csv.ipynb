{
 "cells": [
  {
   "cell_type": "code",
   "execution_count": 1,
   "metadata": {},
   "outputs": [
    {
     "ename": "NameError",
     "evalue": "name 'np' is not defined",
     "output_type": "error",
     "traceback": [
      "\u001b[1;31m---------------------------------------------------------------------------\u001b[0m",
      "\u001b[1;31mNameError\u001b[0m                                 Traceback (most recent call last)",
      "\u001b[1;32m<ipython-input-1-7d87b652e6e5>\u001b[0m in \u001b[0;36m<module>\u001b[1;34m()\u001b[0m\n\u001b[0;32m      1\u001b[0m \u001b[1;31m# loads the tiled genome name file\u001b[0m\u001b[1;33m\u001b[0m\u001b[1;33m\u001b[0m\u001b[0m\n\u001b[0;32m      2\u001b[0m \u001b[1;33m\u001b[0m\u001b[0m\n\u001b[1;32m----> 3\u001b[1;33m \u001b[0marr\u001b[0m \u001b[1;33m=\u001b[0m \u001b[0mnp\u001b[0m\u001b[1;33m.\u001b[0m\u001b[0mload\u001b[0m\u001b[1;33m(\u001b[0m\u001b[1;34m'names.npy'\u001b[0m\u001b[1;33m)\u001b[0m\u001b[1;33m\u001b[0m\u001b[0m\n\u001b[0m\u001b[0;32m      4\u001b[0m \u001b[0marrlst\u001b[0m \u001b[1;33m=\u001b[0m \u001b[0mnp\u001b[0m\u001b[1;33m.\u001b[0m\u001b[0mndarray\u001b[0m\u001b[1;33m.\u001b[0m\u001b[0mtolist\u001b[0m\u001b[1;33m(\u001b[0m\u001b[0marr\u001b[0m\u001b[1;33m)\u001b[0m\u001b[1;33m\u001b[0m\u001b[0m\n\u001b[0;32m      5\u001b[0m \u001b[1;33m\u001b[0m\u001b[0m\n",
      "\u001b[1;31mNameError\u001b[0m: name 'np' is not defined"
     ]
    }
   ],
   "source": [
    "# loads the tiled genome name file\n",
    "\n",
    "\n",
    "arr = np.load('names.npy')\n",
    "arrlst = np.ndarray.tolist(arr)\n",
    "\n",
    "# formats the tile \n",
    "\n",
    "def format(npint):\n",
    "    s = \"\"\n",
    "    string = str(npint)\n",
    "    for char in range(len(string)):\n",
    "        if string[char] == \"-\":\n",
    "            break\n",
    "        elif string[char] != \"b\" and string[char] != \"'\":\n",
    "            s += string[char]\n",
    "        else:\n",
    "            pass\n",
    "    return s"
   ]
  },
  {
   "cell_type": "code",
   "execution_count": 6,
   "metadata": {},
   "outputs": [
    {
     "name": "stdout",
     "output_type": "stream",
     "text": [
      "218\n"
     ]
    }
   ],
   "source": [
    "# runs formatting on all names\n",
    "\n",
    "def formatall():\n",
    "\n",
    "    tiled_partic = [] \n",
    "    for i in range(len(arrlst)):\n",
    "        tiled_partic.append(format(arrlst[i]))\n",
    "        \n",
    "    return tiled_partic\n",
    "\n",
    "\n",
    "\n",
    "tiled_names = formatall()\n",
    "\n",
    "print(len(tiled_names))"
   ]
  },
  {
   "cell_type": "code",
   "execution_count": 7,
   "metadata": {},
   "outputs": [
    {
     "name": "stdout",
     "output_type": "stream",
     "text": [
      "862\n"
     ]
    }
   ],
   "source": [
    "# opens the PGP survey and dumps the participant list filtering non responses and duplicates\n",
    " \n",
    "def removedoubles(seq):\n",
    "    seen = set()\n",
    "    seen_add = seen.add\n",
    "    return [x for x in seq if not (x in seen or seen_add(x))]\n",
    "\n",
    "import csv \n",
    "\n",
    "\n",
    "with open('pgp_eye.csv', newline='') as eye:\n",
    "    reader = csv.DictReader(eye)\n",
    "    eye_names = []\n",
    "    for row in reader:\n",
    "        if row[\"left\"] is not \"\":\n",
    "            eye_names.append(row['name'])\n",
    "        else:\n",
    "            pass\n",
    "repeat_tiles = [x for x in eye_names if x in tiled_names]\n",
    "eye_names = removedoubles(eye_names)        \n",
    "print(len(eye_names))\n",
    "\n"
   ]
  },
  {
   "cell_type": "code",
   "execution_count": 8,
   "metadata": {},
   "outputs": [
    {
     "ename": "NameError",
     "evalue": "name 'tiled_and_eyecolorunfil' is not defined",
     "output_type": "error",
     "traceback": [
      "\u001b[1;31m---------------------------------------------------------------------------\u001b[0m",
      "\u001b[1;31mNameError\u001b[0m                                 Traceback (most recent call last)",
      "\u001b[1;32m<ipython-input-8-f615e982b15a>\u001b[0m in \u001b[0;36m<module>\u001b[1;34m()\u001b[0m\n\u001b[0;32m      3\u001b[0m \u001b[0mseen\u001b[0m \u001b[1;33m=\u001b[0m \u001b[0mset\u001b[0m\u001b[1;33m(\u001b[0m\u001b[1;33m)\u001b[0m\u001b[1;33m\u001b[0m\u001b[0m\n\u001b[0;32m      4\u001b[0m \u001b[0mrepeats\u001b[0m \u001b[1;33m=\u001b[0m \u001b[1;33m[\u001b[0m\u001b[1;33m]\u001b[0m\u001b[1;33m\u001b[0m\u001b[0m\n\u001b[1;32m----> 5\u001b[1;33m \u001b[1;32mfor\u001b[0m \u001b[0mx\u001b[0m \u001b[1;32min\u001b[0m \u001b[0mtiled_and_eyecolorunfil\u001b[0m\u001b[1;33m:\u001b[0m\u001b[1;33m\u001b[0m\u001b[0m\n\u001b[0m\u001b[0;32m      6\u001b[0m     \u001b[1;32mif\u001b[0m \u001b[0mx\u001b[0m \u001b[1;32min\u001b[0m \u001b[0mseen\u001b[0m\u001b[1;33m:\u001b[0m\u001b[1;33m\u001b[0m\u001b[0m\n\u001b[0;32m      7\u001b[0m         \u001b[0mrepeats\u001b[0m\u001b[1;33m.\u001b[0m\u001b[0mappend\u001b[0m\u001b[1;33m(\u001b[0m\u001b[0mx\u001b[0m\u001b[1;33m)\u001b[0m\u001b[1;33m\u001b[0m\u001b[0m\n",
      "\u001b[1;31mNameError\u001b[0m: name 'tiled_and_eyecolorunfil' is not defined"
     ]
    }
   ],
   "source": [
    "# finds and prints duplicate values in a list\n",
    "\n",
    "seen = set()\n",
    "repeats = []\n",
    "for x in tiled_and_eyecolorunfil:\n",
    "    if x in seen:\n",
    "        repeats.append(x)\n",
    "    else:\n",
    "        seen.add(x)"
   ]
  },
  {
   "cell_type": "code",
   "execution_count": 10,
   "metadata": {
    "scrolled": true
   },
   "outputs": [
    {
     "name": "stdout",
     "output_type": "stream",
     "text": [
      "Repeated Values:  [] Number of Repeats: 0\n",
      "PGP Eye Survey Names:  862\n",
      "Tiled Genomes 218\n",
      "Tiled and Survey Overlap:  78\n",
      "['hu826751', 'hu3DC5EA', 'hu0D1FA1', 'huAEADC0', 'hu2D6140', 'hu2C1D94', 'huB1FD55', 'hu60180F', 'huDE435D', 'huA05317', 'hu6C733E', 'huDBF9DD', 'hu034DB1', 'hu0E64A1', 'hu627574', 'hu7123C1', 'huC14AE1', 'hu76CAA5', 'huF83462', 'huC5733C', 'hu5962F5', 'huF80F84', 'hu04F220', 'huDBD591', 'hu599905', 'hu3CAB43', 'hu5E55F5', 'hu26B551', 'hu5CD2C6', 'huA4E2CF', 'hu3C0611', 'huE9B698', 'huEC6EEC', 'hu67EBB3', 'hu8E2A35', 'huB4940E', 'hu602487', 'huF1DC30', 'hu4CA5B9', 'huD3A569', 'hu43860C', 'hu4BE6F2', 'huB1488D', 'huED0F40', 'hu24C863', 'hu49F623', 'huD81F3D', 'huC434ED', 'huEDF7DA', 'hu4040B8', 'huCBDC6D', 'huD649F1', 'hu925B56', 'hu016B28', 'hu79F922', 'huF160AA', 'hu4FE0D1', 'hu52B7E5', 'hu9E6329', 'huAFA81C', 'huFE71F3', 'hu7A2F1D', 'huC92BC9', 'hu955EE1', 'hu868880', 'hu60AB7C', 'hu470099', 'hu1187FF', 'huA49E22', 'hu448C4B', 'hu72C17A', 'hu05FD49', 'huF5E0B6', 'hu1F73AB', 'hu2DBF2D', 'hu0211D6', 'hu0E7AAF', 'hu040C0A']\n"
     ]
    }
   ],
   "source": [
    "# makes a list of names that are in both the PGP survey name list and the tiled genomes list\n",
    "\n",
    "tiled_and_eyecolor = [x for x in eye_names if x in tiled_names]\n",
    "        \n",
    "print(\"Repeated Values: \",repeats, \"Number of Repeats:\", len(repeats))\n",
    "        \n",
    "print(\"PGP Eye Survey Names: \",len(eye_names))\n",
    "\n",
    "print(\"Tiled Genomes\", len(tiled_names))\n",
    "\n",
    "print(\"Tiled and Survey Overlap: \",len(tiled_and_eyecolor))\n",
    "\n",
    "print(tiled_and_eyecolor)\n",
    "\n"
   ]
  },
  {
   "cell_type": "code",
   "execution_count": null,
   "metadata": {
    "collapsed": true
   },
   "outputs": [],
   "source": [
    "# create a list of genomes sorted by blue and not blue\n",
    "\n"
   ]
  },
  {
   "cell_type": "code",
   "execution_count": null,
   "metadata": {
    "collapsed": true
   },
   "outputs": [],
   "source": []
  },
  {
   "cell_type": "code",
   "execution_count": 447,
   "metadata": {},
   "outputs": [
    {
     "name": "stdout",
     "output_type": "stream",
     "text": [
      "['44', '31', '216', '150', '216', '49', '32', '16', '230', '29', '216', '21', '52', '216', '52', '216', '216', '52', '52', '216', '52', '44', '20', '216', '52', '216', '180', '216', '20', '22', '32', '150', '32', '90', '32', '22', '216', '22', '22', '210', '44', '52', '228', '32', '20', '20', '21', '228', '16', '29', '210', '38', '49', '16', '90', '52', '180', '32', '22', '31', '52', '228', '22', '22', '29', '32', '32', '49', '29', '90', '22', '49', '22', '210', '90', '52', '44', '29']\n",
      "78\n"
     ]
    }
   ],
   "source": [
    "# functions for printing out the corresponding data values into csv files\n",
    "\n",
    "import csv \n",
    "\n",
    "# returns an item for a given row index\n",
    "def look_up_rgbr(color):\n",
    "    with open('color_database.csv', newline='') as database:\n",
    "        reader = csv.DictReader(database)\n",
    "        for row in reader:\n",
    "            if row[\"index\"] == color:\n",
    "                # change value to any other items you want like r, g, b, hue etc. to print a csv with those items\n",
    "                return(row[\"hue\"])\n",
    "            \n",
    "# gets a list of all items\n",
    "def get_rgbr_list():  \n",
    "    rgb_r = []\n",
    "    with open('pgp_simplified.csv', newline='') as eye:\n",
    "        reader = csv.DictReader(eye)\n",
    "        \n",
    "        for row in reader:\n",
    "            color = \"\"\n",
    "            if row[\"name\"] in tiled_and_eyecolor:\n",
    "                color = row[\"left\"]\n",
    "                rgb_r.append(look_up_rgbr(color))\n",
    "        return rgb_r\n",
    "\n",
    "rgbr = get_rgbr_list()\n",
    "\n",
    "print(rgbr)\n",
    "print(len(tiled_and_eyecolor))"
   ]
  },
  {
   "cell_type": "code",
   "execution_count": 451,
   "metadata": {},
   "outputs": [
    {
     "name": "stdout",
     "output_type": "stream",
     "text": [
      "[0, 1, 0, 0, 0, 0, 1, 1, 0, 1, 0, 1, 1, 0, 1, 0, 0, 1, 1, 0, 1, 0, 1, 0, 1, 0, 0, 0, 1, 1, 1, 0, 1, 0, 1, 1, 0, 1, 1, 0, 0, 1, 0, 1, 1, 1, 1, 0, 1, 1, 0, 0, 0, 1, 0, 1, 0, 1, 1, 1, 1, 0, 1, 1, 1, 1, 1, 0, 1, 0, 1, 0, 1, 0, 0, 1, 0, 1]\n"
     ]
    }
   ],
   "source": [
    "#takes in color values and converts to binary 0 and 1 where 0 is blue and 1 is not blue\n",
    "\n",
    "def to_bnry(color):\n",
    "    if color <= 11:\n",
    "        return 0\n",
    "    else:\n",
    "        return 1\n",
    "    \n",
    "def get_binary_list():  \n",
    "    bnry_list = []\n",
    "    with open('pgp_simplified.csv', newline='') as eye:\n",
    "        reader = csv.DictReader(eye)\n",
    "        \n",
    "        for row in reader:\n",
    "            color = 0\n",
    "            if row[\"name\"] in tiled_and_eyecolor:\n",
    "                color = int(row[\"left\"])\n",
    "                bnry_list.append(to_bnry(color))\n",
    "        return bnry_list\n",
    "\n",
    "bnry = get_binary_list()\n",
    "\n",
    "print(bnry)"
   ]
  },
  {
   "cell_type": "code",
   "execution_count": 436,
   "metadata": {},
   "outputs": [
    {
     "name": "stdout",
     "output_type": "stream",
     "text": [
      "count:  1 3\n",
      "count:  2 5\n",
      "count:  3 1\n",
      "count:  4 3\n",
      "count:  5 2\n",
      "count:  6 2\n",
      "count:  7 6\n",
      "count:  8 4\n",
      "count:  9 1\n",
      "count:  10 4\n",
      "count:  11 4\n",
      "count:  12 0\n",
      "count:  13 10\n",
      "count:  14 8\n",
      "count:  15 2\n",
      "count:  16 5\n",
      "count:  17 0\n",
      "count:  18 3\n",
      "count:  19 0\n",
      "count:  20 9\n",
      "count:  21 2\n",
      "count:  22 0\n",
      "count:  23 3\n",
      "count:  24 1\n"
     ]
    }
   ],
   "source": [
    "# prints out a list of color frequencies\n",
    "\n",
    "import csv \n",
    "def colorfreq():   \n",
    "    color_freq = []\n",
    "    color = 1\n",
    "    while color < 25:\n",
    "        \n",
    "        with open('pgp_simplified.csv', newline='') as eye:\n",
    "            reader = csv.DictReader(eye)\n",
    "            count = 0\n",
    "        \n",
    "            for row in reader:\n",
    "                if row[\"left\"] == str(color) and row[\"name\"] in tiled_and_eyecolor:\n",
    "                    count += 1\n",
    "                else:\n",
    "                    pass\n",
    "            \n",
    "            print(\"count: \",color, count)\n",
    "        color += 1\n",
    "        \n",
    "colorfreq()\n",
    "        "
   ]
  },
  {
   "cell_type": "code",
   "execution_count": 437,
   "metadata": {},
   "outputs": [
    {
     "name": "stdout",
     "output_type": "stream",
     "text": [
      "<class 'numpy.ndarray'>\n"
     ]
    }
   ],
   "source": [
    "# load the pgp names as numpy array\n",
    "names = np.load(\"names.npy\")\n",
    "\n",
    "print(type(names))\n",
    "\n",
    "# load the pgp genomes as numpy array\n",
    "pgp = np.load(\"hiq-pgp.npy\")"
   ]
  },
  {
   "cell_type": "code",
   "execution_count": 438,
   "metadata": {},
   "outputs": [
    {
     "data": {
      "text/plain": [
       "(78, 2469062)"
      ]
     },
     "execution_count": 438,
     "metadata": {},
     "output_type": "execute_result"
    }
   ],
   "source": [
    "# keeps only the particpants of the eye survey from the pgp array and\n",
    "# discards the rest\n",
    "\n",
    "filtered_pgp = []\n",
    "name_list = []\n",
    "for i in range(len(pgp)):\n",
    "    if format(names[i]) in  tiled_and_eyecolor and format(names[i]) not in name_list:\n",
    "        filtered_pgp.append(pgp[i])\n",
    "        name_list.append(format(names[i]))\n",
    "    else:\n",
    "        pass\n",
    "    \n",
    "filtered_pgp = np.asarray(filtered_pgp)\n",
    "\n",
    "filtered_pgp.shape\n"
   ]
  },
  {
   "cell_type": "code",
   "execution_count": 427,
   "metadata": {
    "collapsed": true
   },
   "outputs": [],
   "source": [
    "filtered_pgp.dump(\"pgp_filtered.pkl\")"
   ]
  },
  {
   "cell_type": "code",
   "execution_count": 439,
   "metadata": {
    "collapsed": true
   },
   "outputs": [],
   "source": [
    "# writes the getrgbr funtion to a csv file\n",
    "\n",
    "import csv\n",
    "l = rgbr\n",
    "\n",
    "out = open('rgbr.csv', 'w')\n",
    "for row in l:\n",
    "    for column in row:\n",
    "        out.write(column)\n",
    "    out.write('\\n')\n",
    "out.close()"
   ]
  },
  {
   "cell_type": "code",
   "execution_count": 454,
   "metadata": {
    "collapsed": true
   },
   "outputs": [],
   "source": [
    "# writes the bnry  list to a csv file\n",
    "\n",
    "import csv\n",
    "l = list(map(str, bnry))\n",
    "\n",
    "out = open('bnry.csv', 'w')\n",
    "for row in l:\n",
    "    for column in row:\n",
    "        out.write(column)\n",
    "    out.write('\\n')\n",
    "out.close()"
   ]
  }
 ],
 "metadata": {
  "kernelspec": {
   "display_name": "Python 3",
   "language": "python",
   "name": "python3"
  },
  "language_info": {
   "codemirror_mode": {
    "name": "ipython",
    "version": 3
   },
   "file_extension": ".py",
   "mimetype": "text/x-python",
   "name": "python",
   "nbconvert_exporter": "python",
   "pygments_lexer": "ipython3",
   "version": "3.6.1"
  }
 },
 "nbformat": 4,
 "nbformat_minor": 2
}
